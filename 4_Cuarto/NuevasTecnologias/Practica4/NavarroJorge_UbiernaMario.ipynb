{
 "cells": [
  {
   "cell_type": "markdown",
   "metadata": {},
   "source": [
    "# JORGE NAVARRO GONZÁLEZ - MARIO UBIERNA SAN MAMÉS\n",
    "\n",
    "## Práctica 4 - Estrategias de Vacunación"
   ]
  },
  {
   "cell_type": "code",
   "execution_count": 59,
   "metadata": {},
   "outputs": [],
   "source": [
    "#Importaciones\n",
    "import networkx as nx\n",
    "import matplotlib.pyplot as plt\n",
    "import random as random"
   ]
  },
  {
   "cell_type": "code",
   "execution_count": 8,
   "metadata": {},
   "outputs": [
    {
     "data": {
      "image/png": "[encoded data removed]",
      "text/plain": [
       "<Figure size 432x288 with 1 Axes>"
      ]
     },
     "metadata": {},
     "output_type": "display_data"
    }
   ],
   "source": [
    "#Generación del grafo\n",
    "G = nx.Graph(nombre='vacuna',tipo='no-dirigida')\n",
    "G.add_edge(\"1\",\"2\")\n",
    "G.add_edge(\"1\",\"3\")\n",
    "G.add_edge(\"1\",\"4\")\n",
    "G.add_edge(\"1\",\"5\")\n",
    "G.add_edge(\"1\",\"6\")\n",
    "G.add_edge(\"2\",\"3\")\n",
    "G.add_edge(\"2\",\"8\")\n",
    "G.add_edge(\"2\",\"9\")\n",
    "G.add_edge(\"3\",\"7\")\n",
    "nx.draw(G, with_labels = True)"
   ]
  },
  {
   "cell_type": "code",
   "execution_count": 9,
   "metadata": {},
   "outputs": [],
   "source": [
    "#Apartado 1\n",
    "\n",
    "#Vacunamos al nodo 1, ya que es el que más enlaces tiene"
   ]
  },
  {
   "cell_type": "code",
   "execution_count": 53,
   "metadata": {},
   "outputs": [
    {
     "name": "stdout",
     "output_type": "stream",
     "text": [
      "Valor Estimado: 2.00214\n"
     ]
    }
   ],
   "source": [
    "#Apartado 2\n",
    "num_vecinos = 0\n",
    "for i in range(200000):\n",
    "    #Generamos el aleatorio nodo\n",
    "    nodo_aleatorio = random.randint(1,9)\n",
    "    #Vecinos del nodo aleatorio\n",
    "    vecinos = G.neighbors(str(nodo_aleatorio))\n",
    "    #Suma de todos los vecinos de todas las iteraciones\n",
    "    num_vecinos += len([i for i in vecinos])\n",
    "\n",
    "print(\"Valor Estimado: \"+str(num_vecinos/200000))"
   ]
  },
  {
   "cell_type": "code",
   "execution_count": 56,
   "metadata": {},
   "outputs": [
    {
     "name": "stdout",
     "output_type": "stream",
     "text": [
      "Valor Estimado: 3.766475\n"
     ]
    }
   ],
   "source": [
    "#Apartado 3\n",
    "num_vecinos = 0\n",
    "for i in range(200000):\n",
    "    vecinos = []\n",
    "    vecinos_lista = []\n",
    "    #Generamos el aleatorio nodo\n",
    "    nodo_aleatorio = random.randint(1,9)\n",
    "    #Vecinos del nodo aleatorio\n",
    "    vecinos = G.neighbors(str(nodo_aleatorio))\n",
    "    vecinos_lista = [i for i in vecinos]\n",
    "    \n",
    "    #Vecino aleatorio\n",
    "    indice_vecino_aleatorio = random.randint(0, len(vecinos_lista)-1)\n",
    "    vecino_aleatorio = vecinos_lista[indice_vecino_aleatorio]\n",
    "    vecinos = G.neighbors(str(vecino_aleatorio))\n",
    "    \n",
    "    #Suma de todos los vecinos de todas las iteraciones\n",
    "    num_vecinos += len([i for i in vecinos])\n",
    "\n",
    "print(\"Valor Estimado: \"+str(num_vecinos/200000))"
   ]
  },
  {
   "cell_type": "code",
   "execution_count": null,
   "metadata": {},
   "outputs": [],
   "source": [
    "#Apartado 4\n",
    "\n",
    "#La segunda estrategia es mejor  porque tiene más media y tiene menos individuos contagiados"
   ]
  },
  {
   "cell_type": "code",
   "execution_count": 60,
   "metadata": {},
   "outputs": [
    {
     "name": "stdout",
     "output_type": "stream",
     "text": [
      "El valor teórico esperado: 2.0\n"
     ]
    }
   ],
   "source": [
    "#Apartado 5\n",
    "\n",
    "grado_sum = 0\n",
    "for nodo in G.nodes:\n",
    "    #Obtenemos el grado de cada nodo\n",
    "    grado_sum += G.degree[nodo]\n",
    "    \n",
    "print(\"El valor teórico esperado: \"+ str(grado_sum/len(G.nodes)))"
   ]
  },
  {
   "cell_type": "code",
   "execution_count": 81,
   "metadata": {},
   "outputs": [
    {
     "name": "stdout",
     "output_type": "stream",
     "text": [
      "El valor teórico esparado: 3.7592592592592595\n"
     ]
    }
   ],
   "source": [
    "#Apartado 6\n",
    "grado = 0\n",
    "for nodo in G.nodes:\n",
    "    count = 0\n",
    "    grado_sum = 0\n",
    "    for vecino in G.neighbors(nodo) :\n",
    "        count += 1\n",
    "        grado_sum += G.degree[vecino]\n",
    "    grado += grado_sum / count\n",
    "print(\"El valor teórico esparado: \" + str(grado/len(G.nodes)))"
   ]
  }
 ],
 "metadata": {
  "kernelspec": {
   "display_name": "Python 3",
   "language": "python",
   "name": "python3"
  },
  "language_info": {
   "codemirror_mode": {
    "name": "ipython",
    "version": 3
   },
   "file_extension": ".py",
   "mimetype": "text/x-python",
   "name": "python",
   "nbconvert_exporter": "python",
   "pygments_lexer": "ipython3",
   "version": "3.7.1"
  }
 },
 "nbformat": 4,
 "nbformat_minor": 2
}
