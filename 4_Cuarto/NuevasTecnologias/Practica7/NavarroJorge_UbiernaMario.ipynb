{
 "cells": [
  {
   "cell_type": "markdown",
   "metadata": {},
   "source": [
    "# JORGE NAVARRO GONZÁLEZ - MARIO UBIERNA SAN MAMÉS\n",
    "\n",
    "## Práctica 6 - Comunidades"
   ]
  },
  {
   "cell_type": "code",
   "execution_count": 163,
   "metadata": {},
   "outputs": [],
   "source": [
    "#Importaciones\n",
    "import networkx as nx\n",
    "import matplotlib.pyplot as plt\n",
    "import random as random"
   ]
  },
  {
   "cell_type": "markdown",
   "metadata": {},
   "source": [
    "### 1 - Modularidad"
   ]
  },
  {
   "cell_type": "code",
   "execution_count": 164,
   "metadata": {},
   "outputs": [
    {
     "data": {
      "image/png": "[encoded data removed]",
      "text/plain": [
       "<Figure size 432x288 with 1 Axes>"
      ]
     },
     "metadata": {},
     "output_type": "display_data"
    }
   ],
   "source": [
    "# 1.1 Creación del grafo y el diccionario\n",
    "G = nx.Graph(nombre='grafo',tipo='no-dirigida')\n",
    "G.add_edge(\"node1\",\"node3\",peso = 1)\n",
    "G.add_edge(\"node1\",\"node7\",peso = 1)\n",
    "G.add_edge(\"node3\",\"node7\",peso = 1)\n",
    "G.add_edge(\"node3\",\"node4\",peso = 1)\n",
    "G.add_edge(\"node4\",\"node5\",peso = 1)\n",
    "G.add_edge(\"node5\",\"node2\",peso = 1)\n",
    "G.add_edge(\"node2\",\"node6\",peso = 1)\n",
    "G.add_edge(\"node5\",\"node6\",peso = 1)\n",
    "G.add_edge(\"node4\",\"node8\",peso = 1)\n",
    "G.add_edge(\"node8\",\"node9\",peso = 1)\n",
    "G.add_edge(\"node8\",\"node10\",peso = 1)\n",
    "G.add_edge(\"node9\",\"node10\",peso = 1)\n",
    "nx.draw(G)\n",
    "\n",
    "dic_grafo = {'node1':'c1', \n",
    "             'node2':'c2', \n",
    "             'node3':'c1', \n",
    "             'node4':'c1', \n",
    "             'node5':'c2', \n",
    "             'node6':'c2', \n",
    "             'node7':'c1',\n",
    "             'node8':'c3', \n",
    "             'node9':'c3', \n",
    "             'node10':'c3'}"
   ]
  },
  {
   "cell_type": "code",
   "execution_count": 165,
   "metadata": {},
   "outputs": [],
   "source": [
    "def misma_comunidad(n1,n2,dic_grafo):\n",
    "    if dic_grafo[n1] == dic_grafo[n2]:\n",
    "        return 1\n",
    "    return 0"
   ]
  },
  {
   "cell_type": "code",
   "execution_count": 166,
   "metadata": {},
   "outputs": [],
   "source": [
    "# 1.1 Funcióm modularidad\n",
    "def modularidad(grafo, diccionario):\n",
    "    #Aij = nx.to_numpy_matrix(G)\n",
    "    Aij = 0\n",
    "    sumatorio = 0\n",
    "    m = grafo.number_of_edges()\n",
    "    \n",
    "    for i in diccionario.keys():\n",
    "        for j in diccionario.keys():\n",
    "            if misma_comunidad(i,j,diccionario):\n",
    "                grado_ki = grafo.degree(i)\n",
    "                grado_kj = grafo.degree(j)\n",
    "                if grafo.has_edge(i,j):\n",
    "                    Aij = grafo[i][j]['peso']\n",
    "                else:\n",
    "                    Aij = 0\n",
    "                sumatorio+=Aij-((grado_ki*grado_kj)/(2*m))\n",
    "    return (sumatorio)/(2*m)\n",
    "            "
   ]
  },
  {
   "cell_type": "code",
   "execution_count": 167,
   "metadata": {},
   "outputs": [
    {
     "name": "stdout",
     "output_type": "stream",
     "text": [
      "El valor de la modularidad del ejemplo de Wikipedia: 0.4895833333333333\n"
     ]
    }
   ],
   "source": [
    "#1.2 ejemplo wikipedia\n",
    "mod = modularidad(G,dic_grafo)\n",
    "print(\"El valor de la modularidad del ejemplo de Wikipedia: \" + str(mod))"
   ]
  },
  {
   "cell_type": "code",
   "execution_count": 168,
   "metadata": {},
   "outputs": [
    {
     "name": "stdout",
     "output_type": "stream",
     "text": [
      "Para un partición correspondiente a toda la red: -3.416070845000482e-17\n",
      "Para una partición correspondiente a cada nodo: -0.12721893491124261\n",
      "Para la partición de colores: 0.42307692307692296\n"
     ]
    },
    {
     "data": {
      "image/png": "[encoded data removed]",
      "text/plain": [
       "<Figure size 432x288 with 1 Axes>"
      ]
     },
     "metadata": {},
     "output_type": "display_data"
    }
   ],
   "source": [
    "#2 Ejemplo clase\n",
    "G = nx.Graph(nombre='grafo',tipo='no-dirigida')\n",
    "G.add_edge(\"node1\",\"node2\",peso = 1)\n",
    "G.add_edge(\"node1\",\"node3\",peso = 1)\n",
    "G.add_edge(\"node1\",\"node4\",peso = 1)\n",
    "G.add_edge(\"node2\",\"node4\",peso = 1)\n",
    "G.add_edge(\"node2\",\"node3\",peso = 1)\n",
    "G.add_edge(\"node3\",\"node4\",peso = 1)\n",
    "G.add_edge(\"node4\",\"node5\",peso = 1)\n",
    "G.add_edge(\"node5\",\"node6\",peso = 1)\n",
    "G.add_edge(\"node5\",\"node7\",peso = 1)\n",
    "G.add_edge(\"node5\",\"node8\",peso = 1)\n",
    "G.add_edge(\"node6\",\"node7\",peso = 1)\n",
    "G.add_edge(\"node6\",\"node8\",peso = 1)\n",
    "G.add_edge(\"node7\",\"node8\",peso = 1)\n",
    "nx.draw(G)\n",
    "\n",
    "#a.\n",
    "dic_grafo_a = {'node1':'c1', \n",
    "             'node2':'c1', \n",
    "             'node3':'c1', \n",
    "             'node4':'c1', \n",
    "             'node5':'c1', \n",
    "             'node6':'c1', \n",
    "             'node7':'c1',\n",
    "             'node8':'c1'}\n",
    "\n",
    "modA = modularidad(G, dic_grafo_a)\n",
    "print(\"Para un partición correspondiente a toda la red: \" + str(modA))\n",
    "\n",
    "#b.\n",
    "dic_grafo_b = {'node1':'c1', \n",
    "             'node2':'c2', \n",
    "             'node3':'c3', \n",
    "             'node4':'c4', \n",
    "             'node5':'c5', \n",
    "             'node6':'c6', \n",
    "             'node7':'c7',\n",
    "             'node8':'c8'}\n",
    "\n",
    "modB = modularidad(G, dic_grafo_b)\n",
    "print(\"Para una partición correspondiente a cada nodo: \" + str(modB))\n",
    "\n",
    "#c.\n",
    "dic_grafo_c = {'node1':'c1', \n",
    "             'node2':'c1', \n",
    "             'node3':'c1', \n",
    "             'node4':'c1', \n",
    "             'node5':'c2', \n",
    "             'node6':'c2', \n",
    "             'node7':'c2',\n",
    "             'node8':'c2'}\n",
    "\n",
    "modC = modularidad(G, dic_grafo_c)\n",
    "print(\"Para la partición de colores: \" + str(modC))"
   ]
  },
  {
   "cell_type": "markdown",
   "metadata": {},
   "source": [
    "### 2 - Detección de comunidades basada en la eliminación de enlaces"
   ]
  },
  {
   "cell_type": "code",
   "execution_count": 169,
   "metadata": {},
   "outputs": [],
   "source": [
    "from copy import deepcopy\n",
    "\n",
    "def comunidades(G):\n",
    "    componentes_conectados = list(nx.connected_components(G))   \n",
    "    while(len(componentes_conectados) == 1):\n",
    "        enlace = eliminar_enlace(G)\n",
    "        G.remove_edge(enlace[0],enlace[1])\n",
    "        componentes_conectados = list(nx.connected_components(G))       \n",
    "    return componentes_conectados\n",
    "\n",
    "def eliminar_enlace(G):\n",
    "    enlaces_betweenness = nx.edge_betweenness_centrality(G)\n",
    "    lista_enlaces_betweenness = list(enlaces_betweenness.items())\n",
    "    lista_enlaces_betweenness.sort(key = lambda x:x[1], reverse = True) #Ordenamos las tuplas por su betweenness\n",
    "    return lista_enlaces_betweenness[0][0] #Devuelve el enlace con más betweenness\n",
    "\n",
    "def asignarcomunidades(grafo):\n",
    "    componentes_conectados = comunidades(grafo)\n",
    "    diccionario ={}\n",
    "    numero_comunidad=1\n",
    "    for i in componentes_conectados:\n",
    "        for j in i:\n",
    "            diccionario[j] =str(numero_comunidad)\n",
    "        numero_comunidad+=1\n",
    "    return diccionario\n",
    "\n",
    "def girvanNewman(grafo):\n",
    "     \n",
    "    best = None\n",
    "    particion = {}\n",
    "    grafo_temporal = deepcopy(grafo)\n",
    "    subgrafos = []\n",
    "    \n",
    "    while grafo_temporal.edges():\n",
    "        enlace = eliminar_enlace(grafo_temporal)\n",
    "        grafo_temporal.remove_edge(enlace[0],enlace[1])\n",
    "        if len(list(nx.connected_components(grafo_temporal)))!=1:                \n",
    "            diccionario=asignarcomunidades(grafo_temporal)             \n",
    "            modularidad_grafo = modularidad(grafo, diccionario)\n",
    "            n=len((set(diccionario.values())))\n",
    "            if n not in particion.keys() or modularidad_grafo > modularidad(grafo, particion[n]):\n",
    "                particion[n] = diccionario\n",
    "            if best is None or modularidad_grafo > modularidad(grafo, best):\n",
    "                best = diccionario\n",
    "    \n",
    "    return best, particion"
   ]
  },
  {
   "cell_type": "code",
   "execution_count": 170,
   "metadata": {},
   "outputs": [],
   "source": [
    "def preprocesar(grafo):\n",
    "    nx.set_edge_attributes(grafo,1, 'peso')\n",
    "    return grafo"
   ]
  },
  {
   "cell_type": "code",
   "execution_count": 171,
   "metadata": {},
   "outputs": [
    {
     "data": {
      "image/png": "[encoded data removed]",
      "text/plain": [
       "<Figure size 432x288 with 1 Axes>"
      ]
     },
     "metadata": {
      "needs_background": "light"
     },
     "output_type": "display_data"
    }
   ],
   "source": [
    "grafo_karate = nx.karate_club_graph()\n",
    "grafo_karate_preprocesado = preprocesar(grafo_karate)\n",
    "\n",
    "best, resultado = girvanNewman(grafo_karate_preprocesado)\n",
    "\n",
    "eje_x = []\n",
    "for x in resultado.values():\n",
    "    eje_x.append(modularidad(grafo_karate_preprocesado,x))\n",
    "eje_y = list(resultado.keys())\n",
    "\n",
    "fig, ax = plt.subplots()\n",
    "ax.plot(eje_x,eje_y)\n",
    "\n",
    "ax.set(xlabel='Modularidad', ylabel = 'Numero de particiones', title='Modularidad VS. Particiones')\n",
    "\n",
    "plt.show()"
   ]
  },
  {
   "cell_type": "code",
   "execution_count": null,
   "metadata": {},
   "outputs": [],
   "source": []
  }
 ],
 "metadata": {
  "kernelspec": {
   "display_name": "Python 3",
   "language": "python",
   "name": "python3"
  },
  "language_info": {
   "codemirror_mode": {
    "name": "ipython",
    "version": 3
   },
   "file_extension": ".py",
   "mimetype": "text/x-python",
   "name": "python",
   "nbconvert_exporter": "python",
   "pygments_lexer": "ipython3",
   "version": "3.7.1"
  }
 },
 "nbformat": 4,
 "nbformat_minor": 2
}
