{
 "cells": [
  {
   "cell_type": "markdown",
   "metadata": {},
   "source": [
    "# JORGE NAVARRO GONZÁLEZ - MARIO UBIERNA SAN MAMÉS\n",
    "\n",
    "## Práctica 8 - MODELO DE RED ALEATORIA DE GILBERT"
   ]
  },
  {
   "cell_type": "code",
   "execution_count": 25,
   "metadata": {},
   "outputs": [],
   "source": [
    "#Importaciones\n",
    "import networkx as nx\n",
    "import matplotlib.pyplot as plt\n",
    "import random as random\n",
    "import numpy as np\n",
    "import itertools\n",
    "from scipy import stats"
   ]
  },
  {
   "cell_type": "markdown",
   "metadata": {},
   "source": [
    "#### 1 Modelo Gilbert (1959)"
   ]
  },
  {
   "cell_type": "code",
   "execution_count": 66,
   "metadata": {},
   "outputs": [
    {
     "data": {
      "image/png": "[encoded data removed]",
      "text/plain": [
       "<Figure size 432x288 with 1 Axes>"
      ]
     },
     "metadata": {},
     "output_type": "display_data"
    }
   ],
   "source": [
    "# 1.1 Implementar en una función de python el algoritmo de generación de redes aleatorias de Gilbert G(N,p)\n",
    "\n",
    "def generar_probabilidad():\n",
    "    return random.uniform(0,1)\n",
    "\n",
    "def gilbert(probabilidad, nodos=10):\n",
    "    \n",
    "    G = nx.Graph(nombre='grafo') \n",
    "    G.add_nodes_from(list(range(nodos)))\n",
    "    \n",
    "    for i in itertools.combinations(list(range(nodos)), 2):    \n",
    "        if generar_probabilidad() < probabilidad:\n",
    "            G.add_edge(i[0],i[1])\n",
    "    return G\n",
    "\n",
    "G = gilbert(0.005, 100)\n",
    "nx.draw(G)"
   ]
  },
  {
   "cell_type": "code",
   "execution_count": 67,
   "metadata": {},
   "outputs": [
    {
     "name": "stdout",
     "output_type": "stream",
     "text": [
      "El número de nodos son: 100\n",
      "El número de enlaces son: 24\n",
      "El grado medio es: 0.48\n",
      "El grado máximo es: 3\n",
      "El grado mínimo es: 0\n",
      "El grado medio de clustering es: 0.0\n"
     ]
    }
   ],
   "source": [
    "# 1.2 Para una red generada mediante el modelo anterior G(100,0.005) calcular los estadísticos:\n",
    "n_nodos = G.number_of_nodes()\n",
    "n_enlaces  = G.number_of_edges()\n",
    "grados_nodos = []\n",
    "gradoMedio = 0\n",
    "gradoMaximo = 0\n",
    "clustering_medio = nx.average_clustering(G)\n",
    "\n",
    "for nodo in G.nodes():\n",
    "    gradoMedio += G.degree(nodo)\n",
    "    grados_nodos.append(G.degree(nodo))\n",
    "    \n",
    "print(\"El número de nodos son: \" +str(n_nodos))\n",
    "print(\"El número de enlaces son: \"+str(n_enlaces))\n",
    "print(\"El grado medio es: \" +str(sum(grados_nodos)/n_nodos))\n",
    "print(\"El grado máximo es: \" + str(max(grados_nodos)))\n",
    "print(\"El grado mínimo es: \" + str(min(grados_nodos)))\n",
    "print(\"El grado medio de clustering es: \" + str(clustering_medio))"
   ]
  },
  {
   "cell_type": "markdown",
   "metadata": {},
   "source": [
    "#### 2 Distribución de grado"
   ]
  },
  {
   "cell_type": "code",
   "execution_count": 30,
   "metadata": {},
   "outputs": [
    {
     "data": {
      "text/plain": [
       "(array([70.,  0.,  0., 23.,  0.,  0.,  6.,  0.,  0.,  1.]),\n",
       " array([0. , 0.3, 0.6, 0.9, 1.2, 1.5, 1.8, 2.1, 2.4, 2.7, 3. ]),\n",
       " <a list of 10 Patch objects>)"
      ]
     },
     "execution_count": 30,
     "metadata": {},
     "output_type": "execute_result"
    },
    {
     "data": {
      "image/png": "[encoded data removed]",
      "text/plain": [
       "<Figure size 432x288 with 1 Axes>"
      ]
     },
     "metadata": {
      "needs_background": "light"
     },
     "output_type": "display_data"
    }
   ],
   "source": [
    "# 2.1 2.1 Represente la distribución de grado de distintas realizaciones del modelo G(100,p) para los siguientes valores de p={0.005,0.05,0.5}. ¿Qué distribución de probabilidad sigue la distribución de grado?\n",
    "\n",
    "def grados_nodos(G):\n",
    "    grados = []\n",
    "    for nodo in G.nodes():\n",
    "        grados.append(G.degree(nodo))\n",
    "    return grados\n",
    "\n",
    "# Representación de la distribución para 100 nodos y p=0.005\n",
    "G = gilbert(0.005, 100)\n",
    "plt.hist(grados_nodos(G))\n"
   ]
  },
  {
   "cell_type": "code",
   "execution_count": 31,
   "metadata": {},
   "outputs": [
    {
     "data": {
      "text/plain": [
       "(array([ 4., 13., 12., 20., 15., 20., 11.,  2.,  1.,  2.]),\n",
       " array([ 0. ,  1.2,  2.4,  3.6,  4.8,  6. ,  7.2,  8.4,  9.6, 10.8, 12. ]),\n",
       " <a list of 10 Patch objects>)"
      ]
     },
     "execution_count": 31,
     "metadata": {},
     "output_type": "execute_result"
    },
    {
     "data": {
      "image/png": "[encoded data removed]",
      "text/plain": [
       "<Figure size 432x288 with 1 Axes>"
      ]
     },
     "metadata": {
      "needs_background": "light"
     },
     "output_type": "display_data"
    }
   ],
   "source": [
    "# Representación de la distribución para 100 nodos y p=0.05\n",
    "G = gilbert(0.05, 100)\n",
    "plt.hist(grados_nodos(G))"
   ]
  },
  {
   "cell_type": "code",
   "execution_count": 32,
   "metadata": {},
   "outputs": [
    {
     "data": {
      "text/plain": [
       "(array([ 3.,  3.,  9., 12., 24., 24., 12., 12.,  0.,  1.]),\n",
       " array([35. , 37.9, 40.8, 43.7, 46.6, 49.5, 52.4, 55.3, 58.2, 61.1, 64. ]),\n",
       " <a list of 10 Patch objects>)"
      ]
     },
     "execution_count": 32,
     "metadata": {},
     "output_type": "execute_result"
    },
    {
     "data": {
      "image/png": "[encoded data removed]",
      "text/plain": [
       "<Figure size 432x288 with 1 Axes>"
      ]
     },
     "metadata": {
      "needs_background": "light"
     },
     "output_type": "display_data"
    }
   ],
   "source": [
    "# Representación de la distribución para 100 nodos y p=0.5\n",
    "G = gilbert(0.5, 100)\n",
    "plt.hist(grados_nodos(G))"
   ]
  },
  {
   "cell_type": "code",
   "execution_count": 33,
   "metadata": {},
   "outputs": [],
   "source": [
    "# ¿Qué distribución de probabilidad sigue la distribución de grado?\n",
    "# Sigue la distribución de Poisson, ya que nos permite determinar el número de hechos que se pueden producir\n",
    "# en un intervalo, bajo una cierta aleatoriedad."
   ]
  },
  {
   "cell_type": "markdown",
   "metadata": {},
   "source": [
    "#### 3 Aparición del componente gigante"
   ]
  },
  {
   "cell_type": "code",
   "execution_count": null,
   "metadata": {},
   "outputs": [],
   "source": []
  }
 ],
 "metadata": {
  "kernelspec": {
   "display_name": "Python 3",
   "language": "python",
   "name": "python3"
  },
  "language_info": {
   "codemirror_mode": {
    "name": "ipython",
    "version": 3
   },
   "file_extension": ".py",
   "mimetype": "text/x-python",
   "name": "python",
   "nbconvert_exporter": "python",
   "pygments_lexer": "ipython3",
   "version": "3.7.1"
  }
 },
 "nbformat": 4,
 "nbformat_minor": 2
}
