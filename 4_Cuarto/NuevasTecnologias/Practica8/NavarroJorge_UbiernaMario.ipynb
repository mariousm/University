{
 "cells": [
  {
   "cell_type": "markdown",
   "metadata": {},
   "source": [
    "# JORGE NAVARRO GONZÁLEZ - MARIO UBIERNA SAN MAMÉS\n",
    "\n",
    "## Práctica 7 - Distribuciones Power Law"
   ]
  },
  {
   "cell_type": "code",
   "execution_count": 2,
   "metadata": {},
   "outputs": [],
   "source": [
    "#Importaciones\n",
    "import networkx as nx\n",
    "import matplotlib.pyplot as plt\n",
    "import random as random\n",
    "import numpy as np\n",
    "from scipy import stats"
   ]
  },
  {
   "cell_type": "markdown",
   "metadata": {},
   "source": [
    "### Distribuciones Power Law"
   ]
  },
  {
   "cell_type": "markdown",
   "metadata": {},
   "source": [
    "#### 2.1 Dadas las redes de la figura, ¿cuál de ellas presenta una propiedad scale-free?"
   ]
  },
  {
   "cell_type": "code",
   "execution_count": 3,
   "metadata": {},
   "outputs": [],
   "source": [
    "# La red de la derecha, ya que una propiedad scale-free, significa que aunque hay algunos nodos muy conectados entre sí,\n",
    "# el grado de conexión de casi todos los nodos es bajo."
   ]
  },
  {
   "cell_type": "markdown",
   "metadata": {},
   "source": [
    "#### 2.2 De los siguientes mecanismos ¿cuál de ellos podría generar propiedad scale-free con más probabilidad?"
   ]
  },
  {
   "cell_type": "code",
   "execution_count": 4,
   "metadata": {},
   "outputs": [],
   "source": [
    "# Un usuario crea una página web y añade un enlace a la página que le proporciona el primer resultado de una búsqueda en Google.\n",
    "# Ya que si nos conectamos al primer resultado que nos proporciona, muchos nos vamos a conectar a ese resultado,\n",
    "# sin embargo, no nos estamos conectado con el resto de nodos más pequeños."
   ]
  },
  {
   "cell_type": "markdown",
   "metadata": {},
   "source": [
    "### Estudio de la distribución de grado de una red"
   ]
  },
  {
   "cell_type": "markdown",
   "metadata": {},
   "source": [
    "#### 3.1 Estadísticas"
   ]
  },
  {
   "cell_type": "code",
   "execution_count": 5,
   "metadata": {},
   "outputs": [
    {
     "name": "stdout",
     "output_type": "stream",
     "text": [
      "El número de nodos son: 22963\n",
      "El número de enlaces son: 48436\n",
      "El grado medio es: 4.218612550624918\n",
      "El grado máximo es: 2390\n",
      "El grado mínimo es: 1\n"
     ]
    }
   ],
   "source": [
    "G = nx.read_gexf(\"internet_routers-22july06-2.gexf\")\n",
    "\n",
    "n_nodos = G.number_of_nodes()\n",
    "n_enlaces  = G.number_of_edges()\n",
    "grados_nodos = []\n",
    "gradoMedio = 0\n",
    "gradoMaximo = 0\n",
    "\n",
    "for nodo in G.nodes():\n",
    "    gradoMedio += G.degree(nodo)\n",
    "    grados_nodos.append(G.degree(nodo))\n",
    "    \n",
    "print(\"El número de nodos son: \" +str(n_nodos))\n",
    "print(\"El número de enlaces son: \"+str(n_enlaces))\n",
    "print(\"El grado medio es: \" +str(sum(grados_nodos)/n_nodos))\n",
    "print(\"El grado máximo es: \" + str(max(grados_nodos)))\n",
    "print(\"El grado mínimo es: \" + str(min(grados_nodos)))"
   ]
  },
  {
   "cell_type": "markdown",
   "metadata": {},
   "source": [
    "#### 3.2 Histograma"
   ]
  },
  {
   "cell_type": "code",
   "execution_count": 6,
   "metadata": {},
   "outputs": [
    {
     "data": {
      "text/plain": [
       "(array([2.2928e+04, 1.8000e+01, 9.0000e+00, 2.0000e+00, 0.0000e+00,\n",
       "        3.0000e+00, 0.0000e+00, 1.0000e+00, 1.0000e+00, 1.0000e+00]),\n",
       " array([1.0000e+00, 2.3990e+02, 4.7880e+02, 7.1770e+02, 9.5660e+02,\n",
       "        1.1955e+03, 1.4344e+03, 1.6733e+03, 1.9122e+03, 2.1511e+03,\n",
       "        2.3900e+03]),\n",
       " <a list of 10 Patch objects>)"
      ]
     },
     "execution_count": 6,
     "metadata": {},
     "output_type": "execute_result"
    },
    {
     "data": {
      "image/png": "[encoded data removed]",
      "text/plain": [
       "<Figure size 432x288 with 1 Axes>"
      ]
     },
     "metadata": {
      "needs_background": "light"
     },
     "output_type": "display_data"
    }
   ],
   "source": [
    "plt.hist(grados_nodos)"
   ]
  },
  {
   "cell_type": "code",
   "execution_count": 5,
   "metadata": {},
   "outputs": [
    {
     "data": {
      "text/plain": [
       "(array([   0., 7840., 9700., 2219.,  907.,  471.,  290.,  200.,  305.]),\n",
       " array([0, 1, 2, 3, 4, 5, 6, 7, 8, 9]),\n",
       " <a list of 9 Patch objects>)"
      ]
     },
     "execution_count": 5,
     "metadata": {},
     "output_type": "execute_result"
    },
    {
     "data": {
      "image/png": "[encoded data removed]",
      "text/plain": [
       "<Figure size 432x288 with 1 Axes>"
      ]
     },
     "metadata": {
      "needs_background": "light"
     },
     "output_type": "display_data"
    }
   ],
   "source": [
    "plt.hist(grados_nodos, range(10))"
   ]
  },
  {
   "cell_type": "code",
   "execution_count": 6,
   "metadata": {},
   "outputs": [
    {
     "data": {
      "image/png": "[encoded data removed]",
      "text/plain": [
       "<Figure size 432x288 with 1 Axes>"
      ]
     },
     "metadata": {
      "needs_background": "light"
     },
     "output_type": "display_data"
    }
   ],
   "source": [
    "# Primer histograma logarítmico\n",
    "plt.hist(grados_nodos, range(100))\n",
    "plt.xscale(\"log\")\n",
    "plt.yscale(\"log\")"
   ]
  },
  {
   "cell_type": "markdown",
   "metadata": {},
   "source": [
    "#### Histograma con clase variable logaritmica"
   ]
  },
  {
   "cell_type": "code",
   "execution_count": 7,
   "metadata": {},
   "outputs": [
    {
     "data": {
      "image/png": "[encoded data removed]",
      "text/plain": [
       "<Figure size 432x288 with 1 Axes>"
      ]
     },
     "metadata": {
      "needs_background": "light"
     },
     "output_type": "display_data"
    }
   ],
   "source": [
    "# Segundo histrograma logarítmico\n",
    "clases = np.array([2**x for x in range(0,13)])\n",
    "rango = clases[1:]-clases[:-1]\n",
    "histograma, bin_enlaces =np.histogram(np.array(grados_nodos),bins=clases)\n",
    "histograma=histograma/rango\n",
    "plt.bar(bin_enlaces[:-1],histograma,width=rango, alpha=0.5,align='edge')\n",
    "plt.yscale('log');\n",
    "plt.xscale('log');"
   ]
  },
  {
   "cell_type": "markdown",
   "metadata": {},
   "source": [
    "#### Estimación parámetro de power law"
   ]
  },
  {
   "cell_type": "code",
   "execution_count": 18,
   "metadata": {},
   "outputs": [
    {
     "name": "stdout",
     "output_type": "stream",
     "text": [
      "Pendiente: -2.1720245477465547\n",
      "El P-Valor: 7.5782428799821e-13\n",
      "Coeficiente de correlación: -0.9975052621651795\n"
     ]
    }
   ],
   "source": [
    "pendiente, intercept, correlacion, pvalor, error = stats.linregress(np.log(bin_enlaces[0:-1]),np.log(histograma))\n",
    "print(\"Pendiente: \" + str(pendiente))\n",
    "print(\"El P-Valor: \" + str(pvalor))\n",
    "print(\"Coeficiente de correlación: \"+ str(correlacion))"
   ]
  },
  {
   "cell_type": "markdown",
   "metadata": {},
   "source": [
    "#### Estimación mediante distribución acumulada"
   ]
  },
  {
   "cell_type": "code",
   "execution_count": 19,
   "metadata": {},
   "outputs": [
    {
     "name": "stdout",
     "output_type": "stream",
     "text": [
      "Pendiente: -2.2643462481003125\n",
      "El P-Valor: 0.0\n",
      "Coeficiente de correlación: -0.9674446000659406\n"
     ]
    }
   ],
   "source": [
    "grados_ordenados = list(sorted(grados_nodos, reverse=True))\n",
    "ranking = list(np.arange(1,len(grados_ordenados)+1))\n",
    "r = np.array(ranking)/len(grados_ordenados)\n",
    "pendiente, intercept, correlacion, pvalor, error = stats.linregress(np.log(grados_ordenados),np.log(r))\n",
    "print(\"Pendiente: \" + str(pendiente-1))\n",
    "print(\"El P-Valor: \" + str(pvalor))\n",
    "print(\"Coeficiente de correlación: \"+ str(correlacion))"
   ]
  },
  {
   "cell_type": "code",
   "execution_count": null,
   "metadata": {},
   "outputs": [],
   "source": []
  }
 ],
 "metadata": {
  "kernelspec": {
   "display_name": "Python 3",
   "language": "python",
   "name": "python3"
  },
  "language_info": {
   "codemirror_mode": {
    "name": "ipython",
    "version": 3
   },
   "file_extension": ".py",
   "mimetype": "text/x-python",
   "name": "python",
   "nbconvert_exporter": "python",
   "pygments_lexer": "ipython3",
   "version": "3.7.1"
  }
 },
 "nbformat": 4,
 "nbformat_minor": 2
}
