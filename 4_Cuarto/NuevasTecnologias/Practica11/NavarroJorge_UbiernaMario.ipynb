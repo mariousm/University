{
 "cells": [
  {
   "cell_type": "markdown",
   "metadata": {},
   "source": [
    "# JORGE NAVARRO GONZÁLEZ - MARIO UBIERNA SAN MAMÉS\n",
    "\n",
    "## Práctica 10 - ANÁLISIS DE VULNERABILIDAD DE REDES"
   ]
  },
  {
   "cell_type": "code",
   "execution_count": 5,
   "metadata": {},
   "outputs": [],
   "source": [
    "#Importaciones\n",
    "import networkx as nx\n",
    "import matplotlib.pyplot as plt\n",
    "import random as random\n",
    "import numpy as np\n",
    "import itertools as it\n",
    "from scipy import stats"
   ]
  },
  {
   "cell_type": "markdown",
   "metadata": {},
   "source": [
    "### 1 Robustez a errores aleatorios"
   ]
  },
  {
   "cell_type": "markdown",
   "metadata": {},
   "source": [
    "#### 1.1 Replicar un número de veces (e.g. 10) el siguiente experimento:"
   ]
  },
  {
   "cell_type": "code",
   "execution_count": 6,
   "metadata": {},
   "outputs": [],
   "source": [
    "def aleatorio(inicio, valor):\n",
    "    x = np.random.randint(0, inicio)\n",
    "    while x == valor:\n",
    "        x = np.random.randint(0, inicio)\n",
    "    return x\n",
    "\n",
    "def preferentialAttachment(N, inicio, enlaces):\n",
    "    G = nx.Graph()\n",
    "    G.add_edges_from(it.combinations(range(inicio),2))\n",
    "    nodo_actual = G.number_of_nodes()\n",
    "    lista = []\n",
    "    lista_aux = []\n",
    "            \n",
    "    #Obtenemos el grado de todos los nodos\n",
    "    for node in G.nodes:\n",
    "        for grado in range(G.degree(node)):\n",
    "            lista.append(node)\n",
    "    \n",
    "    #Añadimos el nuevo nodo con sus enlaces\n",
    "    for i in range(N-inicio):\n",
    "                \n",
    "        #G.add_node(nodo_actual) #Añadimos el nodo al grafo\n",
    "        \n",
    "        #Añadimos los enlaces para ese nodo\n",
    "        for enlace in range(enlaces):\n",
    "            nodo_a_enlazar = random.choice(lista)\n",
    "            while G.has_edge(nodo_a_enlazar, nodo_actual):\n",
    "                nodo_a_enlazar = random.choice(lista)\n",
    "            G.add_edge(nodo_a_enlazar, nodo_actual)\n",
    "            lista_aux.append(nodo_a_enlazar)\n",
    "            lista_aux.append(nodo_actual)\n",
    "            \n",
    "        lista += lista_aux\n",
    "        lista_aux = []\n",
    "            \n",
    "        nodo_actual += 1\n",
    "        \n",
    "    return G"
   ]
  },
  {
   "cell_type": "code",
   "execution_count": 22,
   "metadata": {},
   "outputs": [],
   "source": [
    "# Realizamos montecarlo\n",
    "\n",
    "def montecarlo(intentos, G):\n",
    "    matriz = []\n",
    "    nodos_aleatorios = np.random.permutation(G.nodes)\n",
    "    \n",
    "    for i in range(intentos):\n",
    "        componente_gigante = []\n",
    "        \n",
    "        for nodo in nodos_aleatorios:\n",
    "            enlaces_a_eliminar = []\n",
    "            \n",
    "            #Guardamos los enlaces a eliminar si hay enlaces para ese nodo\n",
    "            for enlace in G.edges:\n",
    "                if nodo in enlace:\n",
    "                    enlaces_a_eliminar.append(enlace)\n",
    "            \n",
    "            #Eliminamos el enlace\n",
    "            G.remove_edges_from(enlaces_a_eliminar)\n",
    "                \n",
    "            #Componente gigante\n",
    "            tamanio_componentes = [len(c) for c in nx.connected_components(G)]\n",
    "            componente_gigante.append(max(tamanio_componentes))\n",
    "        matriz.append(componente_gigante)\n",
    "    return matriz\n",
    "\n",
    "# Realizamos la conectividad\n",
    "def conectividad(matriz):\n",
    "    conect = np.zeros(len(matriz[0]))\n",
    "    for fila in matriz:\n",
    "        cont = 0\n",
    "        for columna in fila:\n",
    "            conect[cont] += columna\n",
    "            cont += 1\n",
    "    for i in range(len(conect)):\n",
    "        conect[i] = conect[i]/len(matriz)\n",
    "    return conect"
   ]
  },
  {
   "cell_type": "code",
   "execution_count": 23,
   "metadata": {},
   "outputs": [],
   "source": [
    "G = preferentialAttachment(1000,3,3)\n",
    "montecarlos = montecarlo(10,G)\n",
    "conectividades =conectividad(montecarlos)"
   ]
  },
  {
   "cell_type": "markdown",
   "metadata": {},
   "source": [
    "#### 1.2 Representar gráficamente la evolución temporal de los valores medios de conectividad"
   ]
  },
  {
   "cell_type": "code",
   "execution_count": 24,
   "metadata": {},
   "outputs": [
    {
     "data": {
      "text/plain": [
       "[<matplotlib.lines.Line2D at 0x1eec7c0bd68>]"
      ]
     },
     "execution_count": 24,
     "metadata": {},
     "output_type": "execute_result"
    },
    {
     "data": {
      "image/png": "[encoded data removed]",
      "text/plain": [
       "<Figure size 432x288 with 1 Axes>"
      ]
     },
     "metadata": {
      "needs_background": "light"
     },
     "output_type": "display_data"
    }
   ],
   "source": [
    "plt.plot(range(len(G.nodes())),conectividades)"
   ]
  },
  {
   "cell_type": "markdown",
   "metadata": {},
   "source": [
    "### 2 Robustez a ataques dirigidos"
   ]
  },
  {
   "cell_type": "markdown",
   "metadata": {},
   "source": [
    "#### 2.1 Replicar un número de veces (e.g. 10)"
   ]
  },
  {
   "cell_type": "code",
   "execution_count": 29,
   "metadata": {},
   "outputs": [],
   "source": [
    "def grados_nodos(G):\n",
    "    gradosNodos = []\n",
    "    \n",
    "    for nodo in G.nodes():\n",
    "        gradosNodos.append([nodo, G.degree(nodo)])\n",
    "    return gradosNodos\n",
    "\n",
    "def montecarloVersion2(intentos, G):\n",
    "    matriz = []\n",
    "    \n",
    "    for i in range(intentos):\n",
    "        componente_gigante = []\n",
    "            \n",
    "        for nodo in G.nodes:\n",
    "            gradosNodos = grados_nodos(G)\n",
    "            maximo=0\n",
    "            \n",
    "            #Obtenemos el nodo de mayor grado\n",
    "            for grado in gradosNodos:\n",
    "                if grado[1] > maximo:\n",
    "                    maximo=grado[1]\n",
    "                    nodo=grado[0]\n",
    "                    \n",
    "            enlaces_a_eliminar = []\n",
    "            \n",
    "            #Guardamos los enlaces a eliminar si hay enlaces para ese nodo\n",
    "            for enlace in G.edges:\n",
    "                if nodo in enlace:\n",
    "                    enlaces_a_eliminar.append(enlace)\n",
    "            \n",
    "            #Eliminamos el enlace\n",
    "            G.remove_edges_from(enlaces_a_eliminar)\n",
    "                \n",
    "            #Componente gigante\n",
    "            tamanio_componentes = [len(c) for c in nx.connected_components(G)]\n",
    "            componente_gigante.append(max(tamanio_componentes))\n",
    "        matriz.append(componente_gigante)\n",
    "    return matriz"
   ]
  },
  {
   "cell_type": "code",
   "execution_count": 30,
   "metadata": {},
   "outputs": [],
   "source": [
    "G = preferentialAttachment(1000,3,3)\n",
    "montecarlos = montecarloVersion2(10,G)\n",
    "conectividades = conectividad(montecarlos)"
   ]
  },
  {
   "cell_type": "markdown",
   "metadata": {},
   "source": [
    "#### 2.2 Representar gráficamente la evolución temporal de los valores medios de conectividad"
   ]
  },
  {
   "cell_type": "code",
   "execution_count": 31,
   "metadata": {},
   "outputs": [
    {
     "data": {
      "text/plain": [
       "[<matplotlib.lines.Line2D at 0x1eec7c13e10>]"
      ]
     },
     "execution_count": 31,
     "metadata": {},
     "output_type": "execute_result"
    },
    {
     "data": {
      "image/png": "[encoded data removed]",
      "text/plain": [
       "<Figure size 432x288 with 1 Axes>"
      ]
     },
     "metadata": {
      "needs_background": "light"
     },
     "output_type": "display_data"
    }
   ],
   "source": [
    "plt.plot(range(len(G.nodes())),conectividades)"
   ]
  },
  {
   "cell_type": "markdown",
   "metadata": {},
   "source": [
    "### 3 Comentar resultados"
   ]
  },
  {
   "cell_type": "markdown",
   "metadata": {},
   "source": [
    "#### 3.1 Indique ante qué tipo de fallos (errores aleatorios, ataques dirigidos) la red de Barabási-Albert se comporta mejor. Explique brevemente alguna razón del porqué de la diferencia de comportamiento."
   ]
  },
  {
   "cell_type": "markdown",
   "metadata": {},
   "source": [
    "Barabasi se comporta antes ataques aleatorios, ya que eliminamos nodos aleatorios, es por ello que un nodo si no tiene muchos enlaces no afecta demasiado.\n",
    "\n",
    "En el caso de que sea dirigido si se consigue alcanzar al hub cae muy rápido la red\n"
   ]
  },
  {
   "cell_type": "markdown",
   "metadata": {},
   "source": [
    "### 4 Robustez de una red aleatoria de Erdös-Rényi"
   ]
  },
  {
   "cell_type": "markdown",
   "metadata": {},
   "source": [
    "#### 4.1 Repetir el análisis de los puntos 1 y 2 anteriores para una red aleatoria de Edös-Rényi equivalente (es decir que tenga el mismo número de nodos, N=1000, y un grado medio similar, <k>=2m=6)\n"
   ]
  },
  {
   "cell_type": "code",
   "execution_count": 34,
   "metadata": {},
   "outputs": [],
   "source": [
    "# Realizamos montecarlo\n",
    "\n",
    "def montecarloVersion3(intentos):\n",
    "    G = nx.erdos_renyi_graph(1000, (2*3)/1000)\n",
    "    matriz = []\n",
    "    nodos_aleatorios = np.random.permutation(G.nodes)\n",
    "    for i in range(intentos):\n",
    "        componente_gigante = []\n",
    "        \n",
    "        for nodo in nodos_aleatorios:\n",
    "            enlaces_a_eliminar = []\n",
    "            \n",
    "            #Guardamos los enlaces a eliminar si hay enlaces para ese nodo\n",
    "            for enlace in G.edges:\n",
    "                if nodo in enlace:\n",
    "                    enlaces_a_eliminar.append(enlace)\n",
    "            \n",
    "            #Eliminamos el enlace\n",
    "            G.remove_edges_from(enlaces_a_eliminar)\n",
    "                \n",
    "            #Componente gigante\n",
    "            tamanio_componentes = [len(c) for c in nx.connected_components(G)]\n",
    "            componente_gigante.append(max(tamanio_componentes))\n",
    "        matriz.append(componente_gigante)\n",
    "    return matriz"
   ]
  },
  {
   "cell_type": "code",
   "execution_count": 35,
   "metadata": {},
   "outputs": [],
   "source": [
    "montecarlos = montecarloVersion3(10)\n",
    "conectividades =conectividad(montecarlos)"
   ]
  },
  {
   "cell_type": "code",
   "execution_count": 36,
   "metadata": {},
   "outputs": [
    {
     "data": {
      "text/plain": [
       "[<matplotlib.lines.Line2D at 0x1eecb56c518>]"
      ]
     },
     "execution_count": 36,
     "metadata": {},
     "output_type": "execute_result"
    },
    {
     "data": {
      "image/png": "[encoded data removed]",
      "text/plain": [
       "<Figure size 432x288 with 1 Axes>"
      ]
     },
     "metadata": {
      "needs_background": "light"
     },
     "output_type": "display_data"
    }
   ],
   "source": [
    "plt.plot(range(len(G.nodes())),conectividades)"
   ]
  },
  {
   "cell_type": "code",
   "execution_count": null,
   "metadata": {},
   "outputs": [],
   "source": []
  },
  {
   "cell_type": "code",
   "execution_count": 39,
   "metadata": {},
   "outputs": [],
   "source": [
    "def montecarloVersion4(intentos):\n",
    "    G = nx.erdos_renyi_graph(1000, (2*3)/1000)\n",
    "    matriz = []\n",
    "    \n",
    "    for i in range(intentos):\n",
    "        componente_gigante = []\n",
    "            \n",
    "        for nodo in G.nodes:\n",
    "            gradosNodos = grados_nodos(G)\n",
    "            maximo=0\n",
    "            \n",
    "            #Obtenemos el nodo de mayor grado\n",
    "            for grado in gradosNodos:\n",
    "                if grado[1] > maximo:\n",
    "                    maximo=grado[1]\n",
    "                    nodo=grado[0]\n",
    "                    \n",
    "            enlaces_a_eliminar = []\n",
    "            \n",
    "            #Guardamos los enlaces a eliminar si hay enlaces para ese nodo\n",
    "            for enlace in G.edges:\n",
    "                if nodo in enlace:\n",
    "                    enlaces_a_eliminar.append(enlace)\n",
    "            \n",
    "            #Eliminamos el enlace\n",
    "            G.remove_edges_from(enlaces_a_eliminar)\n",
    "                \n",
    "            #Componente gigante\n",
    "            tamanio_componentes = [len(c) for c in nx.connected_components(G)]\n",
    "            componente_gigante.append(max(tamanio_componentes))\n",
    "        matriz.append(componente_gigante)\n",
    "    return matriz"
   ]
  },
  {
   "cell_type": "code",
   "execution_count": 40,
   "metadata": {},
   "outputs": [],
   "source": [
    "montecarlos = montecarloVersion4(10)\n",
    "conectividades =conectividad(montecarlos)"
   ]
  },
  {
   "cell_type": "code",
   "execution_count": 41,
   "metadata": {},
   "outputs": [
    {
     "data": {
      "text/plain": [
       "[<matplotlib.lines.Line2D at 0x1eecbeba6a0>]"
      ]
     },
     "execution_count": 41,
     "metadata": {},
     "output_type": "execute_result"
    },
    {
     "data": {
      "image/png": "[encoded data removed]",
      "text/plain": [
       "<Figure size 432x288 with 1 Axes>"
      ]
     },
     "metadata": {
      "needs_background": "light"
     },
     "output_type": "display_data"
    }
   ],
   "source": [
    "plt.plot(range(len(G.nodes())),conectividades)"
   ]
  },
  {
   "cell_type": "markdown",
   "metadata": {},
   "source": [
    "#### 4.2 Indique ante qué tipo de fallos (errores aleatorios, ataques dirigidos) la red de Erdös-Rényi se comporta mejor; ¿considera que existe alguna diferencia (razone la respuesta)?."
   ]
  },
  {
   "cell_type": "markdown",
   "metadata": {},
   "source": [
    "La red Erdos se comporta antes ataques aleatorios, ya que eliminamos nodos aleatorios, es por ello que un nodo si no tiene muchos enlaces no afecta demasiado.\n",
    "\n",
    "En el caso de que sea dirigido si se consigue alcanzar al hub cae muy rápido la red\n",
    "\n",
    "Sí que hay una diferencia, ya que si seleccionamos al nodo de mayor grado es más efectivo el ataque dirigido, ya que eliminamos un nodo \"importante\" en la red de una forma muy rápida."
   ]
  }
 ],
 "metadata": {
  "kernelspec": {
   "display_name": "Python 3",
   "language": "python",
   "name": "python3"
  },
  "language_info": {
   "codemirror_mode": {
    "name": "ipython",
    "version": 3
   },
   "file_extension": ".py",
   "mimetype": "text/x-python",
   "name": "python",
   "nbconvert_exporter": "python",
   "pygments_lexer": "ipython3",
   "version": "3.7.1"
  }
 },
 "nbformat": 4,
 "nbformat_minor": 2
}
