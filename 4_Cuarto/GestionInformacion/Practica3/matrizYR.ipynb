{
 "cells": [
  {
   "cell_type": "markdown",
   "metadata": {
    "slideshow": {
     "slide_type": "slide"
    }
   },
   "source": [
    "<img src=\"http://www.ubu.es/sites/default/files/portal_page/images/logo_color_2l_dcha.jpg\" height=\"150\" width=\"150\" align=\"right\"/>"
   ]
  },
  {
   "cell_type": "markdown",
   "metadata": {
    "slideshow": {
     "slide_type": "-"
    }
   },
   "source": [
    "## Collaborative Filtering (1)\n",
    "[Nacho Santos](www.nacho.santos.name)"
   ]
  },
  {
   "cell_type": "markdown",
   "metadata": {
    "slideshow": {
     "slide_type": "slide"
    }
   },
   "source": [
    "## Introduction\n",
    "The purpose of this assignment is to implement a **collaborative filtering algorithm** in python. This assignment is based on the course “Machine learning” by Andrew N https://www.coursera.org/course/ml. Before starting the work, you should read carefully the cooperative filtering algorithm explained in [class](https://docs.google.com/presentation/d/1OF1gE-ycuI01ds_lXwle6JnrCZMBHKSFgFSBh0LOYlU/edit?usp=sharing). Besides, you can watch the [videos](https://drive.google.com/file/d/0B-Y_cBY4Vgw9dVNrT3VfYU80RWs/view?usp=sharing) from the course Machine Learning where Andrew Ng introduces and explains the collaborative filtering.\n",
    "\n",
    "On the other hand, it is necessary to use the Numpy library. You can learn the fundaments of Numpy following the next tutorials: [Introduction to Numpy](https://anaconda.org/jismartin/intro_numpy/notebook) and [Introduction to Matplotlib](https://anaconda.org/jismartin/intro_matplotlib/notebook)\n",
    "\n",
    "The work is divided into progressive parts. Some functions have already been implemented to help you to test the code. These functions are in the python file **\"recommender_systema.py\"** provided with this interactive notebook. \n",
    "\n",
    "**Your task is to complete the python code when you are asked to do it**."
   ]
  },
  {
   "cell_type": "markdown",
   "metadata": {
    "slideshow": {
     "slide_type": "slide"
    }
   },
   "source": [
    "## Import python packages"
   ]
  },
  {
   "cell_type": "code",
   "execution_count": 1,
   "metadata": {
    "slideshow": {
     "slide_type": "-"
    }
   },
   "outputs": [],
   "source": [
    "import numpy as np\n",
    "import matplotlib.pyplot as plt\n",
    "import pandas as pd"
   ]
  },
  {
   "cell_type": "code",
   "execution_count": 2,
   "metadata": {
    "slideshow": {
     "slide_type": "-"
    }
   },
   "outputs": [],
   "source": [
    "# This line is necessary to show matplotlib plots inside the jupyter notebook\n",
    "%matplotlib inline"
   ]
  },
  {
   "cell_type": "markdown",
   "metadata": {
    "slideshow": {
     "slide_type": "slide"
    }
   },
   "source": [
    "## 1. Download movies database and prepare data\n",
    "**Download** movielens 100k dataset **\"ml-100k.zip\"** from http://grouplens.org/datasets/movielens/100k/\n",
    "The file \"README.TXT\" describes tha dataset composed by different files. In particular, you only need the files:\n",
    "* \"u.data\" that contains the ratings on scale 1 to 5. Users and items are numbered consecutively from 1. The data is randomly ordered in rows with the next format: *user_id | item_id | rating | timestamp*\n",
    "* \"u.item\" that contains the information about the movies\n",
    "\n",
    "**Copy these two files** into the working folder of the jupyter notebook"
   ]
  },
  {
   "cell_type": "markdown",
   "metadata": {
    "slideshow": {
     "slide_type": "slide"
    }
   },
   "source": [
    "### 1.1 Import data\n",
    "\n",
    "Fisrt, we import the names of the movies. We use the Pandas library (http://pandas.pydata.org/) to read the \"u.item\", remove all unnecessary values and keep only the names."
   ]
  },
  {
   "cell_type": "code",
   "execution_count": 3,
   "metadata": {
    "slideshow": {
     "slide_type": "-"
    }
   },
   "outputs": [
    {
     "data": {
      "text/html": [
       "<div>\n",
       "<style scoped>\n",
       "    .dataframe tbody tr th:only-of-type {\n",
       "        vertical-align: middle;\n",
       "    }\n",
       "\n",
       "    .dataframe tbody tr th {\n",
       "        vertical-align: top;\n",
       "    }\n",
       "\n",
       "    .dataframe thead th {\n",
       "        text-align: right;\n",
       "    }\n",
       "</style>\n",
       "<table border=\"1\" class=\"dataframe\">\n",
       "  <thead>\n",
       "    <tr style=\"text-align: right;\">\n",
       "      <th></th>\n",
       "      <th>itemid</th>\n",
       "      <th>title</th>\n",
       "    </tr>\n",
       "  </thead>\n",
       "  <tbody>\n",
       "    <tr>\n",
       "      <th>0</th>\n",
       "      <td>1</td>\n",
       "      <td>Toy Story (1995)</td>\n",
       "    </tr>\n",
       "    <tr>\n",
       "      <th>1</th>\n",
       "      <td>2</td>\n",
       "      <td>GoldenEye (1995)</td>\n",
       "    </tr>\n",
       "    <tr>\n",
       "      <th>2</th>\n",
       "      <td>3</td>\n",
       "      <td>Four Rooms (1995)</td>\n",
       "    </tr>\n",
       "    <tr>\n",
       "      <th>3</th>\n",
       "      <td>4</td>\n",
       "      <td>Get Shorty (1995)</td>\n",
       "    </tr>\n",
       "    <tr>\n",
       "      <th>4</th>\n",
       "      <td>5</td>\n",
       "      <td>Copycat (1995)</td>\n",
       "    </tr>\n",
       "  </tbody>\n",
       "</table>\n",
       "</div>"
      ],
      "text/plain": [
       "   itemid              title\n",
       "0       1   Toy Story (1995)\n",
       "1       2   GoldenEye (1995)\n",
       "2       3  Four Rooms (1995)\n",
       "3       4  Get Shorty (1995)\n",
       "4       5     Copycat (1995)"
      ]
     },
     "execution_count": 3,
     "metadata": {},
     "output_type": "execute_result"
    }
   ],
   "source": [
    "# import pandas\n",
    "from pandas import read_table\n",
    "# read csv file\n",
    "items = read_table('u.item',header=None,sep='|',encoding='ISO-8859-1')\n",
    "# remove collumns 2-24\n",
    "items.drop(range(2,24),axis=1, inplace=True)\n",
    "# name the columns\n",
    "items.columns = ['itemid','title']\n",
    "# show the first 5 rows of the dataframe\n",
    "items.head()"
   ]
  },
  {
   "cell_type": "markdown",
   "metadata": {
    "slideshow": {
     "slide_type": "slide"
    }
   },
   "source": [
    "The dataframe \"items\" contains the column \"itemid\" with the Movielens index of each movie, and the column \"title\"  with the title of each movie. If you want to get the name of the i-th movie, you can use the method *iloc*"
   ]
  },
  {
   "cell_type": "code",
   "execution_count": 4,
   "metadata": {},
   "outputs": [
    {
     "data": {
      "text/plain": [
       "'Birdcage, The (1996)'"
      ]
     },
     "execution_count": 4,
     "metadata": {},
     "output_type": "execute_result"
    }
   ],
   "source": [
    "# show the name of the 25-th movie (remember, in python the index always starts from 0)\n",
    "items.iloc[24]['title']"
   ]
  },
  {
   "cell_type": "markdown",
   "metadata": {
    "slideshow": {
     "slide_type": "slide"
    }
   },
   "source": [
    "### Task 1\n",
    "***\n",
    "Now, **you have to import** the ratings from the file 'u.data'. \n",
    "#### Tips\n",
    "* You can read a text file into a Numpy array using the function [genfromtxt](https://docs.scipy.org/doc/numpy/reference/generated/numpy.genfromtxt.html) (use the *delimiter='\\t'* to split columns)"
   ]
  },
  {
   "cell_type": "code",
   "execution_count": 52,
   "metadata": {
    "slideshow": {
     "slide_type": "slide"
    }
   },
   "outputs": [
    {
     "data": {
      "text/html": [
       "<div>\n",
       "<style scoped>\n",
       "    .dataframe tbody tr th:only-of-type {\n",
       "        vertical-align: middle;\n",
       "    }\n",
       "\n",
       "    .dataframe tbody tr th {\n",
       "        vertical-align: top;\n",
       "    }\n",
       "\n",
       "    .dataframe thead th {\n",
       "        text-align: right;\n",
       "    }\n",
       "</style>\n",
       "<table border=\"1\" class=\"dataframe\">\n",
       "  <thead>\n",
       "    <tr style=\"text-align: right;\">\n",
       "      <th></th>\n",
       "      <th>user_id</th>\n",
       "      <th>item_id</th>\n",
       "      <th>rating</th>\n",
       "      <th>timestamp</th>\n",
       "    </tr>\n",
       "  </thead>\n",
       "  <tbody>\n",
       "    <tr>\n",
       "      <th>100006</th>\n",
       "      <td>944</td>\n",
       "      <td>8</td>\n",
       "      <td>5</td>\n",
       "      <td>1544183346</td>\n",
       "    </tr>\n",
       "    <tr>\n",
       "      <th>100007</th>\n",
       "      <td>944</td>\n",
       "      <td>9</td>\n",
       "      <td>5</td>\n",
       "      <td>1544183346</td>\n",
       "    </tr>\n",
       "    <tr>\n",
       "      <th>100008</th>\n",
       "      <td>944</td>\n",
       "      <td>10</td>\n",
       "      <td>5</td>\n",
       "      <td>1544183346</td>\n",
       "    </tr>\n",
       "    <tr>\n",
       "      <th>100009</th>\n",
       "      <td>944</td>\n",
       "      <td>11</td>\n",
       "      <td>5</td>\n",
       "      <td>1544183346</td>\n",
       "    </tr>\n",
       "    <tr>\n",
       "      <th>100010</th>\n",
       "      <td>945</td>\n",
       "      <td>-1</td>\n",
       "      <td>0</td>\n",
       "      <td>1544183346</td>\n",
       "    </tr>\n",
       "  </tbody>\n",
       "</table>\n",
       "</div>"
      ],
      "text/plain": [
       "        user_id  item_id  rating   timestamp\n",
       "100006      944        8       5  1544183346\n",
       "100007      944        9       5  1544183346\n",
       "100008      944       10       5  1544183346\n",
       "100009      944       11       5  1544183346\n",
       "100010      945       -1       0  1544183346"
      ]
     },
     "execution_count": 52,
     "metadata": {},
     "output_type": "execute_result"
    }
   ],
   "source": [
    "# Task: import ratings\n",
    "# YOUR CODE ..................................\n",
    "import time\n",
    "# import pandas\n",
    "data = np.genfromtxt('u.data',dtype = int, delimiter = '\\t')\n",
    "data_panda = pd.DataFrame(data, columns = ['user_id','item_id','rating','timestamp'])\n",
    "usuarioYo = data_panda['user_id'].max()+1\n",
    "\n",
    "\n",
    "mis_valoraciones = [[usuarioYo, items[items['title']=='Toy Story (1995)']['itemid'], 1, time.time()],\n",
    "                    [usuarioYo, items[items['title']=='GoldenEye (1995)']['itemid'], 5, time.time()],\n",
    "                    [usuarioYo, items[items['title']=='Four Rooms (1995)']['itemid'], 1, time.time()],\n",
    "                    [usuarioYo, items[items['title']=='Get Shorty (1995)']['itemid'], 1, time.time()],\n",
    "                    [usuarioYo, items[items['title']=='Copycat (1995)']['itemid'], 5, time.time()],\n",
    "                    [usuarioYo, items[items['title']=='Twelve Monkeys (1995)']['itemid'], 5, time.time()],\n",
    "                    [usuarioYo, items[items['title']=='Babe (1995)']['itemid'], 5, time.time()],\n",
    "                    [usuarioYo, items[items['title']=='Dead Man Walking (1995)']['itemid'], 5, time.time()],\n",
    "                    [usuarioYo, items[items['title']=='Richard III (1995)']['itemid'], 5, time.time()],\n",
    "                    [usuarioYo, items[items['title']=='Seven (Se7en) (1995)']['itemid'], 5, time.time()]] \n",
    "\n",
    "mis_valoraciones = np.array(mis_valoraciones, dtype=int)\n",
    "\n",
    "data = np.append(data,mis_valoraciones,axis = 0)\n",
    "data_panda = pd.DataFrame(data, columns = ['user_id','item_id','rating','timestamp'])\n",
    "\n",
    "# Nuevo usuario sin ratings\n",
    "usuarioSinRatings = data_panda['user_id'].max()+1\n",
    "mis_valoraciones = [[usuarioSinRatings, -1, 0, time.time()]] \n",
    "\n",
    "mis_valoraciones = np.array(mis_valoraciones, dtype=int)\n",
    "\n",
    "data = np.append(data,mis_valoraciones,axis = 0)\n",
    "data_panda = pd.DataFrame(data, columns = ['user_id','item_id','rating','timestamp'])\n",
    "data_panda.tail()\n"
   ]
  },
  {
   "cell_type": "markdown",
   "metadata": {},
   "source": [
    "### 1.2 Build arrays Y, R"
   ]
  },
  {
   "cell_type": "markdown",
   "metadata": {
    "slideshow": {
     "slide_type": "slide"
    }
   },
   "source": [
    "### Task 2\n",
    "***\n",
    "Now, **you have to build** the matrices Y and R. \n",
    "\n",
    "The *n_movies x n_users (mxu)* matrix Y represents (by columns) the ratings that each user gave to the movies she watched\n",
    "\n",
    "$Y=\\begin{bmatrix}y^{(1,1)} & ...& y^{(1,u)} \\\\. & ...& .\\\\y^{(m,1)} & ...& y^{(m,u)} \\end{bmatrix}$\n",
    "\n",
    "The matrix R is complementary to Y. R has the same dimension of Y, i.e. *n_movies x n_users (mxu)*, and represents (by columns) if a user watched a movie (1) or did not (0).\n",
    "\n",
    "$R=\\begin{bmatrix}r^{(1,1)} & ...& r^{(1,u)} \\\\. & ...& .\\\\r^{(m,1)} & ...& r^{(m,u)} \\end{bmatrix}$\n",
    "\n",
    "where\n",
    "\n",
    "$r^{(i,j)}=\\begin{cases}1 & user(j) \\ watched \\ movie(i)\\\\0 & otherwise\\end{cases}$\n",
    "\n",
    "#### Tips\n",
    "* Remember that in Numpy the index array always starts with 0, i.e. the row 0 of the matrix Y represents the ratings of the movie 1 of Movielens database, similarly, the column 0 of the matrix Y represents the ratings of the user 1 of the Movielens database.\n",
    "* The Numpy function **unique()** returns the sorted unique elements of an array; it may be useful to get the list of users and movies from the rating database\n",
    "* The Numpy function **zeros()** returns a matrix of zeros \n",
    "* Supposing a Numpy array A, the function **A.shape[0]** returns the number of rows, and **A.shape[1]** the number of columns"
   ]
  },
  {
   "cell_type": "code",
   "execution_count": 53,
   "metadata": {
    "slideshow": {
     "slide_type": "slide"
    }
   },
   "outputs": [],
   "source": [
    "# Task: bulid matrices Y and R\n",
    "# YOUR CODE ..................................\n",
    "\n",
    "\n",
    "n_movies = items.shape[0]\n",
    "n_users = np.unique(data_panda['user_id']).shape[0]\n",
    "\n",
    "y = np.zeros((n_movies,n_users))\n",
    "r = np.zeros((n_movies,n_users))\n",
    "\n",
    "for i in range(n_movies):\n",
    "    usuarios = data_panda[data_panda.item_id == i+1]['user_id']\n",
    "    for j in usuarios:\n",
    "        r[i][j-1] = 1\n",
    "\n",
    "for i in data[:,0:3]:\n",
    "    y[i[1]-1][i[0]-1] = i[2]\n",
    "    "
   ]
  },
  {
   "cell_type": "markdown",
   "metadata": {},
   "source": [
    "### 1.3 Using matrices Y and R"
   ]
  },
  {
   "cell_type": "markdown",
   "metadata": {
    "slideshow": {
     "slide_type": "slide"
    }
   },
   "source": [
    "### Task 3\n",
    "***\n",
    "**Answer** the next questions:\n",
    "1. How many movies did the Movielens user 12 watch?\n",
    "2. What is the minimum rating of the Movielens user 12 ? And the maximum?\n",
    "3. What is the maximum rating of the Movielens user 12 ?\n",
    "4. What are the movie indices that the Movielens user 12 watched? And the user 11?\n",
    "5. What are the movie indices that both the Movielens user 12 and 11 watched?\n",
    "\n",
    "#### Tips\n",
    "* The Numpy function **where(A>0)** returns the indices of the elements of A where the condition >0 is true\n"
   ]
  },
  {
   "cell_type": "code",
   "execution_count": 54,
   "metadata": {
    "slideshow": {
     "slide_type": "slide"
    }
   },
   "outputs": [
    {
     "name": "stdout",
     "output_type": "stream",
     "text": [
      "Vistas: 51\n",
      "Minimo: 1.0\n",
      "Maximo: 5.0\n",
      "Indices para el 12: [[  4  15  28  50  69  71  82  88  96  97  98 127 132 133 143 157 159 161\n",
      "  168 170 172 174 191 195 196 200 202 203 204 215 216 228 238 242 276 282\n",
      "  300 318 328 381 392 402 416 471 480 591 684 708 735 753 754]]\n",
      "Indices para el 11: [[  8   9  11  12  15  22  24  25  28  29  38  39  40  42  47  51  52  54\n",
      "   56  57  58  69  70  79  83  86  88  90  94  97  98 100 107 109 110 111\n",
      "  120 121 123 125 135 168 173 175 176 180 185 190 191 194 196 203 204 208\n",
      "  211 213 215 216 222 227 228 229 230 237 238 239 241 258 259 260 268 274\n",
      "  277 286 290 291 300 301 312 317 318 324 332 350 356 357 365 367 370 372\n",
      "  382 383 386 393 395 399 401 402 405 414 423 425 427 428 429 430 431 433\n",
      "  434 435 449 451 455 504 508 517 521 524 526 527 544 549 558 561 573 577\n",
      "  580 597 603 646 652 654 659 660 662 663 690 692 699 707 710 713 714 715\n",
      "  716 717 718 719 720 721 722 723 724 725 726 727 728 729 730 731 732 733\n",
      "  734 735 736 737 738 739 740 741 742 743 744 745 746 747 748 749 750 751\n",
      "  752]]\n",
      "Indices comunes: [ 15  28  69  88  97  98 168 191 196 203 204 215 216 228 238 300 318 402\n",
      " 735]\n"
     ]
    }
   ],
   "source": [
    "# Task: explore Y and R\n",
    "# YOUR CODE ..................................\n",
    "cont = 0\n",
    "usuario12 = r[:,11]\n",
    "cont = np.count_nonzero(usuario12 == 1)\n",
    "print('Vistas: ' +str(cont))\n",
    "\n",
    "y1 = y[:,11]\n",
    "usuario12 = np.delete(y1, np.where(r[:,11] == 0))\n",
    "minimo = np.min(usuario12)\n",
    "maximo = np.max(usuario12)\n",
    "print('Minimo: ' +str(minimo))\n",
    "print('Maximo: ' +str(maximo))\n",
    "\n",
    "indices12 = np.where(r[:,11]>0)\n",
    "indices12 = np.array(indices12)\n",
    "print('Indices para el 12: ' +str(indices12+1))\n",
    "indices11 = np.where(r[:,10]>0)\n",
    "indices11 = np.array(indices11)\n",
    "print('Indices para el 11: ' +str(indices11+1))\n",
    "\n",
    "indicescomun = np.intersect1d(indices12,indices11)\n",
    "indicescomun = np.array(indicescomun)\n",
    "print('Indices comunes: ' +str(indicescomun+1))"
   ]
  },
  {
   "cell_type": "markdown",
   "metadata": {},
   "source": [
    "### 1.4 Checking Y and R"
   ]
  },
  {
   "cell_type": "markdown",
   "metadata": {
    "slideshow": {
     "slide_type": "slide"
    }
   },
   "source": [
    "### Task 4\n",
    "***\n",
    "Check the matrices Y and R computed above by calculating some statistics (your values must be equal to the values shown below)\n",
    "\n",
    "* number of users: 943\n",
    "* number of movies: 1682\n",
    "* dimension of Y: (1682,943)\n",
    "* dimension of R: (1682,943)\n",
    "* number of ratings: 100000\n",
    "* number of nonzero elements of R: 100000\n",
    "* average rating: 3.5299\n",
    "* maximum rating: 5.0000\n",
    "* minimum rating: 1.0000\n",
    "* average rating of the movie 1: 3.8783\n",
    "* average rating of the movie 10: 3.8315\n",
    "* average rating of the movie 100: 4.1555\n",
    "* average rating of the movie 1000: 3.0000 \n",
    "* average rating of the user 1: 3.6103\n",
    "* average rating of the user 10: 4.2065\n",
    "* average rating of the user 100: 3.0678\n",
    "* average rating of the user 900: 2.5556\n",
    "\n",
    "#### Tips\n",
    "* Suppose the user i. Note that the average of ratings is over the movies that user i watched, so you have to consider only the values Y(j,i) such as the corresponding R(j,i) is equal to one."
   ]
  },
  {
   "cell_type": "code",
   "execution_count": 55,
   "metadata": {
    "slideshow": {
     "slide_type": "slide"
    }
   },
   "outputs": [
    {
     "name": "stdout",
     "output_type": "stream",
     "text": [
      "945\n",
      "1682\n",
      "(1682, 945)\n",
      "(1682, 945)\n",
      "100011\n",
      "100010.0\n",
      "3.5298870112988703\n",
      "5.0\n",
      "1.0\n",
      "3.8719646799116996\n",
      "3.8444444444444446\n",
      "4.155511811023622\n",
      "3.0\n",
      "3.610294117647059\n",
      "4.206521739130435\n",
      "3.0677966101694913\n",
      "2.5555555555555554\n"
     ]
    }
   ],
   "source": [
    "# Task: check Y and R\n",
    "# YOUR CODE ..................................\n",
    "\n",
    "print(n_users)\n",
    "print(n_movies)\n",
    "print(y.shape)\n",
    "print(r.shape)\n",
    "print(len(data[:,2]))\n",
    "print(np.sum(r))\n",
    "print(np.sum(y[r>0])/np.sum(r))\n",
    "print(np.max(y[r>0]))\n",
    "print(np.min(y[r>0]))\n",
    "print(sum(y[0,:])/sum(r[0,:]))\n",
    "print(sum(y[9,:])/sum(r[9,:]))\n",
    "print(sum(y[99,:])/sum(r[99,:]))\n",
    "print(sum(y[999,:])/sum(r[999,:]))\n",
    "print(sum(y[:,0])/sum(r[:,0]))\n",
    "print(sum(y[:,9])/sum(r[:,9]))\n",
    "print(sum(y[:,99])/sum(r[:,99]))\n",
    "print(sum(y[:,899])/sum(r[:,899]))"
   ]
  },
  {
   "cell_type": "markdown",
   "metadata": {},
   "source": [
    "### 1.5 Sparse matrix Y"
   ]
  },
  {
   "cell_type": "markdown",
   "metadata": {
    "slideshow": {
     "slide_type": "slide"
    }
   },
   "source": [
    "### Task 5\n",
    "***\n",
    "You can use the Numpy function **matshow()** to show that the matrix Y is sparse (most values are zero because they correspond to movies that have not been watched). You should get a plot similar to the next one:\n",
    "<img src=\"https://goo.gl/dk84YT\" height=\"400\" width=\"300\" align=\"centre\"/>"
   ]
  },
  {
   "cell_type": "code",
   "execution_count": 56,
   "metadata": {
    "slideshow": {
     "slide_type": "slide"
    }
   },
   "outputs": [
    {
     "data": {
      "text/plain": [
       "<matplotlib.image.AxesImage at 0x267c3e29550>"
      ]
     },
     "execution_count": 56,
     "metadata": {},
     "output_type": "execute_result"
    },
    {
     "data": {
      "image/png": "[encoded data removed]",
      "text/plain": [
       "<Figure size 288x512.61 with 1 Axes>"
      ]
     },
     "metadata": {},
     "output_type": "display_data"
    }
   ],
   "source": [
    "# Task: show matrix Y\n",
    "# YOUR CODE ..................................\n",
    "y = np.array(y)\n",
    "plt.matshow(y)\n",
    "\n",
    "\n",
    "\n",
    "\n",
    "\n"
   ]
  },
  {
   "cell_type": "markdown",
   "metadata": {
    "slideshow": {
     "slide_type": "slide"
    }
   },
   "source": [
    "### 1.6 Save variables"
   ]
  },
  {
   "cell_type": "markdown",
   "metadata": {},
   "source": [
    "### Task 6\n",
    "***\n",
    "Finally, save the matrices Y and R so you can load them in another notebook."
   ]
  },
  {
   "cell_type": "code",
   "execution_count": 57,
   "metadata": {
    "slideshow": {
     "slide_type": "-"
    }
   },
   "outputs": [],
   "source": [
    "# Task: save a matrix Y and R\n",
    "# YOUR CODE ..................................\n",
    "np.save('matrizy.npy',y)\n",
    "np.save('matrizr.npy',r)\n",
    "\n",
    "\n",
    "\n",
    "\n"
   ]
  },
  {
   "cell_type": "code",
   "execution_count": null,
   "metadata": {
    "collapsed": true
   },
   "outputs": [],
   "source": []
  }
 ],
 "metadata": {
  "anaconda-cloud": {},
  "celltoolbar": "Slideshow",
  "kernelspec": {
   "display_name": "Python 3",
   "language": "python",
   "name": "python3"
  },
  "language_info": {
   "codemirror_mode": {
    "name": "ipython",
    "version": 3
   },
   "file_extension": ".py",
   "mimetype": "text/x-python",
   "name": "python",
   "nbconvert_exporter": "python",
   "pygments_lexer": "ipython3",
   "version": "3.6.5"
  }
 },
 "nbformat": 4,
 "nbformat_minor": 1
}
