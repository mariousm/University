{
 "cells": [
  {
   "cell_type": "markdown",
   "metadata": {
    "slideshow": {
     "slide_type": "slide"
    }
   },
   "source": [
    "<img src=\"http://www.ubu.es/sites/default/files/portal_page/images/logo_color_2l_dcha.jpg\" height=\"150\" width=\"150\" align=\"right\"/>"
   ]
  },
  {
   "cell_type": "markdown",
   "metadata": {
    "slideshow": {
     "slide_type": "-"
    }
   },
   "source": [
    "## Collaborative Filtering (2)\n",
    "[Nacho Santos](www.nacho.santos.name)"
   ]
  },
  {
   "cell_type": "markdown",
   "metadata": {
    "slideshow": {
     "slide_type": "slide"
    }
   },
   "source": [
    "## Import python packages"
   ]
  },
  {
   "cell_type": "code",
   "execution_count": 119,
   "metadata": {
    "slideshow": {
     "slide_type": "-"
    }
   },
   "outputs": [],
   "source": [
    "import numpy as np\n",
    "from scipy.optimize import minimize\n",
    "import matplotlib.pyplot as plt"
   ]
  },
  {
   "cell_type": "code",
   "execution_count": 120,
   "metadata": {},
   "outputs": [],
   "source": [
    "y = np.load('matrizy.npy')\n",
    "r = np.load('matrizr.npy')"
   ]
  },
  {
   "cell_type": "code",
   "execution_count": 121,
   "metadata": {
    "scrolled": true,
    "slideshow": {
     "slide_type": "-"
    }
   },
   "outputs": [],
   "source": [
    "# Other functions necessary for this assignment\n",
    "# The python file \"recommender_system.py\" must be in the same folder as this notebook, otherwise,\n",
    "# you have to add the path to the file\n",
    "from recommender_system import *"
   ]
  },
  {
   "cell_type": "code",
   "execution_count": 122,
   "metadata": {
    "slideshow": {
     "slide_type": "-"
    }
   },
   "outputs": [],
   "source": [
    "# This line is necessary to show matplotlib plots inside the jupyter notebook\n",
    "%matplotlib inline"
   ]
  },
  {
   "cell_type": "markdown",
   "metadata": {
    "slideshow": {
     "slide_type": "slide"
    }
   },
   "source": [
    "## 2 The cost funcion J and the gradient of J\n",
    "The objective of this point is to build a function to compute the cost J and the corresponding gradient of J. In particular, you are going to implement a function called **cofiCostFunc()** with the arguments(inputs) and outputs detailed below (the code of the function is partially predefined in a cell right after).\n",
    "\n",
    "**Arguments** (in this order)\n",
    "* *parameters* (the paramaters of the cost function, i.e. X and $\\theta$\n",
    "* *Y* (matrix of ratings)\n",
    "* *R* (matrix of watched movies)\n",
    "* *n_users* (number of users)\n",
    "* *n_movies* (number of movies)\n",
    "* *n_characteristics* (number of the filter characteristics)\n",
    "* *landa* (regularization parameter)\n",
    "\n",
    "**Outputs** (in this order)\n",
    "* *cost* (value of the cost function J)\n",
    "* *gradient* (gradient of the cost function J)"
   ]
  },
  {
   "cell_type": "code",
   "execution_count": 123,
   "metadata": {
    "slideshow": {
     "slide_type": "slide"
    }
   },
   "outputs": [],
   "source": [
    "# Cost and gradient function\n",
    "n_features = 100\n",
    "x_0 = np.random.random_sample((y.shape[0],n_features))\n",
    "thetha_0 = np.random.random_sample((y.shape[1],n_features))\n",
    "vecFlat_0 = np.append(x_0.flatten(),thetha_0.flatten())\n",
    "n_users = y.shape[1]\n",
    "n_movies = y.shape[0]\n",
    "\n",
    "def cofiCostFunc (parameters, Y, R, n_users, n_movies, n_features, lamb):\n",
    "# parameters: vector with the matrices X and Theta foldes\n",
    "# Y: matrix of ratings\n",
    "# R: matrix of watched movies\n",
    "# n_users: number of users (number of columns of the matrix Y)\n",
    "# n_movies: number of movies (number of rows of the matrix Y)\n",
    "# n_features: number of movies' features (a parameter of the CF algorithm)\n",
    "# lamb: regularization term\n",
    "#\n",
    "# cofiCostFunc rerturns the cost J and the gradient of J\n",
    "\n",
    "    # You need to return the following values correctly\n",
    "    cost=0\n",
    "    gradient=np.zeros_like(parameters)\n",
    "    \n",
    "    # Remember:\n",
    "    #  (1) To unfold X and Theta from parameters before computing J and the gradients\n",
    "    #  (2) To fold the gradient of J with respect to X and to Theta into a flattened vector gradient \n",
    "    #      that is returned by the function\n",
    "    \n",
    "    \n",
    "    # YOUR CODE ..................................\n",
    "    \n",
    "    x = parameters[0:(n_movies*n_features)].reshape((n_movies,n_features))\n",
    "    thetha = parameters[(n_movies*n_features):].reshape((n_users,n_features))\n",
    "    thethaT = thetha.transpose()  \n",
    "    mul = np.dot(x,thethaT)   \n",
    "    ycapuchino = np.multiply(mul,R)\n",
    "    \n",
    "    primera_parte_coste = (1/2)*np.sum((ycapuchino-Y)**2)\n",
    "    segunda_parte_coste = (lamb/2)*np.sum((x)**2)\n",
    "    tercera_parte_coste = (lamb/2)*np.sum((thetha)**2)\n",
    "    \n",
    "    cost = primera_parte_coste+segunda_parte_coste+tercera_parte_coste\n",
    "    \n",
    "    a = np.multiply(np.dot(x,thetha.T),R) - Y\n",
    "    grad_thetha = np.dot(a,thetha) + lamb*x\n",
    "\n",
    "    a = np.multiply(np.dot(x,thetha.T),R) - Y\n",
    "    grad_x = np.dot(a.T,x) + lamb*thetha\n",
    "\n",
    "    gradient = np.append(grad_thetha.flatten(),grad_x.flatten())\n",
    "    \n",
    "    \n",
    "    \n",
    "    \n",
    "\n",
    "    # YOUR CODE (end) ..................................\n",
    "    \n",
    "    return (cost, gradient)"
   ]
  },
  {
   "cell_type": "markdown",
   "metadata": {
    "slideshow": {
     "slide_type": "slide"
    }
   },
   "source": [
    "### 2.1 Input *parameters* of the cofiCostFunc\n",
    "\n",
    "**Features X and preferences Theta**\n",
    "\n",
    "The Collaborative Filtering (CF) algorithm is based on two sets of lineas regressions, the first one corresponds to the movies' features X, and the second one corresponds to the users' preferences Theta. Assuming n features, the matrix X will be:\n",
    "\n",
    "$$X=\\begin{bmatrix}x^{(1)}_{1} & ...& x^{(1)}_{n} \\\\. & ...& .\\\\x^{(m)}_{1} & ...& x^{(m)}_{n} \\end{bmatrix}$$\n",
    "\n",
    "where the i-th row of X corresponds to the feature vector $x^{(i)}$ for the i-th movie.\n",
    "\n",
    "And the matrix Theta will be:\n",
    "\n",
    "$$Theta=\\Theta=\\begin{bmatrix}\\theta^{(1)}_{1} & ...& \\theta^{(1)}_{n} \\\\. & ...& .\\\\\\theta^{(u)}_{1} & ...& \\theta^{(u)}_{n} \\end{bmatrix}$$\n",
    "\n",
    "where the j-th row of Theta corresponds to the preference vector $\\theta^{(j)}$ for the j-th user. "
   ]
  },
  {
   "cell_type": "markdown",
   "metadata": {
    "slideshow": {
     "slide_type": "slide"
    }
   },
   "source": [
    "**Passing X and Theta to cofiCostFunc**\n",
    "\n",
    "We are going to use a optimize package scipy.optimize that requires using a **flattened vector** of parameters. However, in our problem tha parameters to be optimized are represented by two matrices, i.e. X and Theta. So, X and Theta must be passed to the cofiCostFunc as a **(mxn)+(u+n) vector**, called **parameters**:\n",
    "\n",
    "$${ \\left[ \\begin{matrix} { x }^{ (1) }, & ... & { x }^{ (m) }, \\end{matrix}\\begin{matrix} \\theta ^{ (1) }, & ... & \\theta ^{ (u) } \\end{matrix} \\right]  }_{ (m\\cdot n)+(u\\cdot n) }$$ \n",
    "\n",
    "However, inside the function, you can unfold the vector **parameters** and build the matrices X and Theta to compute J and the gradients according to the equations explained in class."
   ]
  },
  {
   "cell_type": "markdown",
   "metadata": {
    "slideshow": {
     "slide_type": "slide"
    }
   },
   "source": [
    "### 2.2 Computing the cost J\n",
    "Suppose that the vector of features $x^{(i)}$ of the film i and the vector of preferences $\\theta^{(j)}$ of the user j are known, then the **estimate of the rating** of the user j for the movie i will be:\n",
    "\n",
    "$$\\widehat{y}^{(i,j)}=x^{(i)}(\\theta^{(j)})^{T}$$\n",
    "\n",
    "The error of the estimate will be the difference between the estimate of rating $\\widehat{y}^{(i,j)}$ and the real ratings $y^{(i,j)}$\n",
    "\n",
    "The **cost J** is defined as the the average of the squares of the errors plus two regularization terms:\n",
    "\n",
    "$$J=\\frac { 1 }{ 2 } \\sum _{ (i,j):r(i,j)=1 }^{  }{ \\left( { x }^{ (i) }({ \\theta  }^{ (j) })^{ T }-{ y }^{ (i,j) } \\right) ^{ 2 } } +\\quad \\frac { \\lambda  }{ 2 } \\sum _{ i=1 }^{ m }{ \\sum _{ k=1 }^{ n }{ ({ x }_{ k }^{ (i) })^{ 2 } }  } +\\frac { \\lambda  }{ 2 } \\sum _{ j=1 }^{ u }{ \\sum _{ k=1 }^{ n }{ ({ \\theta  }_{ k }^{ (j) })^{ 2 } }  } $$\n"
   ]
  },
  {
   "cell_type": "markdown",
   "metadata": {
    "slideshow": {
     "slide_type": "slide"
    }
   },
   "source": [
    "### Task 7\n",
    "***\n",
    "Implement the cost J as a vectorized expression (recommended). For example, the estimate of ratings can be expressed as:\n",
    "\n",
    "$$\\widehat{Y}=X\\Theta^{T}$$\n",
    "\n",
    "Now, go back and **complete the cofiCostFunc code to compute the cost J**. Remeber that J is scalar value."
   ]
  },
  {
   "cell_type": "markdown",
   "metadata": {
    "slideshow": {
     "slide_type": "slide"
    }
   },
   "source": [
    "### 2.3 Checking the cost J\n",
    "Now, you will import a data set and check the cofiCostFunc."
   ]
  },
  {
   "cell_type": "code",
   "execution_count": 124,
   "metadata": {
    "slideshow": {
     "slide_type": "-"
    }
   },
   "outputs": [],
   "source": [
    "# load dataset for checking\n",
    "Y=np.load('YmatrixTest.npy')\n",
    "R=np.load('RmatrixTest.npy')\n",
    "X=np.load('XmatrixTest.npy')\n",
    "Theta=np.load('ThetamatrixTest.npy')\n",
    "\n",
    "# dimension\n",
    "n_users = Y.shape[1]\n",
    "n_movies = Y.shape[0]\n",
    "n_features = X.shape[1]"
   ]
  },
  {
   "cell_type": "markdown",
   "metadata": {},
   "source": [
    "### Task 8\n",
    "***\n",
    "Call cofiCostFunc with lamb=0 (without regularization term) and check the result"
   ]
  },
  {
   "cell_type": "code",
   "execution_count": 125,
   "metadata": {
    "slideshow": {
     "slide_type": "slide"
    }
   },
   "outputs": [
    {
     "name": "stdout",
     "output_type": "stream",
     "text": [
      "The value of J (without regularization term) is 22.22 (it should be 22.22)\n"
     ]
    }
   ],
   "source": [
    "# Evaluate Cost J (without regularization term)\n",
    "J=0\n",
    "parameters=np.append(X.flatten(),Theta.flatten())\n",
    "\n",
    "# YOUR CODE ..................................\n",
    "# call cofiCostFunc with lamb=0 (without regularization term)\n",
    "\n",
    "\n",
    "J = cofiCostFunc(parameters, Y, R, n_users, n_movies, n_features, 0)\n",
    "\n",
    "\n",
    "# YOUR CODE (end)..................................\n",
    "\n",
    "print('The value of J (without regularization term) is %0.2f (it should be 22.22)' % J[0] )"
   ]
  },
  {
   "cell_type": "markdown",
   "metadata": {},
   "source": [
    "### Task 9\n",
    "***\n",
    "Call cofiCostFunc with lamb=1.5 (with regularization term) and check the result"
   ]
  },
  {
   "cell_type": "code",
   "execution_count": 126,
   "metadata": {
    "slideshow": {
     "slide_type": "slide"
    }
   },
   "outputs": [
    {
     "name": "stdout",
     "output_type": "stream",
     "text": [
      "The value of J (with regularization term equal to 1.5) is 31.34 (it should be 31.34)\n"
     ]
    }
   ],
   "source": [
    "# Evaluate Cost J (with regularization term)\n",
    "J=0\n",
    "parameters=np.append(X.flatten(),Theta.flatten())\n",
    "\n",
    "# YOUR CODE ..................................\n",
    "# call cofiCostFunc with lamb=1.5 (without regularization term)\n",
    "\n",
    "J = cofiCostFunc(parameters, Y, R, n_users, n_movies, n_features, 1.5)\n",
    "\n",
    "\n",
    "\n",
    "# YOUR CODE (end)..................................\n",
    "\n",
    "print('The value of J (with regularization term equal to 1.5) is %0.2f (it should be 31.34)' % J[0] )"
   ]
  },
  {
   "cell_type": "markdown",
   "metadata": {
    "slideshow": {
     "slide_type": "slide"
    }
   },
   "source": [
    "### 2.4 Computing the gradient of J\n",
    "The **gradient of J** depends on the two types of parameters, i.e. X and Theta. The corresponding equations are:\n",
    "\n",
    "$$\\frac { \\partial J }{ \\partial { \\theta  }_{ k }^{ (j) } } =\\sum _{ i:r(i,j)=1 }^{  }{ \\left( { x }^{ (i) }({ \\theta  }^{ (j) })^{ T }-{ y }^{ (i,j) } \\right) { x }_{ k }^{ (i) } } +\\lambda { \\theta  }_{ k }^{ (j) }$$\n",
    "\n",
    "$$\\frac { \\partial J }{ \\partial { x }_{ k }^{ (i) } } =\\sum _{ j:r(i,j)=1 }^{  }{ \\left( { x }^{ (i) }({ \\theta  }^{ (j) })^{ T }-{ y }^{ (i,j) } \\right) \\theta _{ k }^{ (j) } } +\\lambda { x }_{ k }^{ (i) }$$"
   ]
  },
  {
   "cell_type": "markdown",
   "metadata": {
    "slideshow": {
     "slide_type": "slide"
    }
   },
   "source": [
    "### Task 10\n",
    "***\n",
    "Now, go back and **complete the cofiCostFunc code to compute the gradient of J**. Remember to use vectorized operations instead of using for loops.\n",
    "\n",
    "Note that the outputs of cofiCostFunc are the cost J (scalar value) and the gradient, again a **flattened vector of the corresponding gradients of X and Theta**:\n",
    "\n",
    "$${ \\left[ \\begin{matrix} \\frac { \\partial J }{ \\partial { x }^{ (1) } } , & ... & \\frac { \\partial J }{ \\partial { x }^{ (m) } } , & \\frac { \\partial J }{ \\partial \\theta ^{ (1) } } , & ... & \\frac { \\partial J }{ \\partial \\theta ^{ (u) } }  \\end{matrix} \\right]  }_{ (m\\cdot n)+(u\\cdot n) }$$\n",
    "\n",
    "After computing both gradients, you should reshape them into a flattened vector called **gradient** that will be returned by the cofiCostFunc."
   ]
  },
  {
   "cell_type": "markdown",
   "metadata": {},
   "source": [
    "### 2.5 Checking the gradient of J\n",
    "For the same dataset of the last poit, you will check the gradient of J computed by your cofiCostFunc"
   ]
  },
  {
   "cell_type": "code",
   "execution_count": 127,
   "metadata": {},
   "outputs": [
    {
     "name": "stdout",
     "output_type": "stream",
     "text": [
      "The above two columns you get should be very similar.\n",
      "(Left - Your Numerical Gradient, Right - Analytical Gradient)\n",
      "\n",
      "(1.3087481546780744, 1.3087481546779531)\n",
      "(1.0563844320055082, 1.0563844320060467)\n",
      "(1.0412680066052005, 1.0412680066060844)\n",
      "(0.08519569861586973, 0.08519569861634141)\n",
      "(0.23891556311772533, 0.2389155631176723)\n",
      "(0.08277845564674813, 0.08277845564646907)\n",
      "(1.1314171195753175, 1.131417119576377)\n",
      "(1.152691331930411, 1.1526913319292933)\n",
      "(0.8986444990566334, 0.8986444990564326)\n",
      "(-0.11587720785688482, -0.11587720785577697)\n",
      "(-0.8277296344427754, -0.8277296344438764)\n",
      "(-0.2770643680394258, -0.27706436803956896)\n",
      "(-0.20481966876539914, -0.2048196687650042)\n",
      "(-0.017485102089542792, -0.01748510208932063)\n",
      "(-0.06679118704222553, -0.06679118704214843)\n",
      "(0.20154629868596174, 0.20154629868615184)\n",
      "(0.563314248949176, 0.563314248949688)\n",
      "(0.4523965958502796, 0.45239659585079717)\n",
      "(-0.37960295849570613, -0.37960295849609677)\n",
      "(-0.032406050272104636, -0.03240605027209413)\n",
      "(-0.12378758522335609, -0.12378758522334722)\n",
      "(0.410650581080807, 0.41065058108042013)\n",
      "(0.37834244683176976, 0.37834244683236967)\n",
      "(0.5018419446212175, 0.5018419446215293)\n",
      "(1.0302027351039023, 1.030202735104329)\n",
      "(0.8504132759123983, 0.8504132759113423)\n",
      "(1.212192175760185, 1.2121921757591763)\n",
      "If your backpropagation implementation is correct, then \n",
      "the relative difference will be small (less than 1e-9).\n",
      "Relative Difference: 4.45073606e-13\n",
      "\n"
     ]
    }
   ],
   "source": [
    "# Check gradients (without regularization term) by running the next function\n",
    "checkCostFunction(cofiCostFunc,0)"
   ]
  },
  {
   "cell_type": "code",
   "execution_count": 128,
   "metadata": {},
   "outputs": [
    {
     "name": "stdout",
     "output_type": "stream",
     "text": [
      "The above two columns you get should be very similar.\n",
      "(Left - Your Numerical Gradient, Right - Analytical Gradient)\n",
      "\n",
      "(1.5196799849270803, 1.5196799849164193)\n",
      "(1.0035059882618214, 1.003505988268374)\n",
      "(1.5380143311816141, 1.5380143311782573)\n",
      "(0.5508999751846488, 0.5508999751890699)\n",
      "(1.0964159858684042, 1.09641598586486)\n",
      "(0.3623674398411936, 0.36236743984618025)\n",
      "(1.7855456340498677, 1.7855456340469777)\n",
      "(2.233390518080469, 2.2333905180828864)\n",
      "(2.0251683521621544, 2.025168352153033)\n",
      "(1.5086402785335906, 1.5086402785349546)\n",
      "(0.8754609098815536, 0.8754609098783597)\n",
      "(2.0620686829797563, 2.0620686829838033)\n",
      "(2.1287211394493966, 2.1287211394512453)\n",
      "(1.155537652710592, 1.155537652709229)\n",
      "(2.059256499249429, 2.0592564992507008)\n",
      "(0.6798053492040879, 0.6798053492028915)\n",
      "(1.1182202000359354, 1.1182202000354713)\n",
      "(1.6615340387549082, 1.661534038755761)\n",
      "(1.3341063731786562, 1.334106373183573)\n",
      "(1.1453095777369526, 1.145309577729688)\n",
      "(1.0939961656930564, 1.0939961656874717)\n",
      "(0.9742896785613908, 0.9742896785616828)\n",
      "(1.3391404191498424, 1.3391404191570229)\n",
      "(1.7797480863457338, 1.7797480863494775)\n",
      "(1.472295358535547, 1.4722953585292637)\n",
      "(1.713920602632868, 1.713920602641176)\n",
      "(0.9060128409910106, 0.9060128409919648)\n",
      "If your backpropagation implementation is correct, then \n",
      "the relative difference will be small (less than 1e-9).\n",
      "Relative Difference: 1.67082019e-12\n",
      "\n"
     ]
    }
   ],
   "source": [
    "# Check gradients (with regularization term) by running the next function\n",
    "checkCostFunction(cofiCostFunc,1.5)"
   ]
  },
  {
   "cell_type": "markdown",
   "metadata": {
    "slideshow": {
     "slide_type": "slide"
    }
   },
   "source": [
    "## 3 Learning and recommendation\n",
    "Finally, you will use your cofiCostFun to make predictions using the initial Movielens dataset. Part of the python code you need is already written in the next cells. You only have to complete those lines that are explicitly required."
   ]
  },
  {
   "cell_type": "markdown",
   "metadata": {},
   "source": [
    "### Task 11\n",
    "***\n",
    "Load the matrix Y and R computed in the first notebook."
   ]
  },
  {
   "cell_type": "code",
   "execution_count": 129,
   "metadata": {},
   "outputs": [],
   "source": [
    "# Task: load matrix Y and R\n",
    "# YOUR CODE ..................................\n",
    "\n",
    "\n",
    "Y = np.load('matrizy.npy')\n",
    "R = np.load('matrizr.npy')\n"
   ]
  },
  {
   "cell_type": "markdown",
   "metadata": {},
   "source": [
    "### Task 12\n",
    "***\n",
    "* Get the number of users and movies and assign the corresponding variables n_users, n_movies.\n",
    "* Set the initial parameters (Theta, X) with random values.\n",
    "* Fold X and Theta into the variable initial_parameters."
   ]
  },
  {
   "cell_type": "code",
   "execution_count": 130,
   "metadata": {},
   "outputs": [
    {
     "name": "stdout",
     "output_type": "stream",
     "text": [
      "945\n",
      "1682\n"
     ]
    }
   ],
   "source": [
    "# Set the number of features\n",
    "n_features = 100\n",
    "n_users = Y.shape[1]\n",
    "n_movies = Y.shape[0]\n",
    "print(n_users)\n",
    "print(n_movies)\n",
    "\n",
    "X = np.random.random_sample((Y.shape[0],n_features))\n",
    "Theta = np.random.random_sample((Y.shape[1],n_features))\n",
    "\n",
    "initial_parameters = np.append(X.flatten(),Theta.flatten())"
   ]
  },
  {
   "cell_type": "markdown",
   "metadata": {},
   "source": [
    "Now, we set the rest of the parameters and minimize the function"
   ]
  },
  {
   "cell_type": "code",
   "execution_count": 131,
   "metadata": {},
   "outputs": [],
   "source": [
    "# Set the regularization parameter\n",
    "lamb = 10\n",
    "\n",
    "# Define a function to be minimized\n",
    "def cofiCostFunc_minimize(parameters):\n",
    "    return cofiCostFunc(parameters,Y, R, n_users, n_movies, n_features,lamb)\n",
    "\n",
    "# Set the number of iteations\n",
    "max_iter=200"
   ]
  },
  {
   "cell_type": "code",
   "execution_count": 132,
   "metadata": {},
   "outputs": [
    {
     "name": "stdout",
     "output_type": "stream",
     "text": [
      "Warning: Maximum number of iterations has been exceeded.\n",
      "         Current function value: 66608.791116\n",
      "         Iterations: 200\n",
      "         Function evaluations: 298\n",
      "         Gradient evaluations: 298\n"
     ]
    }
   ],
   "source": [
    "# Minimize the function using minimize from the package scipy.optimize and get the optimized parameters\n",
    "parameters = (minimize(cofiCostFunc_minimize,initial_parameters,method=\"CG\",jac=True,\n",
    "                   options={'maxiter':max_iter, \"disp\":True})).x"
   ]
  },
  {
   "cell_type": "markdown",
   "metadata": {},
   "source": [
    "### Task 13\n",
    "***\n",
    "Get the matrix of predictions P\n"
   ]
  },
  {
   "cell_type": "code",
   "execution_count": 133,
   "metadata": {},
   "outputs": [],
   "source": [
    "# YOUR CODE ..................................\n",
    "P = np.dot(X,Theta.T)"
   ]
  },
  {
   "cell_type": "markdown",
   "metadata": {},
   "source": [
    "### Task 14\n",
    "***\n",
    "Show the titles of the top-5 predictions for the first user u=0, for those films user u did not watch: r(i,u)=0 (they will be the top-5 recommendations)\n",
    "\n",
    "#### Tips\n",
    "* You can import movies' titles using Pandas (see the first notebook)\n"
   ]
  },
  {
   "cell_type": "code",
   "execution_count": 134,
   "metadata": {},
   "outputs": [
    {
     "name": "stdout",
     "output_type": "stream",
     "text": [
      "Independence Day (ID4) (1996)\n",
      "Four Weddings and a Funeral (1994)\n",
      "Usual Suspects, The (1995)\n",
      "Sense and Sensibility (1995)\n",
      "Supercop (1992)\n"
     ]
    }
   ],
   "source": [
    "# YOUR CODE ..................................\n",
    "\n",
    "from pandas import read_table\n",
    "items = read_table('u.item',header=None,sep='|',encoding='ISO-8859-1')\n",
    "items.drop(range(2,24),axis=1, inplace=True)\n",
    "items.columns = ['itemid','title']\n",
    "\n",
    "recomendacion_user0 = P[:,0]\n",
    "no_vistas = np.where(R[0]==0)[0]\n",
    "prediccion = recomendacion_user0[no_vistas]\n",
    "top_5 = np.argsort(prediccion)[0:5]\n",
    "\n",
    "for i in top_5:\n",
    "    print(items.iloc[i][\"title\"])\n",
    "\n",
    "\n",
    "\n"
   ]
  },
  {
   "cell_type": "code",
   "execution_count": 135,
   "metadata": {},
   "outputs": [
    {
     "name": "stdout",
     "output_type": "stream",
     "text": [
      "101 Dalmatians (1996)\n",
      "This Is Spinal Tap (1984)\n",
      "Carrington (1995)\n",
      "Ulee's Gold (1997)\n",
      "Primal Fear (1996)\n",
      "English Patient, The (1996)\n",
      "Godfather, The (1972)\n",
      "Return of the Jedi (1983)\n",
      "Brothers McMullen, The (1995)\n",
      "Chasing Amy (1997)\n"
     ]
    }
   ],
   "source": [
    "# Recomendaciones para nuestro usuario 944\n",
    "\n",
    "from pandas import read_table\n",
    "items = read_table('u.item',header=None,sep='|',encoding='ISO-8859-1')\n",
    "items.drop(range(2,24),axis=1, inplace=True)\n",
    "items.columns = ['itemid','title']\n",
    "\n",
    "recomendacion_user944 = P[:,943]\n",
    "no_vistas = np.where(R[943]==0)[0]\n",
    "prediccion = recomendacion_user944[no_vistas]\n",
    "top_10 = np.argsort(prediccion)[0:10]\n",
    "\n",
    "for i in top_10:\n",
    "    print(items.iloc[i][\"title\"])"
   ]
  },
  {
   "cell_type": "code",
   "execution_count": 136,
   "metadata": {},
   "outputs": [],
   "source": [
    "# Implementar una función que teniendo en cuenta el filtro entrenado, calcule una distancia entre dos usuarios cualquiera\n",
    "# Para realizar este apartado haremos la distancia euclidea que es la que hemos visto en Computacion Neuronal y Evolutiva\n",
    "\n",
    "def euclidea(user1,user2):\n",
    "    return np.sqrt(np.sum(Theta[user1-1,:] - Theta[user2-1,:])**2)"
   ]
  },
  {
   "cell_type": "code",
   "execution_count": 137,
   "metadata": {},
   "outputs": [
    {
     "name": "stdout",
     "output_type": "stream",
     "text": [
      "614\n"
     ]
    }
   ],
   "source": [
    "# Obtener el usuario más próximo a nosotros\n",
    "\n",
    "usuarios_indice = range(1,n_users+1)\n",
    "\n",
    "distancia_euclidea = []\n",
    "\n",
    "for i in usuarios_indice:\n",
    "    if i != 944:\n",
    "        distancia_euclidea.append(euclidea(i,944))\n",
    "usuario_mas_proximo = distancia_euclidea.index(min(distancia_euclidea)) + 1\n",
    "print(usuario_mas_proximo)"
   ]
  },
  {
   "cell_type": "code",
   "execution_count": 138,
   "metadata": {},
   "outputs": [],
   "source": [
    "# Implementar una función que teniendo en cuenta el filtro entrenado, calcule una distancia entre dos películas cualquiera.\n",
    "# Para realizar este apartado haremos la distancia euclidea que es la que hemos visto en Computacion Neuronal y Evolutiva\n",
    "\n",
    "def euclidea_peliculas(peli1,peli2):\n",
    "    return np.sqrt(np.sum(X[peli1-1,:] - X[peli2-1,:])**2)"
   ]
  },
  {
   "cell_type": "code",
   "execution_count": 139,
   "metadata": {},
   "outputs": [
    {
     "name": "stdout",
     "output_type": "stream",
     "text": [
      "[326, 579]\n",
      "6.238947222736435e-06\n",
      "[236, 1122]\n",
      "18.24927435592221\n"
     ]
    }
   ],
   "source": [
    "# Obtener las dos películas más próximas entre sí, y las dos más lejanas de la base de datos de Movielens.\n",
    "\n",
    "peliculas_indice = range(1, n_movies+1)\n",
    "min_rating = 10\n",
    "max_rating = 0\n",
    "pelis_cercanas = []\n",
    "pelis_lejanas = []\n",
    "\n",
    "for i in peliculas_indice:\n",
    "    for j in peliculas_indice:\n",
    "        if i != j:\n",
    "            distancia_euclidea = euclidea_peliculas(i,j)\n",
    "            \n",
    "            if distancia_euclidea < min_rating:\n",
    "                min_rating = distancia_euclidea\n",
    "                pelis_cercanas = [i,j]\n",
    "            if distancia_euclidea > max_rating:\n",
    "                max_rating = distancia_euclidea\n",
    "                pelis_lejanas = [i,j]\n",
    "                \n",
    "print(pelis_cercanas)\n",
    "print(euclidea_peliculas(pelis_cercanas[0],pelis_cercanas[1]))\n",
    "print(pelis_lejanas)\n",
    "print(euclidea_peliculas(pelis_lejanas[0],pelis_lejanas[1]))"
   ]
  },
  {
   "cell_type": "code",
   "execution_count": 141,
   "metadata": {},
   "outputs": [
    {
     "name": "stdout",
     "output_type": "stream",
     "text": [
      "Room with a View, A (1986)\n",
      "Star Trek III: The Search for Spock (1984)\n",
      "Candidate, The (1972)\n",
      "Horseman on the Roof, The (Hussard sur le toit, Le) (1995)\n",
      "Wild Bunch, The (1969)\n",
      "Net, The (1995)\n",
      "Remains of the Day, The (1993)\n",
      "Army of Darkness (1993)\n",
      "Once Upon a Time in the West (1969)\n",
      "Police Story 4: Project S (Chao ji ji hua) (1993)\n"
     ]
    }
   ],
   "source": [
    "# Añadir un nuevo usuario sin ratings, y obtener un top-10 de recomendaciones de películas\n",
    "\n",
    "from pandas import read_table\n",
    "items = read_table('u.item',header=None,sep='|',encoding='ISO-8859-1')\n",
    "items.drop(range(2,24),axis=1, inplace=True)\n",
    "items.columns = ['itemid','title']\n",
    "\n",
    "recomendacion_user945 = P[:,944]\n",
    "no_vistas = np.where(R[944]==0)[0]\n",
    "prediccion = recomendacion_user945[no_vistas]\n",
    "top_10 = np.argsort(prediccion)[0:10]\n",
    "\n",
    "for i in top_10:\n",
    "    print(items.iloc[i][\"title\"])"
   ]
  }
 ],
 "metadata": {
  "anaconda-cloud": {},
  "celltoolbar": "Slideshow",
  "kernelspec": {
   "display_name": "Python 3",
   "language": "python",
   "name": "python3"
  },
  "language_info": {
   "codemirror_mode": {
    "name": "ipython",
    "version": 3
   },
   "file_extension": ".py",
   "mimetype": "text/x-python",
   "name": "python",
   "nbconvert_exporter": "python",
   "pygments_lexer": "ipython3",
   "version": "3.6.5"
  }
 },
 "nbformat": 4,
 "nbformat_minor": 1
}
