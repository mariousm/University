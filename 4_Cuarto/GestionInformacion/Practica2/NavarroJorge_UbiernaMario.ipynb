{
 "cells": [
  {
   "cell_type": "markdown",
   "metadata": {
    "slideshow": {
     "slide_type": "slide"
    }
   },
   "source": [
    "<img src=\"http://www.ubu.es/sites/default/files/portal_page/images/logo_color_2l_dcha.jpg\" height=\"150\" width=\"150\" align=\"right\"/>\n",
    "# Filtro Colaborativo basado en usuarios\n",
    "[Nacho Santos](www.nacho.santos.name)"
   ]
  },
  {
   "cell_type": "code",
   "execution_count": 1,
   "metadata": {
    "slideshow": {
     "slide_type": "slide"
    }
   },
   "outputs": [],
   "source": [
    "import numpy as np"
   ]
  },
  {
   "cell_type": "markdown",
   "metadata": {
    "slideshow": {
     "slide_type": "slide"
    }
   },
   "source": [
    "## Collaborative Filtering (CF)\n",
    "El filtrado colaborativo (**Collaborative Filtering**) es una técnica ampliamente utilizada como sistema de recomendación. Un CF utiliza una matriz de utilidad (e.g. ratings) de por un conjunto de $m$ usuarios $U=\\{u_1,u_2,...,u_m\\}$ sobre un conjunto de $n$ productos $I=\\{i_1,i_2,...,i_n\\}$ para generar predicciones (recomendaciones).<br>\n",
    "En este notebook se explica la aproximación **User-based CF**: la base de la recomendación son los usuarios más próximos a quien se quiere recomendar."
   ]
  },
  {
   "cell_type": "markdown",
   "metadata": {
    "slideshow": {
     "slide_type": "slide"
    }
   },
   "source": [
    "### Datos de ejemplo\n",
    "Ejemplo de críticas de usuarios a películas"
   ]
  },
  {
   "cell_type": "code",
   "execution_count": 2,
   "metadata": {
    "slideshow": {
     "slide_type": "-"
    }
   },
   "outputs": [],
   "source": [
    "# Diccionario de usuarios y valoraciones\n",
    "critics={'UserA':{'Star Wars VII':4,'Ocho apellidos vascos':3,'Marte':5},\n",
    "         'UserB':{'Batman v Superman':5,'Ocho apellidos vascos':4},\n",
    "         'UserC':{'Star Wars VII':5,'Batman v Superman':4,'Ocho apellidos vascos':2},\n",
    "         'UserD':{'Star Wars VII':2,'Batman v Superman':4,'Marte':3},\n",
    "         'UserE':{'Star Wars VII':3,'Batman v Superman':4,'Ocho apellidos vascos':5}}"
   ]
  },
  {
   "cell_type": "code",
   "execution_count": 3,
   "metadata": {
    "slideshow": {
     "slide_type": "slide"
    }
   },
   "outputs": [],
   "source": [
    "# Función para pasar del diccionario a las matrices Y (ratings), R(películas vistas)\n",
    "def dic_ratings2arrays(dic):\n",
    "    usuarios = len(dic)\n",
    "    peliculas = 0\n",
    "    \n",
    "    movies = []\n",
    "    users = []\n",
    "    \n",
    "    for usuario in dic:\n",
    "        users.append(usuario)\n",
    "        for pelicula in dic[usuario].keys():\n",
    "            if not pelicula in movies:\n",
    "                movies.append(pelicula)\n",
    "    #movies = np.unique(movies)\n",
    "    peliculas = len(movies)\n",
    "    \n",
    "    Y = np.zeros((usuarios,peliculas))\n",
    "    R = np.zeros((usuarios,peliculas))\n",
    "    \n",
    "    fila = -1\n",
    "    for usuario in dic:\n",
    "        fila += 1\n",
    "        val_R = []\n",
    "        val_Y = []\n",
    "        for pelicula in movies:\n",
    "            if pelicula in dic[usuario].keys():\n",
    "                val_R.append(1)\n",
    "                val_Y.append(dic[usuario][pelicula])\n",
    "            else:\n",
    "                val_R.append(0)\n",
    "                val_Y.append(0)\n",
    "        R[fila] = np.array(val_R)\n",
    "        Y[fila] = np.array(val_Y)\n",
    "    \n",
    "\n",
    "    return (Y,R,users,movies)"
   ]
  },
  {
   "cell_type": "code",
   "execution_count": 4,
   "metadata": {
    "slideshow": {
     "slide_type": "slide"
    }
   },
   "outputs": [
    {
     "name": "stdout",
     "output_type": "stream",
     "text": [
      "Matrix of ratings Y\n",
      " [[4. 3. 5. 0.]\n",
      " [0. 4. 0. 5.]\n",
      " [5. 2. 0. 4.]\n",
      " [2. 0. 3. 4.]\n",
      " [3. 5. 0. 4.]]\n",
      "Matrix R\n",
      " [[1. 1. 1. 0.]\n",
      " [0. 1. 0. 1.]\n",
      " [1. 1. 0. 1.]\n",
      " [1. 0. 1. 1.]\n",
      " [1. 1. 0. 1.]]\n",
      "Users\n",
      " ['UserA', 'UserB', 'UserC', 'UserD', 'UserE']\n",
      "Movies\n",
      " ['Star Wars VII', 'Ocho apellidos vascos', 'Marte', 'Batman v Superman']\n"
     ]
    }
   ],
   "source": [
    "(Y,R,users,movies)=dic_ratings2arrays(critics)\n",
    "print('Matrix of ratings Y\\n',Y)\n",
    "print('Matrix R\\n',R)\n",
    "print('Users\\n',users)\n",
    "print('Movies\\n',movies)"
   ]
  },
  {
   "cell_type": "markdown",
   "metadata": {
    "slideshow": {
     "slide_type": "slide"
    }
   },
   "source": [
    "### Similitud\n",
    "Existen diferentes formas de medir la similitud (proximidad o distancia) entre usuarios, o entre productos. Por ejemplo, dados dos usuarios **u** y **v**, se puede utilizar los vectores de ratings de aquellos productos que han sido evaluados por ambos usuarios para calcular:\n",
    "* La **distancia euclídea** entre **u** y **v** en el espacio multidimensional que forman los productos evaluados por ambos. El problema fundamental de este tipo de medidas es que depende del rango de valores utilizados en los ratings de los usuarios (que pueden variar de un problema a otro).\n",
    "* La **similitud de coseno**, supone que los vectores representan a los usuarios en el espacio multidimensional de productos (evaluados por ambos) y calcula el [coseno del ángulo](https://en.wikipedia.org/wiki/Cosine_similarity) que forman los vectores. La medida varía entre (-1,1), siendo 1 cuando el ángulo es 0º (coinciden), 0 cuando el ángulo es 90º y -1 cuando el ángulo es -180º.\n",
    "* La **correlación de Pearson**, los vectores de los usuario pueden interpretarse como una nube de puntos en el espacio multidimensional de ratings, y de esta forma calcularse el **coeficiente de correlación lineal** como medida de similitud. En este caso la similitud está normalizada entre (-1,1), siendo positiva cuando la correlación es positiva y negativa en caso contrario."
   ]
  },
  {
   "cell_type": "code",
   "execution_count": 5,
   "metadata": {
    "slideshow": {
     "slide_type": "slide"
    }
   },
   "outputs": [],
   "source": [
    "# Correlación de Pearson (sobre coincidencia en el espacio de valoraciones)\n",
    "def pearson_similarity(Y,R,a,b):\n",
    "    R_a = R[a,:]\n",
    "    R_b = R[b,:]\n",
    "    Y_a = Y[a,:]\n",
    "    Y_b = Y[b,:]\n",
    "    \n",
    "    comunes = R_a * R_b\n",
    "    posiciones_comunes = np.where(comunes>0)\n",
    "    \n",
    "    numerador = np.sum((Y_a[posiciones_comunes]-np.mean(Y_a[R_a>0]))*(Y_b[posiciones_comunes]-np.mean(Y_b[R_b>0])))\n",
    "    denominador = np.sqrt(np.sum((Y_a[posiciones_comunes]-np.mean(Y_a[R_a>0]))**2)) * np.sqrt(np.sum((Y_b[posiciones_comunes]-np.mean(Y_b[R_b>0]))**2))\n",
    "\n",
    "    pcorr = numerador / denominador\n",
    "    \n",
    "    return pcorr"
   ]
  },
  {
   "cell_type": "markdown",
   "metadata": {
    "slideshow": {
     "slide_type": "slide"
    }
   },
   "source": [
    "### Similitud entre usuarios"
   ]
  },
  {
   "cell_type": "code",
   "execution_count": 6,
   "metadata": {
    "slideshow": {
     "slide_type": "slide"
    }
   },
   "outputs": [
    {
     "name": "stdout",
     "output_type": "stream",
     "text": [
      "similarity between UserA and UserC\n",
      "pearson: 0.7809\n"
     ]
    }
   ],
   "source": [
    "# Similitud entre dos usuarios\n",
    "for (u1,u2) in [(0,2)]:\n",
    "    print('similarity between', users[u1], 'and', users[u2])\n",
    "    print('pearson: %0.4f' % pearson_similarity(Y,R,u1,u2))"
   ]
  },
  {
   "cell_type": "code",
   "execution_count": 7,
   "metadata": {
    "slideshow": {
     "slide_type": "slide"
    }
   },
   "outputs": [
    {
     "name": "stdout",
     "output_type": "stream",
     "text": [
      "similarity between UserA and UserB\n",
      "pearson: 1.0000\n",
      "similarity between UserA and UserC\n",
      "pearson: 0.7809\n",
      "similarity between UserA and UserD\n",
      "pearson: 0.0000\n",
      "similarity between UserA and UserE\n",
      "pearson: -0.7071\n",
      "similarity between UserB and UserA\n",
      "pearson: 1.0000\n",
      "similarity between UserB and UserC\n",
      "pearson: 0.8321\n",
      "similarity between UserB and UserD\n",
      "pearson: 1.0000\n",
      "similarity between UserB and UserE\n",
      "pearson: -0.7071\n",
      "similarity between UserC and UserA\n",
      "pearson: 0.7809\n",
      "similarity between UserC and UserB\n",
      "pearson: 0.8321\n",
      "similarity between UserC and UserD\n",
      "pearson: -0.5145\n",
      "similarity between UserC and UserE\n",
      "pearson: -0.9820\n",
      "similarity between UserD and UserA\n",
      "pearson: 0.0000\n",
      "similarity between UserD and UserB\n",
      "pearson: 1.0000\n",
      "similarity between UserD and UserC\n",
      "pearson: -0.5145\n",
      "similarity between UserD and UserE\n",
      "pearson: 0.7071\n",
      "similarity between UserE and UserA\n",
      "pearson: -0.7071\n",
      "similarity between UserE and UserB\n",
      "pearson: -0.7071\n",
      "similarity between UserE and UserC\n",
      "pearson: -0.9820\n",
      "similarity between UserE and UserD\n",
      "pearson: 0.7071\n"
     ]
    }
   ],
   "source": [
    "# Similitud entre todos los usuarios\n",
    "for i in range(len(users)):\n",
    "    for j in range(len(users)):\n",
    "        if i != j:\n",
    "            print('similarity between', users[i], 'and', users[j])\n",
    "            print('pearson: %0.4f' % pearson_similarity(Y,R,i,j))"
   ]
  },
  {
   "cell_type": "markdown",
   "metadata": {
    "slideshow": {
     "slide_type": "slide"
    }
   },
   "source": [
    "### Ejemplo: predecir el rating de 'UserC' a la película 'Marte'\n",
    "1. Calcular la matriz de similitud entre usuarios (esto solo es necesario hacerlo una vez).\n",
    "2. Encontrar los k usuarios más próximos a 'UserC' que evaluaron la película 'Marte' (e.g. similitud >0)\n",
    "3. Calcular la predicción del rating de 'UserC' a la película 'Marte' usando la fórmula:"
   ]
  },
  {
   "cell_type": "markdown",
   "metadata": {
    "slideshow": {
     "slide_type": "slide"
    }
   },
   "source": [
    "$$\\hat{r}_{u,i}=\\bar{r}_{u}+\\frac{\\sum_{v\\in{U}}(r_{v,i}-\\bar{r}_{v})sim_{u,v}}{\\sum_{v\\in{U}} \\mid sim_{u,v}\\mid}$$\n",
    "<div class=\"alert alert-block alert-info\">\n",
    "La estimación del rating del usuario u a la película i es igual al valor medio de raings del usuario u más <b>la media ponderada de los ratings (normalizadas) de los usuarios próximos a u que vieron la película i</b>, donde los pesos son proporcionales a la similitud entre usuarios\n",
    "</div>"
   ]
  },
  {
   "cell_type": "markdown",
   "metadata": {
    "slideshow": {
     "slide_type": "slide"
    }
   },
   "source": [
    "**1 Calcular la matriz de similitud entre usuarios**"
   ]
  },
  {
   "cell_type": "code",
   "execution_count": 8,
   "metadata": {
    "slideshow": {
     "slide_type": "slide"
    }
   },
   "outputs": [],
   "source": [
    "# Calcular la matriz de similitud entre usuarios\n",
    "def user_similarity_matrix(Y,R):\n",
    "    \n",
    "    matrix = np.zeros((len(users),len(users)))\n",
    "    \n",
    "    for i in range(len(users)):\n",
    "        for j in range(len(users)):\n",
    "            matrix[i][j] = pearson_similarity(Y,R,i,j)\n",
    "    return matrix"
   ]
  },
  {
   "cell_type": "code",
   "execution_count": 9,
   "metadata": {
    "slideshow": {
     "slide_type": "slide"
    }
   },
   "outputs": [
    {
     "name": "stdout",
     "output_type": "stream",
     "text": [
      "User similarity matrix\n",
      " [[ 1.          1.          0.78086881  0.         -0.70710678]\n",
      " [ 1.          1.          0.83205029  1.         -0.70710678]\n",
      " [ 0.78086881  0.83205029  1.         -0.51449576 -0.98198051]\n",
      " [ 0.          1.         -0.51449576  1.          0.70710678]\n",
      " [-0.70710678 -0.70710678 -0.98198051  0.70710678  1.        ]]\n"
     ]
    }
   ],
   "source": [
    "user_sim=user_similarity_matrix(Y,R)\n",
    "print('User similarity matrix\\n',user_sim)"
   ]
  },
  {
   "cell_type": "markdown",
   "metadata": {
    "slideshow": {
     "slide_type": "slide"
    }
   },
   "source": [
    "**2 Encontrar los k usuarios más próximos a 'UserC' que evaluaron la película 'Marte'. Supondremos que proximidad es equivalente a tener una similitud estrictamente positiva**"
   ]
  },
  {
   "cell_type": "code",
   "execution_count": 10,
   "metadata": {},
   "outputs": [],
   "source": [
    "sim_c=user_sim[users.index(\"UserC\")]\n",
    "usuariosSimilares = np.where(sim_c > 0)\n",
    "vistoMarte = R[:,movies.index(\"Marte\")]\n",
    "vistoMarte = np.where(vistoMarte > 0)\n",
    "usuariosSimilares = np.intersect1d(usuariosSimilares,vistoMarte)"
   ]
  },
  {
   "cell_type": "markdown",
   "metadata": {
    "slideshow": {
     "slide_type": "slide"
    }
   },
   "source": [
    "**3 Calcular la predicción del rating de 'UserC' a la película 'Marte'**"
   ]
  },
  {
   "cell_type": "code",
   "execution_count": 11,
   "metadata": {},
   "outputs": [
    {
     "name": "stdout",
     "output_type": "stream",
     "text": [
      "4.666666666666666\n"
     ]
    }
   ],
   "source": [
    "media_ponderada = 0\n",
    "numerador = 0\n",
    "denominador = 0\n",
    "resultado = 0\n",
    "media_todos = []\n",
    "\n",
    "for i in users:\n",
    "    media_todos.append(np.mean(Y[users.index(i), R[users.index(i),:]>0]))\n",
    "\n",
    "#Primera parte\n",
    "media_u = media_todos[users.index(\"UserC\")] \n",
    "\n",
    "#Segunda parte\n",
    "for i in usuariosSimilares:\n",
    "    rating_peli = Y[i,movies.index(\"Marte\")]\n",
    "    rating_v = media_todos[i]\n",
    "    similitud = user_sim[users.index(\"UserC\"),i]\n",
    "    numerador = np.sum(rating_peli-rating_v)*similitud\n",
    "    denominador = np.sum(np.abs(similitud))\n",
    "    resultado += numerador/denominador\n",
    "\n",
    "#Parte final suma todo\n",
    "resultado += media_u\n",
    "print(resultado)\n",
    "\n",
    "\n"
   ]
  },
  {
   "cell_type": "markdown",
   "metadata": {
    "slideshow": {
     "slide_type": "slide"
    }
   },
   "source": [
    "### Referencias\n",
    "* Ekstrand, M. D., Riedl, J. T., & Konstan, J. A. (2011). Collaborative filtering recommender systems. Foundations and Trends in Human-Computer Interaction, 4(2), 81-173. Section 2.1,2.2 and 2.3\n"
   ]
  },
  {
   "cell_type": "code",
   "execution_count": null,
   "metadata": {},
   "outputs": [],
   "source": []
  }
 ],
 "metadata": {
  "celltoolbar": "Slideshow",
  "kernelspec": {
   "display_name": "Python 3",
   "language": "python",
   "name": "python3"
  },
  "language_info": {
   "codemirror_mode": {
    "name": "ipython",
    "version": 3
   },
   "file_extension": ".py",
   "mimetype": "text/x-python",
   "name": "python",
   "nbconvert_exporter": "python",
   "pygments_lexer": "ipython3",
   "version": "3.6.5"
  }
 },
 "nbformat": 4,
 "nbformat_minor": 1
}
