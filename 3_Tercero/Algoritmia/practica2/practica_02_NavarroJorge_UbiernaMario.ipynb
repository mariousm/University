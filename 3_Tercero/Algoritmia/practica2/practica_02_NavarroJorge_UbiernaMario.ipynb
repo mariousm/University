{
 "cells": [
  {
   "cell_type": "markdown",
   "metadata": {},
   "source": [
    "## Algoritmia\n",
    "### Práctica 2\n",
    "El objetivo de esta práctica es definir clases y realizar implementaciones básicas del tipo grafo."
   ]
  },
  {
   "cell_type": "markdown",
   "metadata": {},
   "source": [
    "Se pide la implementación de las clases y/o funciones que aparecen a continuación. \n",
    "\n",
    "Las instrucción \"pass\" que aparecen en el cuerdo de las clases o funciones, se debe sustituir por la implementación adecuada. \n",
    "\n",
    "Para cada clase o función que se pide se proporciona una o más funciones con algunos tests. \n",
    "\n",
    "Al llamar a las funciones de test no debería saltar ninguna aserción."
   ]
  },
  {
   "cell_type": "markdown",
   "metadata": {},
   "source": [
    "### Autores:  Jorge Navarro González, Mario Ubierna San Mamés\n",
    "                "
   ]
  },
  {
   "cell_type": "markdown",
   "metadata": {},
   "source": [
    "### Clase abstracta para Grafos"
   ]
  },
  {
   "cell_type": "code",
   "execution_count": 1,
   "metadata": {
    "collapsed": true
   },
   "outputs": [],
   "source": [
    "from abc import ABCMeta, abstractmethod\n",
    "\n",
    "class GrafoAbstracto(metaclass=ABCMeta):\n",
    "    \"\"\"Clase abstracta para trabajar con Grafos.\"\"\"\n",
    "    \n",
    "    def __init__(self, dirigido = False):\n",
    "        \"\"\"Constructor. El argumento indica si el grafo es dirigido\"\"\"\n",
    "        self._dirigido = dirigido\n",
    "\n",
    "    def dirigido(self):\n",
    "        \"\"\"Indica si el grafo es o no dirigido\"\"\"\n",
    "        return self._dirigido\n",
    "\n",
    "    @abstractmethod\n",
    "    def __len__( self ):\n",
    "        \"\"\"Número de nodos del grafo.\"\"\"\n",
    "\n",
    "    @abstractmethod\n",
    "    def num_arcos(self):\n",
    "        \"\"\"Devuelve el número de arcos\"\"\"\n",
    "\n",
    "    @abstractmethod       \n",
    "    def inserta(self, nodo, destino = None, etiqueta = 1):\n",
    "        \"\"\"\n",
    "        Inserta un nodo al grafo (si destino es None) o un arco.\n",
    "        Si el arco ya existía se actualiza su etiqueta.\n",
    "        Si alguno de los nodos del arco no está en el grafo, se inserta.\n",
    "        Se supone que None no es una etiqueta válida.\n",
    "        \"\"\"\n",
    "    @abstractmethod       \n",
    "    def __contains__(self, nodo):\n",
    "        \"\"\"Indica si el nodo está en el grafo.\"\"\"      \n",
    "        \n",
    "    @abstractmethod        \n",
    "    def __getitem__(self, arco):\n",
    "        \"\"\"Dado un arco (un par de nodos) devuelve la etiqueta si el arco está\n",
    "        en el grafo, en caso contrario devuelve None\"\"\"\n",
    "\n",
    "    @abstractmethod        \n",
    "    def __iter__(self):\n",
    "        \"\"\"Iterador sobre los nodos del grafo\"\"\"\n",
    "\n",
    "    @abstractmethod\n",
    "    def vecinos(self, origen):\n",
    "        \"\"\"Devuelve un iterable de los pares (destino,etiqueta) para un nodo \n",
    "        origen dado\"\"\""
   ]
  },
  {
   "cell_type": "markdown",
   "metadata": {},
   "source": [
    "### Implementación basada en matrices de adyacencia\n",
    "Realizamos una implementación basada en [matrices de adyacencia](https://youtu.be/t-FHxHnUEoc)"
   ]
  },
  {
   "cell_type": "code",
   "execution_count": 2,
   "metadata": {
    "collapsed": true
   },
   "outputs": [],
   "source": [
    "class GrafoMatriz(GrafoAbstracto):\n",
    "    \"\"\"\n",
    "    Implementación del tipo Grafo utilizando una matriz de adyacencia para \n",
    "    almacenar la información de los arcos.\n",
    "    La matriz podría ser una lista de lista.\n",
    "    \"\"\"\n",
    "    def __init__(self, dirigido):\n",
    "        \"\"\"Constructor. El argumento indica si el grafo es dirigido\"\"\"\n",
    "        super().__init__(dirigido)\n",
    "        self.numero_nodos = 0\n",
    "        self.numero_arcos = 0\n",
    "        self.grafo = []\n",
    "\n",
    "    def __len__( self ):\n",
    "        \"\"\"Número de nodos del grafo.\"\"\"\n",
    "        return self.numero_nodos\n",
    "\n",
    "    def num_arcos(self):\n",
    "        \"\"\"Devuelve el número de arcos\"\"\"\n",
    "        return self.numero_arcos\n",
    "    \n",
    "    def _crea(self,nodo):\n",
    "        if not nodo in self:\n",
    "            self.grafo.append([nodo,[]])\n",
    "            self.numero_nodos+=1\n",
    "            for i in range(self.numero_nodos):\n",
    "                self.grafo[self.numero_nodos-1][1].append(None)\n",
    "            for i in self.grafo:\n",
    "                if i[0] != nodo:\n",
    "                    i[1].append(None)\n",
    "\n",
    "    \n",
    "    def inserta(self,nodo,destino=None, etiqueta=1):\n",
    "        \"\"\"\n",
    "        Inserta un nodo al grafo (si destino es None) o un arco.\n",
    "        Si el arco ya existía se actualiza su etiqueta.\n",
    "        Si alguno de los nodos del arco no está en el grafo, se inserta.\n",
    "        Se supone que None no es una etiqueta válida.\n",
    "        \"\"\"\n",
    "        if destino == None:\n",
    "            self._crea(nodo)\n",
    "        else:\n",
    "            self._crea(destino)\n",
    "            for i in range(self.numero_nodos):\n",
    "                if self.grafo[i][0] == destino:\n",
    "                    indice=i\n",
    "                if self.grafo[i][0] == nodo:\n",
    "                    indice2=i\n",
    "            self.grafo[indice2][1][indice] = etiqueta\n",
    "            if not self.dirigido():\n",
    "                self.grafo[indice][1][indice2] = etiqueta\n",
    "            self.numero_arcos+=1\n",
    "     \n",
    "    \"\"\"\n",
    "    def inserta2(self, nodo, destino=None, etiqueta=1):\n",
    "    \n",
    "        if destino == None:\n",
    "            if not self.__contains__(nodo):\n",
    "                self.grafo.append([nodo,[[None,None]]])\n",
    "                self.numero_nodos+=1\n",
    "        else:\n",
    "            if not self.__contains__(nodo):\n",
    "                self.grafo.append([nodo,[[None,None]]])\n",
    "                self.numero_nodos+=1\n",
    "            elif not self.__contains__(destino):\n",
    "                self.grafo.append([destino,[[None,None]]])\n",
    "                self.numero_nodos+=1\n",
    "            if super().dirigido() == True:\n",
    "                if self.__getitem__([nodo,destino]) == None:\n",
    "                    for i in self.grafo:\n",
    "                        if nodo in i:\n",
    "                            indice=i.index(nodo)\n",
    "                            self.grafo[indice][1].append([destino,True])\n",
    "                            self.numero_arcos+=1\n",
    "                            break\n",
    "                else:\n",
    "                    for i in self.grafo:\n",
    "                        if nodo in i:\n",
    "                            indice=i.index(nodo)\n",
    "                            if self.__getitem__([nodo,destino]) != etiqueta:\n",
    "                                self.grafo[indice][1].append([destino,etiqueta])\n",
    "                                break\n",
    "            elif super().dirigido() == False:\n",
    "                if self.__getitem__([nodo,etiqueta]) == None:\n",
    "                    for i in self.grafo:\n",
    "                        if nodo in i:\n",
    "                            indice=i.index(nodo)\n",
    "                            self.grafo[indice][1].append([destino,True])\n",
    "                        if destino in i:\n",
    "                            indice=i.index(destino)\n",
    "                            self.grafo[indice][1].append([nodo,True])\n",
    "                            self.numero_arcos+=1\n",
    "                else:\n",
    "                    for i in self.grafo:\n",
    "                        if nodo in i:\n",
    "                            indice=i.index(nodo)\n",
    "                            if self.__getitem__([nodo,destino]) != etiqueta:\n",
    "                                self.grafo[indice][1].append([destino,etiqueta])\n",
    "                        elif destino in i:\n",
    "                            indice=i.index(destino)\n",
    "                            if self.__getitem__([destino,nodo]) != etiqueta:\n",
    "                                self.grafo[indice][1].append([nodo,etiqueta])\n",
    "    \"\"\"                  \n",
    "\n",
    "    \n",
    "    def __contains__(self, nodo):\n",
    "        \"\"\"Indica si el nodo está en el grafo.\"\"\"\n",
    "        for i in self.grafo:\n",
    "            if nodo == i[0]:\n",
    "                return True\n",
    "        return False\n",
    "        \n",
    "                \n",
    "    def __getitem__(self, arco):\n",
    "        \"\"\"Dado un arco (un par de nodos) devuelve la etiqueta si el arco está\n",
    "        en el grafo, en caso contrario devuelve None\"\"\"\n",
    "        lista_vecinos=self.vecinos(arco[0])\n",
    "        for i in lista_vecinos:\n",
    "            if i[0] == arco[1]:\n",
    "                return i[1]\n",
    "        return None\n",
    "        \n",
    "    def __iter__(self):\n",
    "        \"\"\"Iterador sobre los nodos del grafo\"\"\"\n",
    "        for i in self.grafo:\n",
    "            yield i[0]\n",
    "\n",
    "    def vecinos(self, origen):\n",
    "        \"\"\"Devuelve un iterable de los pares (destino,etiqueta) para un nodo \n",
    "        origen dado, devuelve None en caso contrario\"\"\"\n",
    "        mis_vecinos=[]\n",
    "        for pares in self.grafo:\n",
    "            if origen == pares[0]:\n",
    "                etiquetas=pares[1]\n",
    "                break;\n",
    "        for i in range(self.numero_nodos):\n",
    "            if etiquetas[i] != None:\n",
    "                mis_vecinos.append([self.grafo[i][0],etiquetas[i]])\n",
    "        return mis_vecinos"
   ]
  },
  {
   "cell_type": "markdown",
   "metadata": {},
   "source": [
    "### Implementación basada en listas de adyacencia\n",
    "Realizamos una implementación basada en [listas de adyacencia](https://youtu.be/7cXY3ztIGjs)"
   ]
  },
  {
   "cell_type": "code",
   "execution_count": 3,
   "metadata": {
    "collapsed": true
   },
   "outputs": [],
   "source": [
    "class GrafoListas(GrafoAbstracto):\n",
    "    \"\"\"\n",
    "    Implementación del tipo Grafo utilizando listas de adyacencia.\n",
    "    Cada nodo tiene asociada una 'lista' con la información de los arcos que\n",
    "    salen del nodo. \n",
    "    Dicha lista no tinene que ser necesariamente del tipo 'list' de Python.\n",
    "    \"\"\"\n",
    "    \n",
    "    def __init__(self, dirigido):\n",
    "        \"\"\"Constructor. El argumento indica si el grafo es dirigido\"\"\"\n",
    "        super().__init__(dirigido)\n",
    "        self.numero_nodos = 0\n",
    "        self.numero_arcos = 0\n",
    "        self.grafo = {}\n",
    "\n",
    "    def __len__( self ):\n",
    "        \"\"\"Número de nodos del grafo.\"\"\"\n",
    "        return self.numero_nodos\n",
    "\n",
    "    def num_arcos(self):\n",
    "        \"\"\"Devuelve el número de arcos\"\"\"\n",
    "        return self.numero_arcos\n",
    "    \n",
    "    def _crea(self,nodo):\n",
    "        if not nodo in self.grafo.keys():\n",
    "            self.grafo[nodo]=[]\n",
    "            self.numero_nodos+=1\n",
    "\n",
    "    \n",
    "    def inserta(self,nodo,destino=None, etiqueta=1):\n",
    "        \"\"\"\n",
    "        Inserta un nodo al grafo (si destino es None) o un arco.\n",
    "        Si el arco ya existía se actualiza su etiqueta.\n",
    "        Si alguno de los nodos del arco no está en el grafo, se inserta.\n",
    "        Se supone que None no es una etiqueta válida.\n",
    "        \"\"\"\n",
    "        if destino == None:\n",
    "            self._crea(nodo)\n",
    "        else:\n",
    "            self._crea(destino)\n",
    "            if not nodo in self:\n",
    "                self.grafo[nodo]=[]\n",
    "            if not destino in self:\n",
    "                self.grafo[destino]=[]\n",
    "            self.grafo[nodo].append([destino,etiqueta])\n",
    "            if not self.dirigido():\n",
    "                self.grafo[destino].append([nodo,etiqueta])\n",
    "            self.numero_arcos+=1\n",
    "    \n",
    "    def __contains__(self, nodo):\n",
    "        \"\"\"Indica si el nodo está en el grafo.\"\"\"\n",
    "        if nodo in self.grafo.keys():\n",
    "            return True\n",
    "        return False\n",
    "        \n",
    "                \n",
    "    def __getitem__(self, arco):\n",
    "        \"\"\"Dado un arco (un par de nodos) devuelve la etiqueta si el arco está\n",
    "        en el grafo, en caso contrario devuelve None\"\"\"\n",
    "        lista_vecinos=self.vecinos(arco[0])\n",
    "        if lista_vecinos != None:\n",
    "            for vecino in lista_vecinos:\n",
    "                if arco[1] in vecino:\n",
    "                    return vecino[1]\n",
    "            return None\n",
    "        return None\n",
    "        \n",
    "    def __iter__(self):\n",
    "        \"\"\"Iterador sobre los nodos del grafo\"\"\"\n",
    "        return iter(self.grafo.keys())\n",
    "\n",
    "    def vecinos(self, origen):\n",
    "        \"\"\"Devuelve un iterable de los pares (destino,etiqueta) para un nodo \n",
    "        origen dado, devuelve None en caso contrario\"\"\"\n",
    "        if origen in self.grafo.keys():\n",
    "            return self.grafo.get(origen)\n",
    "        return None"
   ]
  },
  {
   "cell_type": "markdown",
   "metadata": {},
   "source": [
    "### Casos de prueba"
   ]
  },
  {
   "cell_type": "code",
   "execution_count": 4,
   "metadata": {
    "collapsed": true
   },
   "outputs": [],
   "source": [
    "def test_grafo(grafo):\n",
    "    \"\"\"Función que prueba las funciones sobre grafos. Espera un grafo vacío.\"\"\"\n",
    "\n",
    "    num_final = 10  # número de nodos del grafo final\n",
    "    num_arcos = 0\n",
    "    conjunto_nodos = set()  # nodos que debería tener el grafo\n",
    "    conjunto_arcos = set()  # arcos que debería tener el grafo\n",
    "    \n",
    "    # Insertamos nodos y arcos en el grafo, comprobando que la información es \n",
    "    # coherente con lo que tenemos en conjunto_nodos y conjunto_arcos\n",
    "    for n in range(num_final):\n",
    "        assert len(grafo) == n\n",
    "        nodo_n = \"n\" + str(n)\n",
    "        grafo.inserta(nodo_n)\n",
    "        conjunto_nodos.add(nodo_n)\n",
    "        assert nodo_n in grafo \n",
    "        assert n not in grafo\n",
    "        for m in range(n):\n",
    "            nodo_m = \"n\" + str(m)\n",
    "            etiqueta = num_final * n + m\n",
    "            grafo.inserta(nodo_m, nodo_n, etiqueta)\n",
    "            conjunto_arcos.add((nodo_m, nodo_n, etiqueta))\n",
    "            num_arcos += 1\n",
    "            assert num_arcos == grafo.num_arcos()\n",
    "            assert grafo[nodo_m, nodo_n] == etiqueta\n",
    "            if grafo.dirigido():\n",
    "                assert grafo[nodo_n, nodo_m] == None\n",
    "            else:\n",
    "                assert grafo[nodo_n, nodo_m] == etiqueta\n",
    "                conjunto_arcos.add((nodo_n, nodo_m, etiqueta))\n",
    "    \n",
    "    # Recorremos comproabando los nodos y para cada nodo sus vecinos\n",
    "    for nodo_n in grafo:\n",
    "        assert nodo_n in conjunto_nodos\n",
    "        conjunto_nodos.remove(nodo_n)\n",
    "        for nodo_m, etiqueta in grafo.vecinos(nodo_n):\n",
    "            assert (nodo_n, nodo_m, etiqueta) in conjunto_arcos\n",
    "            conjunto_arcos.remove((nodo_n, nodo_m, etiqueta))\n",
    "            \n",
    "    # Comprobamos que hemos recorrido todos los nodos y arcos\n",
    "    assert len(conjunto_nodos) == 0\n",
    "    assert len(conjunto_arcos) == 0"
   ]
  },
  {
   "cell_type": "code",
   "execution_count": 5,
   "metadata": {},
   "outputs": [
    {
     "name": "stdout",
     "output_type": "stream",
     "text": [
      "OK\n"
     ]
    }
   ],
   "source": [
    "if __name__ == \"__main__\":     \n",
    "    test_grafo(GrafoMatriz(False))\n",
    "    test_grafo(GrafoMatriz(True))\n",
    "    print(\"OK\")"
   ]
  },
  {
   "cell_type": "code",
   "execution_count": 6,
   "metadata": {},
   "outputs": [
    {
     "name": "stdout",
     "output_type": "stream",
     "text": [
      "OK\n"
     ]
    }
   ],
   "source": [
    "if __name__ == \"__main__\":     \n",
    "    test_grafo(GrafoListas(False))\n",
    "    test_grafo(GrafoListas(True))\n",
    "    print(\"OK\")"
   ]
  },
  {
   "cell_type": "code",
   "execution_count": 7,
   "metadata": {},
   "outputs": [
    {
     "name": "stdout",
     "output_type": "stream",
     "text": [
      "514 µs ± 8.97 µs per loop (mean ± std. dev. of 7 runs, 1000 loops each)\n",
      "429 µs ± 16.3 µs per loop (mean ± std. dev. of 7 runs, 1000 loops each)\n",
      "259 µs ± 5.69 µs per loop (mean ± std. dev. of 7 runs, 1000 loops each)\n",
      "207 µs ± 1.05 µs per loop (mean ± std. dev. of 7 runs, 1000 loops each)\n"
     ]
    }
   ],
   "source": [
    "\"\"\"\n",
    "Con %timeit podemos ver el tiempo necesario para ejecutar una línea.\n",
    "Puede ejecutarla múltiples veces para tener una mejor estimación.\n",
    "Con %%timeit obtenemos el tiempo de ejecución de una celda.\n",
    "\"\"\"\n",
    "if __name__ == \"__main__\":  \n",
    "    %timeit test_grafo(GrafoMatriz(False))\n",
    "    %timeit test_grafo(GrafoMatriz(True))\n",
    "    %timeit test_grafo(GrafoListas(False))\n",
    "    %timeit test_grafo(GrafoListas(True))"
   ]
  },
  {
   "cell_type": "code",
   "execution_count": null,
   "metadata": {
    "collapsed": true
   },
   "outputs": [],
   "source": []
  },
  {
   "cell_type": "code",
   "execution_count": null,
   "metadata": {
    "collapsed": true
   },
   "outputs": [],
   "source": []
  }
 ],
 "metadata": {
  "anaconda-cloud": {},
  "kernelspec": {
   "display_name": "Python 3",
   "language": "python",
   "name": "python3"
  },
  "language_info": {
   "codemirror_mode": {
    "name": "ipython",
    "version": 3
   },
   "file_extension": ".py",
   "mimetype": "text/x-python",
   "name": "python",
   "nbconvert_exporter": "python",
   "pygments_lexer": "ipython3",
   "version": "3.6.3"
  }
 },
 "nbformat": 4,
 "nbformat_minor": 1
}
