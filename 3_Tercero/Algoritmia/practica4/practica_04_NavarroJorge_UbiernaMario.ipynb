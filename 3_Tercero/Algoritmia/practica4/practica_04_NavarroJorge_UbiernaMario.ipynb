{
 "cells": [
  {
   "cell_type": "markdown",
   "metadata": {},
   "source": [
    "## Algoritmia\n",
    "### Práctica 4\n",
    "El objetivo de esta práctica es trabajar con dos ejemplos vistos en teoría: incrementar un contador y devolver el cambio."
   ]
  },
  {
   "cell_type": "markdown",
   "metadata": {},
   "source": [
    "Se pide la implementación de las clases y/o funciones que aparecen a continuación.\n",
    "\n",
    "Las instrucción \"pass\" que aparecen en el cuerpo de las clases o funciones, se debe sustituir por la implementación adecuada.\n",
    "\n",
    "Para cada clase o función que se pide se proporciona una o más funciones con algunos tests.\n",
    "\n",
    "Al llamar a las funciones de test no debería saltar ninguna aserción."
   ]
  },
  {
   "cell_type": "markdown",
   "metadata": {},
   "source": [
    "### Incremento de contador"
   ]
  },
  {
   "cell_type": "code",
   "execution_count": 1,
   "metadata": {
    "collapsed": true
   },
   "outputs": [],
   "source": [
    "def incrementa_contador(contador, base = 2):\n",
    "    \"\"\"\n",
    "    Dado un contador almacenado como una lista de dígitos en una determinada \n",
    "    base, con el dígito más significativo en la primera posición, realiza un \n",
    "    incremento en el contador. Devuelve el propio contador y el número de \n",
    "    dígitos cambiados.\n",
    "    \"\"\"\n",
    "    digitos_cambiados=0\n",
    "    indice=len(contador)-1\n",
    "    incremento=False\n",
    "    \n",
    "    while (incremento == False) and (indice>=0):\n",
    "        if (contador[indice]) < (base - 1):\n",
    "            contador[indice]+=1\n",
    "            digitos_cambiados+=1\n",
    "            incremento=True\n",
    "            \n",
    "        else:\n",
    "            contador[indice] = 0\n",
    "            digitos_cambiados+=1\n",
    "            indice-=1\n",
    "            \n",
    "    return contador,digitos_cambiados"
   ]
  },
  {
   "cell_type": "code",
   "execution_count": 2,
   "metadata": {},
   "outputs": [
    {
     "name": "stdout",
     "output_type": "stream",
     "text": [
      "OK\n"
     ]
    }
   ],
   "source": [
    "def test_incrementa_contador():\n",
    "    \"\"\"Casos de prueba para incrementa_contador().\"\"\"\n",
    "    \n",
    "    assert incrementa_contador([0, 0, 0]) == ([0, 0, 1], 1)\n",
    "    assert incrementa_contador([0, 0, 1]) == ([0, 1, 0], 2)\n",
    "    assert incrementa_contador([0, 1, 0]) == ([0, 1, 1], 1)\n",
    "    assert incrementa_contador([0, 1, 1]) == ([1, 0, 0], 3)\n",
    "    assert incrementa_contador([1, 1, 1]) == ([0, 0, 0], 3)\n",
    "\n",
    "        \n",
    "    contador = [0, 0, 0]\n",
    "    incrementa_contador(contador); assert contador == [0, 0, 1]\n",
    "    incrementa_contador(contador); assert contador == [0, 1, 0]\n",
    "    incrementa_contador(contador); assert contador == [0, 1, 1]\n",
    "    incrementa_contador(contador); assert contador == [1, 0, 0]\n",
    "    \n",
    "    assert incrementa_contador([0, 3, 9, 8], 10) == ([0, 3, 9, 9], 1)   \n",
    "    assert incrementa_contador([0, 3, 9, 9], 10) == ([0, 4, 0, 0], 3)\n",
    "    assert incrementa_contador([9, 9, 9, 9], 10) == ([0, 0, 0, 0], 4)\n",
    "    \n",
    "    assert incrementa_contador([0] * 10 + [1] * 10) == (\n",
    "            [0] * 9 + [1] + [0] * 10, 11)\n",
    "    assert incrementa_contador([0] * 100 + [1] * 100) == (\n",
    "            [0] * 99 + [1] + [0] * 100, 101)\n",
    "\n",
    "    assert incrementa_contador([0] * 10 + [9] * 10, 10) == (\n",
    "            [0] * 9 + [1] + [0] * 10, 11)\n",
    "    assert incrementa_contador([0] * 100 + [9] * 100, 10) == (\n",
    "            [0] * 99 + [1] + [0] * 100, 101)\n",
    "    \n",
    "    \"\"\"Comprobación del análisis amortizado. El número de digitos cambiados al\n",
    "    realizar varios incrementos sucesivos es menor o igual que el doble del \n",
    "    número de incrementos.\"\"\"\n",
    "    contador = [0] * 8\n",
    "    cambios = 0\n",
    "    incrementos = 100000\n",
    "    for i in range(1, incrementos + 1):\n",
    "        cambios += incrementa_contador(contador)[1]\n",
    "        assert i <= cambios <= 2 * i\n",
    "\n",
    "        \n",
    "if __name__ == \"__main__\": \n",
    "    test_incrementa_contador()\n",
    "    print(\"OK\")  "
   ]
  },
  {
   "cell_type": "markdown",
   "metadata": {},
   "source": [
    "### Cartera con billetes y monedas"
   ]
  },
  {
   "cell_type": "code",
   "execution_count": 3,
   "metadata": {
    "collapsed": true
   },
   "outputs": [],
   "source": [
    "import collections\n",
    "import copy\n",
    "import numbers\n",
    "\n",
    "\n",
    "class Cartera:\n",
    "    \"\"\"\n",
    "    Clase que representa una cantidad de dinero formada por varios billetes y/o \n",
    "    monedas. Se utilizará billetes para referirse a ambos.\n",
    "    Se puede suponer que no habrá monedas ni billetes de valor menor que 0.01.\n",
    "    \"\"\"\n",
    "\n",
    "    def __init__(self, billetes = None):\n",
    "        \"\"\"\n",
    "        Creación del objeto con posiblemente unos billetes iniciales.\n",
    "        El argumento \"billetes\" puede ser:\n",
    "            - otro objeto de la clase Cartera\n",
    "            - un valor numérico (se añade un billete o moneda)\n",
    "            - un iterable con valores numéricos, cada número se considera un \n",
    "              billete o moneda.\n",
    "        \"\"\"\n",
    "        self.diccionario = {}\n",
    "        self.cont = 0\n",
    "        if isinstance(billetes,Cartera):\n",
    "            self.diccionario = billetes.diccionario.copy()\n",
    "        elif isinstance(billetes,numbers.Number):\n",
    "            self.diccionario[billetes]=1\n",
    "        elif isinstance(billetes, collections.Iterable):\n",
    "            for i in billetes:\n",
    "                if i in self.diccionario.keys():\n",
    "                    self.valorD = self.diccionario.get(i)\n",
    "                    self.valorD+= 1\n",
    "                    self.diccionario[i]=self.valorD\n",
    "                else:\n",
    "                    self.diccionario[i]=1\n",
    "        else:\n",
    "            self.diccionario = {}\n",
    "\n",
    "\n",
    "    def valor(self):\n",
    "        \"\"\"Valor total de todos los billetes y monedas.\"\"\"\n",
    "        valor = 0\n",
    "        resultado = 0\n",
    "        for i in self.diccionario.keys():\n",
    "            clave = i\n",
    "            valor = self.diccionario.get(i)\n",
    "            resultado=resultado+(clave*valor)\n",
    "        return resultado\n",
    "\n",
    "    def num_billetes(self, valor_billete = None):\n",
    "        \"\"\"\n",
    "        Número de billetes o monedas de un determinado valor. \n",
    "        Si valor_billete es None, se devuelve el número total de billetes.\n",
    "        \"\"\"\n",
    "        cont = 0\n",
    "        resultado = 0\n",
    "        if valor_billete == None:\n",
    "            for i in self.diccionario.keys():\n",
    "                cont+=self.diccionario.get(i)\n",
    "            return cont\n",
    "        else:\n",
    "            if valor_billete in self.diccionario.keys():\n",
    "                resultado = self.diccionario.get(valor_billete)\n",
    "                return resultado\n",
    "\n",
    "    \n",
    "    def __contains__(self, billete):\n",
    "        \"\"\"Indica si la Cartera contiene un determinado tipo de billete.\"\"\"\n",
    "        if billete in self.diccionario.keys():\n",
    "            return True\n",
    "        return False\n",
    "        \n",
    "        \n",
    "    def __getitem__(self, billete):\n",
    "        \"\"\"\n",
    "        Devuelve cuantos billetes hay de un determinado tipo. \n",
    "        Si no hay ninguno, devuelve 0.\n",
    "        \"\"\"\n",
    "        if billete in self.diccionario.keys():\n",
    "            return self.diccionario.get(billete)\n",
    "        return 0\n",
    "         \n",
    " \n",
    "    def __setitem__(self, billete, cantidad):\n",
    "        \"\"\"Actualiza la cantidad de billetes de un determinado tipo.\"\"\"\n",
    "        self.diccionario[billete]=cantidad\n",
    "        \n",
    "        \n",
    "    def __delitem__(self, billete):\n",
    "        \"\"\"Elimina todos los billetes de un determinado valor.\"\"\"\n",
    "        if billete in self.diccionario.keys():\n",
    "            del self.diccionario[billete]\n",
    "    \n",
    "    def __eq__(self, otro):\n",
    "        \"\"\" \n",
    "        Dos Carteras son iguales si tienen los mismos billetes en las mismas \n",
    "        cantidades. \n",
    "        Pueden ser distintas aunque el valor total sea el mismo.\n",
    "        \"\"\"\n",
    "        if isinstance(otro,Cartera):\n",
    "            if otro.diccionario.items() == self.diccionario.items():\n",
    "                return True\n",
    "            return False\n",
    "        return False\n",
    "               \n",
    "\n",
    "    def __add__(self, billetes):\n",
    "        \"\"\"\n",
    "        Devuelve una nueva Cartera con los billetes de la actual más los del\n",
    "        argumento \"billetes\" que puede ser de los mismos tipos que en el \n",
    "        constructor.\n",
    "        \"\"\"\n",
    "        c=copy.deepcopy(self)\n",
    "        dicc={}\n",
    "        \n",
    "        if isinstance(billetes,Cartera):\n",
    "            dicc=Cartera(billetes).getCartera()\n",
    "        elif isinstance(billetes,numbers.Number):\n",
    "            dicc[billetes]=1\n",
    "        elif isinstance(billetes,collections.Iterable):\n",
    "            dicc=Cartera(billetes).getCartera()\n",
    "        for i in dicc:\n",
    "            if i in c:\n",
    "                c[i]=c[i]+dicc[i]\n",
    "            else:\n",
    "                c[i]=dicc[i]\n",
    "        return c\n",
    "        \n",
    "    def __iadd__(self, billetes):\n",
    "        \"\"\"Inserta monedas o billetes adicionales. El argumento \"billetes\" puede\n",
    "        ser como en el constructor.\n",
    "        \"\"\"\n",
    "        self=self+billetes\n",
    "        return self\n",
    "    \n",
    "    def __iter__(self):\n",
    "        return iter(self.diccionario)\n",
    "    \n",
    "\n",
    "    def __str__(self):\n",
    "        return str(self.diccionario)\n",
    "    \n",
    "    \n",
    "    def __radd__(self, billetes):\n",
    "        return self + billetes\n",
    "    \n",
    "    def getCartera(self):\n",
    "        return self.diccionario"
   ]
  },
  {
   "cell_type": "code",
   "execution_count": 4,
   "metadata": {
    "collapsed": true
   },
   "outputs": [],
   "source": [
    "def test_cartera_coincide(cartera, billetes):\n",
    "    \"\"\"\n",
    "    Tests para comprobar si el contenido de la cartera coincide con lo que se\n",
    "    indica en \"billetes\", una secuencia de pares (valor, cantidad).\n",
    "    \"\"\"\n",
    "    assert cartera.num_billetes() == sum(cantidad for valor, cantidad in billetes)\n",
    "\n",
    "    s = sum(valor * cantidad for valor, cantidad in billetes)\n",
    "    assert abs(cartera.valor() - s) < 0.00001\n",
    "\n",
    "    for valor, cantidad in billetes:\n",
    "        assert cartera.num_billetes(valor) == cantidad"
   ]
  },
  {
   "cell_type": "code",
   "execution_count": 5,
   "metadata": {},
   "outputs": [
    {
     "name": "stdout",
     "output_type": "stream",
     "text": [
      "OK\n"
     ]
    }
   ],
   "source": [
    "def test_cartera_constructor():\n",
    "    \"\"\"Test para la clase Cartera: constructores\"\"\"\n",
    "\n",
    "    c = Cartera()\n",
    "    test_cartera_coincide(c, [])\n",
    "\n",
    "    c = Cartera(20)\n",
    "    test_cartera_coincide(c, [(20, 1)])\n",
    "\n",
    "    c = Cartera((50, 20, 20))\n",
    "    test_cartera_coincide(c, [(50, 1), (20, 2)])\n",
    "\n",
    "    c2 = Cartera(c)\n",
    "    test_cartera_coincide(c2, [(50, 1), (20, 2)])\n",
    "    \n",
    "if __name__ == \"__main__\": \n",
    "    test_cartera_constructor()\n",
    "    print(\"OK\")      "
   ]
  },
  {
   "cell_type": "code",
   "execution_count": 6,
   "metadata": {},
   "outputs": [
    {
     "name": "stdout",
     "output_type": "stream",
     "text": [
      "OK\n"
     ]
    }
   ],
   "source": [
    "def test_cartera_contenido():\n",
    "    \"\"\"Test para la clase Cartera: operador in\"\"\"\n",
    "\n",
    "    c = Cartera((50, 20, 20))\n",
    "    assert 50 in c\n",
    "    assert 20 in c\n",
    "    assert 10 not in c\n",
    "    \n",
    "if __name__ == \"__main__\": \n",
    "    test_cartera_contenido()\n",
    "    print(\"OK\")      "
   ]
  },
  {
   "cell_type": "code",
   "execution_count": 7,
   "metadata": {},
   "outputs": [
    {
     "name": "stdout",
     "output_type": "stream",
     "text": [
      "OK\n"
     ]
    }
   ],
   "source": [
    "def test_cartera_elementos():\n",
    "    \"\"\"Test para la clase Cartera: operador []\"\"\"\n",
    "\n",
    "    c = Cartera((50, 20, 20))\n",
    "    assert c[50] == 1\n",
    "    assert c[20] == 2\n",
    "    assert c[10] == 0\n",
    "    test_cartera_coincide(c, [(50, 1), (20, 2)])\n",
    "\n",
    "    c[50] = 3\n",
    "    c[5] = 2\n",
    "    assert c[50] == 3\n",
    "    assert c[20] == 2\n",
    "    assert c[5] == 2\n",
    "    test_cartera_coincide(c, [(50, 3), (20, 2), (5, 2)])\n",
    "\n",
    "    c[5] += 4\n",
    "    assert c[5] == 6\n",
    "    test_cartera_coincide(c, [(50, 3), (20, 2), (5, 6)])\n",
    "\n",
    "    del c[20]\n",
    "    test_cartera_coincide(c, [(50, 3), (5, 6)])\n",
    "\n",
    "    c[50] = 0\n",
    "    test_cartera_coincide(c, [(5, 6)])\n",
    "\n",
    "if __name__ == \"__main__\": \n",
    "    test_cartera_elementos()\n",
    "    print(\"OK\")  "
   ]
  },
  {
   "cell_type": "code",
   "execution_count": 8,
   "metadata": {},
   "outputs": [
    {
     "name": "stdout",
     "output_type": "stream",
     "text": [
      "OK\n"
     ]
    }
   ],
   "source": [
    "def test_cartera_igualdad():\n",
    "    \"\"\"Test para la clase Cartera: igualdad\"\"\"\n",
    "\n",
    "    c = Cartera()\n",
    "    c2 = c\n",
    "    assert c2 is c\n",
    "    assert c2 == c\n",
    "    assert not (c != c2)\n",
    "\n",
    "    c = Cartera([50, 20, 10])\n",
    "    c2 = Cartera([50, 20, 10])\n",
    "    assert c is not c2\n",
    "    assert c == c2\n",
    "    assert not (c != c2)\n",
    "\n",
    "    c = Cartera([50, 20, 10])\n",
    "    c2 = Cartera([50, 20, 5])\n",
    "    assert not (c == c2)\n",
    "    assert c != c2\n",
    "\n",
    "    c2 = Cartera([50, 10, 10, 5, 5])\n",
    "    assert not (c == c2)\n",
    "    assert c != c2\n",
    "    assert c.valor() == c2.valor()\n",
    "    \n",
    "if __name__ == \"__main__\": \n",
    "    test_cartera_igualdad()\n",
    "    print(\"OK\")     "
   ]
  },
  {
   "cell_type": "code",
   "execution_count": 9,
   "metadata": {},
   "outputs": [
    {
     "name": "stdout",
     "output_type": "stream",
     "text": [
      "OK\n"
     ]
    }
   ],
   "source": [
    "def test_cartera_suma():\n",
    "    \"\"\"Test para la clase Cartera: operador +\"\"\"\n",
    "\n",
    "    c = Cartera((50, 20, 20, 5))\n",
    "    test_cartera_coincide(c, [(50, 1), (20, 2), (5, 1)])\n",
    "\n",
    "    c2 = c + 5\n",
    "    test_cartera_coincide(c, [(50, 1), (20, 2), (5, 1)])\n",
    "    test_cartera_coincide(c2, [(50, 1), (20, 2), (5, 2)])\n",
    "\n",
    "    c2 = 5 + c\n",
    "    test_cartera_coincide(c, [(50, 1), (20, 2), (5, 1)])\n",
    "    test_cartera_coincide(c2, [(50, 1), (20, 2), (5, 2)])\n",
    "\n",
    "    c2 = c + [50, 1]\n",
    "    test_cartera_coincide(c, [(50, 1), (20, 2), (5, 1)])\n",
    "    test_cartera_coincide(c2, [(50, 2), (20, 2), (5, 1), (1,1)])\n",
    "\n",
    "    c2 = [50, 1] + c\n",
    "    test_cartera_coincide(c, [(50, 1), (20, 2), (5, 1)])\n",
    "    test_cartera_coincide(c2, [(50, 2), (20, 2), (5, 1), (1,1)])\n",
    "    \n",
    "    c2 = c + c\n",
    "    test_cartera_coincide(c2, [(50, 2), (20, 4), (5, 2)])\n",
    "    test_cartera_coincide(c, [(50, 1), (20, 2), (5, 1)])\n",
    "    \n",
    "if __name__ == \"__main__\": \n",
    "    test_cartera_suma()\n",
    "    print(\"OK\")     "
   ]
  },
  {
   "cell_type": "code",
   "execution_count": 15,
   "metadata": {
    "collapsed": true
   },
   "outputs": [],
   "source": [
    "def test_cartera_incremento():\n",
    "    \"\"\"Test para la clase Cartera: operador +=\"\"\"\n",
    "    c = Cartera()\n",
    "    test_cartera_coincide(c, [])\n",
    "\n",
    "    c += 20\n",
    "    test_cartera_coincide(c, [(20, 1)])\n",
    "\n",
    "    c += 50\n",
    "    test_cartera_coincide(c, [(50, 1), (20, 1)])\n",
    "\n",
    "    c += [500, 200, 100, 50, 20, 10]\n",
    "    test_cartera_coincide(c, [(500, 1), (200, 1), (100, 1), (50, 2), (20, 2),\n",
    "                             (10, 1)])\n",
    "\n",
    "    c += [500, 200, 100, 50, 20, 10]\n",
    "    test_cartera_coincide(c, [(500, 2), (200, 2), (100, 2), (50, 3), (20, 3),\n",
    "                             (10, 2)])\n",
    "\n",
    "    c += [0.5] * 3 + [0.2] * 4 + [0.1] * 7\n",
    "    test_cartera_coincide(c, [(500, 2), (200, 2), (100, 2), (50, 3), (20, 3),\n",
    "                             (10, 2), (0.5, 3), (0.2, 4), (0.1, 7)])\n",
    "\n",
    "    c += c\n",
    "    test_cartera_coincide(c, [(500, 4), (200, 4), (100, 4), (50, 6), (20, 6),\n",
    "                             (10, 4), (0.5, 6), (0.2, 8), (0.1, 14)])\n",
    "    \n",
    "if name == \"main\": \n",
    "    test_cartera_incremento()\n",
    "    print(\"OK\")"
   ]
  },
  {
   "cell_type": "markdown",
   "metadata": {},
   "source": [
    "### Devolver cambio\n",
    "Función para llegar a una cantidad de dinero acumulando billetes y monedas."
   ]
  },
  {
   "cell_type": "code",
   "execution_count": 13,
   "metadata": {
    "collapsed": true
   },
   "outputs": [],
   "source": [
    "def devuelve_cambio(cantidad, billetes):\n",
    "    \"\"\"\n",
    "    Método voraz para dados unos billetes disponibles, obtener una determinda \n",
    "    cantidad.    \n",
    "    El argumento \"billetes\" puede ser de los tipos que admite el constructor de\n",
    "    la clase Cartera.\n",
    "    Si se puede obtener (con el método voraz), se devuelve un objeto de tipo \n",
    "    Cartera con los billetes; si no, se devuelve None.\"\"\"\n",
    "    cartera = Cartera(billetes).getCartera()\n",
    "    lista_billetes = []\n",
    "    devuelto = 0\n",
    "    \n",
    "    for i in cartera.keys():\n",
    "        cont = 1\n",
    "        while cont <= cartera[i]:\n",
    "            if (devuelto + i) <= cantidad:\n",
    "                lista_billetes.append(i)\n",
    "                devuelto+=i\n",
    "                cont+=1\n",
    "            else:\n",
    "                break\n",
    "        if devuelto == cantidad:\n",
    "            return Cartera(lista_billetes)\n",
    "    return None"
   ]
  },
  {
   "cell_type": "code",
   "execution_count": 14,
   "metadata": {},
   "outputs": [
    {
     "name": "stdout",
     "output_type": "stream",
     "text": [
      "OK\n"
     ]
    }
   ],
   "source": [
    "def test_devuelve_cambio():\n",
    "    \"\"\"Tests para la función devuelve_cambio.\"\"\"\n",
    "    \n",
    "    assert devuelve_cambio(13, [5, 5, 5, 2, 2, 1, 1]) == Cartera((5, 5, 2, 1))\n",
    "\n",
    "    assert devuelve_cambio(13, [5, 2, 2, 2, 1, 1, 1, 1]) == Cartera(\n",
    "        (5, 2, 2, 2, 1, 1))\n",
    "\n",
    "    billetes = (500, 200, 100, 50, 20, 10, 5, 2, 1,\n",
    "                0.5, 0.2, 0.1, 0.05, 0.02, 0.01) * 10\n",
    "\n",
    "    assert devuelve_cambio(35.5, billetes) == Cartera((20, 10, 5, 0.5))\n",
    "\n",
    "    assert devuelve_cambio(87.63, billetes) == Cartera((50, 20, 10, 5, 2,\n",
    "                                                        0.5, 0.1, 0.02, 0.01))\n",
    "\n",
    "    assert devuelve_cambio(999, billetes) == Cartera((500, 200, 200, 50,\n",
    "                20, 20, 5, 2, 2))\n",
    "        \n",
    "    assert devuelve_cambio(999.99, billetes) == Cartera((500, 200, 200, 50,\n",
    "                20, 20, 5, 2, 2, 0.5, 0.2, 0.2, 0.05, 0.02, 0.02))\n",
    "\n",
    "    assert devuelve_cambio(999.99, Cartera(billetes)) == Cartera((500, 200, 200,\n",
    "                50, 20, 20, 5, 2, 2, 0.5, 0.2, 0.2, 0.05, 0.02, 0.02))\n",
    "\n",
    "    assert devuelve_cambio(1000000, billetes) == None\n",
    "\n",
    "    billetes = (500, 200, 100, 50, 20, 10, 5, 2, 1) * 10\n",
    "    assert devuelve_cambio(999.99, billetes) == None\n",
    "\n",
    "if __name__ == \"__main__\": \n",
    "    test_devuelve_cambio()\n",
    "    print(\"OK\")     "
   ]
  },
  {
   "cell_type": "code",
   "execution_count": null,
   "metadata": {
    "collapsed": true
   },
   "outputs": [],
   "source": []
  }
 ],
 "metadata": {
  "anaconda-cloud": {},
  "kernelspec": {
   "display_name": "Python 3",
   "language": "python",
   "name": "python3"
  },
  "language_info": {
   "codemirror_mode": {
    "name": "ipython",
    "version": 3
   },
   "file_extension": ".py",
   "mimetype": "text/x-python",
   "name": "python",
   "nbconvert_exporter": "python",
   "pygments_lexer": "ipython3",
   "version": "3.6.3"
  }
 },
 "nbformat": 4,
 "nbformat_minor": 1
}
