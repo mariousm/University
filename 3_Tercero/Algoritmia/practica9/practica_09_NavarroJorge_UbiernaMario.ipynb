{
 "cells": [
  {
   "cell_type": "markdown",
   "metadata": {},
   "source": [
    "## Algoritmia\n",
    "### Práctica 9\n",
    "En esta práctica se implementará algún método de *programación dinámica*."
   ]
  },
  {
   "cell_type": "markdown",
   "metadata": {},
   "source": [
    "Se pide la implementación de las clases y/o funciones que aparecen a continuación.\n",
    "\n",
    "Las instrucción \"pass\" que aparecen en el cuerpo de las clases o funciones, se debe sustituir por la implementación adecuada.\n",
    "\n",
    "Para cada clase o función que se pide se proporciona una o más funciones con algunos tests.\n",
    "\n",
    "Al llamar a las funciones de test no debería saltar ninguna aserción."
   ]
  },
  {
   "cell_type": "markdown",
   "metadata": {},
   "source": [
    "### Subsecuencia común más larga"
   ]
  },
  {
   "cell_type": "code",
   "execution_count": 22,
   "metadata": {
    "collapsed": true
   },
   "outputs": [],
   "source": [
    "def mas_larga(x, y):\n",
    "    if len(x) > len(y):\n",
    "        return x\n",
    "    else:\n",
    "        return y"
   ]
  },
  {
   "cell_type": "code",
   "execution_count": 23,
   "metadata": {
    "collapsed": true
   },
   "outputs": [],
   "source": [
    "from functools import lru_cache\n",
    "@lru_cache(10000)\n",
    "\n",
    "def subsecuencia_comun_mas_larga(x, y):\n",
    "    \"\"\"\n",
    "    Dadas dos cadenas x e y devuelve una que es subsecuencia de ambas y que \n",
    "    tiene la longitud máxima de todas las subsecuencias comunes.\n",
    "    \"\"\"\n",
    "    if len(x) == 0 or len(y) == 0:\n",
    "        return []\n",
    "    if x[-1] == y[-1]:\n",
    "        return subsecuencia_comun_mas_larga(x[:-1], y[:-1]) + [x[-1]]\n",
    "    else:\n",
    "        return mas_larga(subsecuencia_comun_mas_larga(x, y[:-1]), subsecuencia_comun_mas_larga(x[:-1], y))"
   ]
  },
  {
   "cell_type": "code",
   "execution_count": 24,
   "metadata": {},
   "outputs": [
    {
     "name": "stdout",
     "output_type": "stream",
     "text": [
      "OK\n"
     ]
    }
   ],
   "source": [
    "def test_subsecuencia_comun_mas_larga():\n",
    "    \"\"\"Casos de prueba para subsecuencia_comun_mas_larga.\"\"\"\n",
    "    \n",
    "    for s1, s2, l in (\n",
    "        (\"GTTCCTAATA\", \"CGATAATTGAGA\", 6),\n",
    "        (\"ACDAADDADDDDCCBCBCAD\", \"ADBDBBCDBDAABBDDDCBB\", 11),\n",
    "        (\"BBDABCCADCCADADDCACAACBA\", \"DBCBBDCBADABBBCCCDCACAADDACADD\", 17)\n",
    "    ):    \n",
    "        for x, y in ((s1, s2), (s2, s1)):\n",
    "            sub = subsecuencia_comun_mas_larga(x, y)\n",
    "            assert len(sub) == l\n",
    "            for s in x, y:\n",
    "                # comprobamos que sub es subsecuencia de s:\n",
    "                it = iter(s)\n",
    "                assert all(c in it for c in sub)\n",
    "    \n",
    "if __name__ == \"__main__\": \n",
    "    test_subsecuencia_comun_mas_larga()\n",
    "    print(\"OK\")    "
   ]
  },
  {
   "cell_type": "markdown",
   "metadata": {},
   "source": [
    "### Multiplicación encadenada de matrices\n",
    "Dadas varias matrices, caracterizadas por sus dimensiones, se determinará qué multiplicaciones realizar."
   ]
  },
  {
   "cell_type": "code",
   "execution_count": 25,
   "metadata": {
    "collapsed": true
   },
   "outputs": [],
   "source": [
    "def matrices_encadenadas(r):\n",
    "    n=len(r)-1\n",
    "    lista = []\n",
    "    m=[[0 for i in range(n+1)] for i in range(n+1)]\n",
    "    imp=[[0 for i in range(n+1)] for i in range(n+1)]\n",
    "    for d in range(1,n):\n",
    "        for i in range(1,n-d+1):\n",
    "            j=d+i\n",
    "            for k in range(i,j):\n",
    "                producto=m[i][k]+m[k+1][j]+r[i-1]*r[k]*r[j]\n",
    "                if k==i or producto < minimo:\n",
    "                    minimo=producto\n",
    "                    kmin=k\n",
    "            #nos quedamos con el minimo, ademas de quedarnos en otra matriz en la que guardamos tres cosas\n",
    "            #los indices del primer y segundo sumando, y los indices de la multiplicación\n",
    "            #los dos primeros restados porque empezamos en 1\n",
    "            m[i][j]=minimo\n",
    "            lista.append((i-1,kmin-1))\n",
    "            lista.append((kmin,j-1))\n",
    "            lista.append((i-1,kmin,j))\n",
    "            imp[i][j]=lista\n",
    "            lista = []\n",
    "    #tuvimos problemas con el tamaño de la matriz y tuvimos que eliminar tanto la primera fila como la segunda\n",
    "    imp.pop(0)\n",
    "    m.pop(0)\n",
    "    for x in range(n):\n",
    "        imp[x].pop(0)\n",
    "        m[x].pop(0)\n",
    "    return m[0][n-1],imp,m"
   ]
  },
  {
   "cell_type": "code",
   "execution_count": 26,
   "metadata": {
    "collapsed": true
   },
   "outputs": [],
   "source": [
    "def imprimir(impresion,matrizoriginal,matrizprod):\n",
    "    #guardamos las tres tuplas guardadas en el anterior de los metodos\n",
    "    izquierda=impresion[0]\n",
    "    debajo=impresion[1]\n",
    "    camino=impresion[2]\n",
    "    cadena=\"\"\n",
    "    if matrizoriginal[izquierda[0]][izquierda[1]]==0 and matrizoriginal[debajo[0]][debajo[1]]==0:\n",
    "        cadena+=\"M_\"+str(camino[0]+1)+\"*\"+\"M_\"+str(camino[1]+1)\n",
    "    elif matrizoriginal[izquierda[0]][izquierda[1]]==0:\n",
    "        cadena+=\"M_\"+str(camino[0]+1)+\"*(\"+imprimir(matrizprod[debajo[0]][debajo[1]],matrizoriginal,matrizprod)+\")\"\n",
    "    elif matrizoriginal[debajo[0]][debajo[1]]==0:\n",
    "        cadena+=\"(\"+imprimir(matrizprod[izquierda[0]][izquierda[1]],matrizoriginal,matrizprod)+\")*M_\"+str(camino[1]+1)\n",
    "    else:\n",
    "        cadena+=\"(\"+imprimir(matrizprod[izquierda[0]][izquierda[1]],matrizoriginal,matrizprod)+\")*(\"+imprimir(matrizprod[debajo[0]][debajo[1]],matrizoriginal,matrizprod)+\")\"\n",
    "    return cadena"
   ]
  },
  {
   "cell_type": "code",
   "execution_count": 27,
   "metadata": {
    "collapsed": true
   },
   "outputs": [],
   "source": [
    "def multiplicacion_encadenada_matrices(dimensiones):\n",
    "    \"\"\"\n",
    "    Dadas las dimensiones de varias matrices a multiplicar, aplica el método\n",
    "    de programación dinámica para para determinar en qué orden realizar las\n",
    "    multiplicaciones.\n",
    "    El número de matrices será la longitud de dimensiones menos uno.\n",
    "    Las dimensiones de la matriz M_i están en las componentes i-1 e i de\n",
    "    'dimensiones'.\n",
    "    Devuelve el número de multiplicaciones de elementos a realizar y una\n",
    "    cadena con la fórmula, incluyendo paréntesis (solo si son necesarios), en\n",
    "    la que se realizarían las multiplicaciones.\n",
    "    Por ejemplo '(M_1*(M_2*M_3))*M_4'.\n",
    "    \"\"\"\n",
    "    res1,temp,temp2 = matrices_encadenadas(dimensiones)\n",
    "    #ponemos la 0 -1 para coger la de arriba a la derecha del todo ya que hay que empezar a mirar por ahi\n",
    "    res2=imprimir(temp[0][-1],temp2,temp)\n",
    "    return res1,res2"
   ]
  },
  {
   "cell_type": "code",
   "execution_count": 28,
   "metadata": {},
   "outputs": [
    {
     "name": "stdout",
     "output_type": "stream",
     "text": [
      "OK\n"
     ]
    }
   ],
   "source": [
    "def test_orden_multiplicacion_matrices():\n",
    "    \"\"\"Casos de prueba para multiplicacion_encadenada_matrices.\"\"\"\n",
    "    \n",
    "    for dimensiones, multiplicaciones, formula in (\n",
    "        ([13, 5, 89], 13 * 5 * 89, \"M_1*M_2\"),\n",
    "        ([13, 5, 89, 3, 34], 2856, \"(M_1*(M_2*M_3))*M_4\"), \n",
    "        ([2, 3, 5, 2, 4, 3], 78, \"(M_1*(M_2*M_3))*(M_4*M_5)\"),\n",
    "        ([66, 87, 71, 43, 18, 19, 33, 98, 54], 498402, \n",
    "         \"(M_1*(M_2*(M_3*M_4)))*(((M_5*M_6)*M_7)*M_8)\")\n",
    "    ):\n",
    "        assert (multiplicacion_encadenada_matrices(dimensiones) ==\n",
    "                (multiplicaciones, formula))   \n",
    "    \n",
    "if __name__ == \"__main__\": \n",
    "    test_orden_multiplicacion_matrices()\n",
    "    print(\"OK\")    "
   ]
  },
  {
   "cell_type": "code",
   "execution_count": null,
   "metadata": {
    "collapsed": true
   },
   "outputs": [],
   "source": []
  }
 ],
 "metadata": {
  "anaconda-cloud": {},
  "kernelspec": {
   "display_name": "Python 3",
   "language": "python",
   "name": "python3"
  },
  "language_info": {
   "codemirror_mode": {
    "name": "ipython",
    "version": 3
   },
   "file_extension": ".py",
   "mimetype": "text/x-python",
   "name": "python",
   "nbconvert_exporter": "python",
   "pygments_lexer": "ipython3",
   "version": "3.6.3"
  }
 },
 "nbformat": 4,
 "nbformat_minor": 1
}
