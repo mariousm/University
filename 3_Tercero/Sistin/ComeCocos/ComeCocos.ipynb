{
 "cells": [
  {
   "cell_type": "code",
   "execution_count": 35,
   "metadata": {
    "collapsed": true
   },
   "outputs": [],
   "source": [
    "tablero = [[1,1,1,1,1,1,1,1,1,1],\n",
    "           [1,0,0,0,0,0,0,0,0,1],\n",
    "           [1,0,1,0,1,1,0,1,0,1],\n",
    "           [1,0,1,0,1,1,0,1,0,1],\n",
    "           [1,0,1,0,1,1,0,1,0,1],\n",
    "           [1,0,0,0,1,1,0,0,0,1],\n",
    "           [1,1,1,0,1,1,0,1,0,1],\n",
    "           [1,1,1,0,0,0,0,1,1,1],\n",
    "           [1,1,1,1,1,1,0,0,0,1],\n",
    "           [1,1,1,1,1,1,1,1,0,1],\n",
    "           [1,1,1,1,1,1,1,1,1,1]]\n",
    "\n",
    "pacman = [1,1]\n",
    "puntos = 0"
   ]
  },
  {
   "cell_type": "code",
   "execution_count": 36,
   "metadata": {
    "collapsed": true
   },
   "outputs": [],
   "source": [
    "def esta_libre(tablero, coordenada):\n",
    "    return tablero[coordenada[0]][coordenada[1]] ==0"
   ]
  },
  {
   "cell_type": "code",
   "execution_count": 37,
   "metadata": {
    "collapsed": true
   },
   "outputs": [],
   "source": [
    "def get_coordenadas_libres(tablero):\n",
    "    alto = len(tablero)\n",
    "    ancho = len(tablero[0])\n",
    "\n",
    "    libres = []\n",
    "\n",
    "    for i in range(alto):\n",
    "        for j in range(ancho):\n",
    "            coord = (i,j)\n",
    "            if esta_libre(tablero,coord):\n",
    "                libres.append(coord)\n",
    "    return libres\n",
    "\n",
    "comida = set(get_coordenadas_libres(tablero))\n",
    "\n",
    "#print(get_coordenadas_libres(tablero))"
   ]
  },
  {
   "cell_type": "code",
   "execution_count": 38,
   "metadata": {
    "collapsed": true
   },
   "outputs": [],
   "source": [
    "def mueve(pacman,mov):\n",
    "    nuevaCoordenada = [pacman[0]+mov[0], pacman[1]+mov[1]]\n",
    "    return nuevaCoordenada"
   ]
  },
  {
   "cell_type": "code",
   "execution_count": 39,
   "metadata": {
    "collapsed": true
   },
   "outputs": [],
   "source": [
    "def hay_comida(pacman,comida):\n",
    "    return tuple(pacman) in comida"
   ]
  },
  {
   "cell_type": "code",
   "execution_count": 40,
   "metadata": {
    "collapsed": true
   },
   "outputs": [],
   "source": [
    "def pintar_tablero(pacman,tablero,comida,puntos):\n",
    "    alto = len(tablero)\n",
    "    ancho = len(tablero[0])\n",
    "    rep = \"\"\n",
    "    \n",
    "    for i in range(alto):\n",
    "        for j in range(ancho):\n",
    "            coord = (i,j)\n",
    "            if esta_libre(tablero,coord) == 0:\n",
    "                rep+='#'\n",
    "            elif esta_libre(tablero,coord) == 1:\n",
    "                if tuple(pacman) == coord:\n",
    "                    rep+='*'\n",
    "                elif not tuple(pacman) == coord:\n",
    "                    rep+='.'\n",
    "                elif hay_comida(pacman,comida) == 0:\n",
    "                    rep+=\" \"\n",
    "        rep+='\\n'\n",
    "    rep+=\"Puntos:\"+str(puntos)\n",
    "    print(rep)\n",
    "    \n",
    "#pintar_tablero(pacman,tablero,comida,puntos)"
   ]
  },
  {
   "cell_type": "code",
   "execution_count": 41,
   "metadata": {},
   "outputs": [
    {
     "data": {
      "application/vnd.jupyter.widget-view+json": {
       "model_id": "5dace778e85d402f98b28a9f2d253bcb"
      }
     },
     "metadata": {},
     "output_type": "display_data"
    }
   ],
   "source": [
    "from IPython.display import display\n",
    "from ipywidgets import HTML\n",
    "def pinta_juegoHTML(tablero,pacman,comida,puntos):\n",
    " alto, ancho = len(tablero), len(tablero[0])\n",
    " cadenaHTML = '<table> <tr>'\n",
    " caracter = '<td></td>'\n",
    " blockImg = '<td><img src=\"./block.jpg\" alt=\"\" border=0 height=50 width=50></img></td>'\n",
    " huecoImg = '<td><img src=\"./hueco.jpg\" alt=\"\" border=0 height=50 width=50></img></td>'\n",
    " comidaImg = '<td><img src=\"./comida.jpg\" alt=\"\" border=0 height=50 width=50></img></td>'\n",
    " pacmanImg = '<td><img src=\"./pacman.jpg\" alt=\"\" border=0 height=50 width=50></img></td>'\n",
    " saltoLinea = \"</tr>\"\n",
    "\n",
    " for i in range(alto):\n",
    "     for j in range(ancho):\n",
    "         coord = (i,j)\n",
    "         if not esta_libre(tablero,coord):\n",
    "             caracter = blockImg\n",
    "         elif tuple(pacman) == coord:\n",
    "             caracter = pacmanImg\n",
    "         elif coord in comida:\n",
    "             caracter = comidaImg\n",
    "         else:\n",
    "             caracter = huecoImg\n",
    "\n",
    "         cadenaHTML += caracter\n",
    "     cadenaHTML += saltoLinea\n",
    "\n",
    " cadenaHTML += saltoLinea\n",
    " cadenaHTML += \"Puntos:\"+str(puntos)\n",
    " return cadenaHTML\n",
    "\n",
    "HTML(pinta_juegoHTML(tablero,pacman,comida,puntos))"
   ]
  },
  {
   "cell_type": "code",
   "execution_count": 48,
   "metadata": {
    "collapsed": true
   },
   "outputs": [],
   "source": [
    "def on_button_clicked(b):\n",
    "    desc=b.description\n",
    "    mov = [0,0]\n",
    "    if desc==\"^\":\n",
    "        mov=[-1,0]\n",
    "    elif desc==\"v\":\n",
    "        mov=[1,0]\n",
    "    elif desc==\">\":\n",
    "        mov=[0,1]\n",
    "    elif desc==\"<\":\n",
    "        mov=[0,-1]\n",
    "    global pacman\n",
    "    global comida\n",
    "    global puntos\n",
    "\n",
    " ########## modifica aquí\n",
    " # mueve pacman usando la función mueve\n",
    " # si hay comida elimina, come e incrementa los puntos\n",
    " ########## modifica aquí\n",
    "    if(esta_libre(tablero,mueve(pacman,mov))):\n",
    "        pacman=mueve(pacman,mov)\n",
    "        if(hay_comida(pacman,comida)):\n",
    "            comida.remove(tuple(pacman))\n",
    "            puntos+=100\n",
    "    visor.value = pinta_juegoHTML(tablero,pacman,comida,puntos)"
   ]
  },
  {
   "cell_type": "code",
   "execution_count": 49,
   "metadata": {},
   "outputs": [
    {
     "data": {
      "application/vnd.jupyter.widget-view+json": {
       "model_id": "2731b24b0665423c959a38551ab5d131"
      }
     },
     "metadata": {},
     "output_type": "display_data"
    }
   ],
   "source": [
    "from IPython.display import display\n",
    "from ipywidgets import HTML, Dropdown ,Button, HBox, VBox, Box\n",
    "# visor HTML donde se representará el juego\n",
    "visor=HTML()\n",
    "visor.value = pinta_juegoHTML(tablero,pacman,comida,puntos)\n",
    "# Botones para las direcciones\n",
    "up = Button(description=\"^\")\n",
    "down = Button(description=\"v\")\n",
    "right = Button(description=\">\")\n",
    "left = Button(description=\"<\")\n",
    "empty=Button(description=\" \")\n",
    "empty.margin=2\n",
    "# se añaden eventos a los botones\n",
    "up.on_click(on_button_clicked)\n",
    "down.on_click(on_button_clicked)\n",
    "right.on_click(on_button_clicked)\n",
    "left.on_click(on_button_clicked)\n",
    "control=VBox([HBox([empty,up,empty]),HBox([left,down,right])])\n",
    "ui=VBox(children=[visor, control])\n",
    "display(ui)"
   ]
  },
  {
   "cell_type": "code",
   "execution_count": null,
   "metadata": {
    "collapsed": true
   },
   "outputs": [],
   "source": []
  }
 ],
 "metadata": {
  "kernelspec": {
   "display_name": "Python 3",
   "language": "python",
   "name": "python3"
  },
  "language_info": {
   "codemirror_mode": {
    "name": "ipython",
    "version": 3
   },
   "file_extension": ".py",
   "mimetype": "text/x-python",
   "name": "python",
   "nbconvert_exporter": "python",
   "pygments_lexer": "ipython3",
   "version": "3.6.2"
  }
 },
 "nbformat": 4,
 "nbformat_minor": 2
}
