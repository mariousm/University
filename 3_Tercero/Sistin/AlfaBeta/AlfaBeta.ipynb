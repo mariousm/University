{
 "cells": [
  {
   "cell_type": "code",
   "execution_count": 15,
   "metadata": {
    "collapsed": true,
    "nbpresent": {
     "id": "b208e147-f192-4a24-897c-4adf396e6e01"
    }
   },
   "outputs": [],
   "source": [
    "%matplotlib inline \n",
    "#para poder mostrar figuras integradas en el notebook\n",
    "# figuras como las de los grafos"
   ]
  },
  {
   "cell_type": "markdown",
   "metadata": {},
   "source": [
    "# Alfa-beta.\n",
    "\n",
    "En este notebook se va a implementar el alfa-beta.\n"
   ]
  },
  {
   "cell_type": "markdown",
   "metadata": {},
   "source": [
    "## El Grafo de búsqueda\n",
    "\n",
    "Se va a utilizar el mismo grafo utilizado en los ejemplos de teoría.\n",
    "\n",
    "El grafo está definido con la librería networkx."
   ]
  },
  {
   "cell_type": "code",
   "execution_count": 16,
   "metadata": {
    "collapsed": true,
    "nbpresent": {
     "id": "da7cd040-4161-4cd2-a202-3c2c3543934c"
    }
   },
   "outputs": [],
   "source": [
    "import networkx as nx\n",
    "import matplotlib.pyplot as plt"
   ]
  },
  {
   "cell_type": "code",
   "execution_count": 17,
   "metadata": {
    "nbpresent": {
     "id": "2a238fce-061e-488d-949f-d67fc0889180"
    }
   },
   "outputs": [
    {
     "name": "stderr",
     "output_type": "stream",
     "text": [
      "C:\\Users\\Jorge\\Anaconda3\\lib\\site-packages\\networkx\\drawing\\nx_pylab.py:126: MatplotlibDeprecationWarning: pyplot.hold is deprecated.\n",
      "    Future behavior will be consistent with the long-time default:\n",
      "    plot commands add elements without first clearing the\n",
      "    Axes and/or Figure.\n",
      "  b = plt.ishold()\n",
      "C:\\Users\\Jorge\\Anaconda3\\lib\\site-packages\\networkx\\drawing\\nx_pylab.py:138: MatplotlibDeprecationWarning: pyplot.hold is deprecated.\n",
      "    Future behavior will be consistent with the long-time default:\n",
      "    plot commands add elements without first clearing the\n",
      "    Axes and/or Figure.\n",
      "  plt.hold(b)\n",
      "C:\\Users\\Jorge\\Anaconda3\\lib\\site-packages\\matplotlib\\__init__.py:917: UserWarning: axes.hold is deprecated. Please remove it from your matplotlibrc and/or style files.\n",
      "  warnings.warn(self.msg_depr_set % key)\n",
      "C:\\Users\\Jorge\\Anaconda3\\lib\\site-packages\\matplotlib\\rcsetup.py:152: UserWarning: axes.hold is deprecated, will be removed in 3.0\n",
      "  warnings.warn(\"axes.hold is deprecated, will be removed in 3.0\")\n"
     ]
    },
    {
     "data": {
      "image/png": "[encoded data removed]",
      "text/plain": [
       "<matplotlib.figure.Figure at 0x16058340438>"
      ]
     },
     "metadata": {},
     "output_type": "display_data"
    }
   ],
   "source": [
    "# Creo el grafo\n",
    "G = nx.DiGraph()\n",
    "\n",
    "# este diccionario almacena los hijos que tiene cada padre\n",
    "hijos = {1: [2,3,4], 2:[5,6], 3:[7,8,9], 4:[10,11],5:[12,13,14],\n",
    "         6:[15,16], 7:[17,18], 8:[19], 9:[20,21,22,23], \n",
    "         10:[24,25], 11:[26,27,28]}\n",
    "\n",
    "# En este bucle añado los nodos y los arcos. \n",
    "# Añado también las etiquetas de los nodos (node_labels)\n",
    "node_labels={}\n",
    "for nodo in hijos.keys():\n",
    "    node_labels[nodo]=nodo\n",
    "    for hijo in hijos[nodo]:\n",
    "        G.add_edge(nodo,hijo)\n",
    "        node_labels[hijo]=hijo\n",
    "\n",
    "\n",
    "# este diccionario almacena las posiciones de cada nodo, solo es estética\n",
    "posiciones = {1:(50,100),\n",
    "              2:(25,75),3:(55,75),4:(75,75),\n",
    "              5:(10,55),6:(25,55),\n",
    "              7:(40,55),8:(55,55),9:(70,55),\n",
    "              10:(80,55),11:(95,55),\n",
    "              12:(0,35),13:(7,35),14:(14,35),\n",
    "              15:(21,35),16:(28,35),\n",
    "              17:(35,35),18:(42,35),\n",
    "              19:(49,35),\n",
    "              20:(56,35),21:(63,35),22:(70,35),23:(77,35),\n",
    "              24:(84,35),25:(91,35),\n",
    "              26:(98,35),27:(105,35),28:(112,35)}\n",
    "\n",
    "# values es un diccionario que guarda los valores de evaluación de los nodos hoja\n",
    "values = {12:3,13:5,14:4,15:6,16:9,17:6,18:7,19:4,\n",
    "          20:20,21:1,22:-3,23:10,24:8,25:5,26:10,27:1,28:-5}\n",
    "\n",
    "\n",
    "\n",
    "node_label_pos = {k:[v[0],v[1]] for k,v in posiciones.items()}\n",
    "\n",
    "# añado como etiqueta tambien los valores de evaluación de los nodos\n",
    "for k,v in values.items(): \n",
    "    node_labels[str(k)+\"value\"]=v\n",
    "    node_label_pos[str(k)+\"value\"]=[posiciones[k][0],posiciones[k][1]-5]\n",
    "\n",
    "\n",
    "node_label_handles = nx.draw_networkx_labels(G,\n",
    "                                             pos = node_label_pos,\n",
    "                                             labels = node_labels,\n",
    "                                             font_size=6)\n",
    "\n",
    "\n",
    "\n",
    "nx.draw(G,pos=posiciones,node_size=200)\n",
    "\n",
    "\n"
   ]
  },
  {
   "cell_type": "markdown",
   "metadata": {},
   "source": [
    "## Funciones necesarias para implementar alfa-beta sobre el grafo de búsqueda\n",
    "\n",
    "Para hacer el código modular y reutilizable. El alfa-beta va a recibir 3 funciones:\n",
    "1. getSucesores: Recibe un nodo y devuelve una lista de nodos sucesores.\n",
    "2. esHoja: Recibe un nodo y devuelve True si es hoja.\n",
    "3. evalua: Recibe un nodo y devuelve un valor númerico.\n",
    "\n",
    "Abajo están las implementaciones de dichas funciones para trabajar con el grafo.\n",
    "\n",
    "Estas funciones se deben usar en el alfa-beta, así el alfa-beta no tiene que saber nada del problema que está resolviendo y se puede aplicar en varios problemas diferentes.\n",
    "\n",
    "Bastaría con implementar estas funciones para el 4 en raya por ejemplo y el alfa-beta podría determinar cual es el mejor moviemiento."
   ]
  },
  {
   "cell_type": "code",
   "execution_count": 18,
   "metadata": {
    "nbpresent": {
     "id": "51cbff42-9feb-4601-a8e6-77200b44ada2"
    },
    "scrolled": true
   },
   "outputs": [
    {
     "name": "stdout",
     "output_type": "stream",
     "text": [
      "[15, 16]\n",
      "False\n",
      "True\n",
      "3\n"
     ]
    }
   ],
   "source": [
    "def getSucesores(nodo):\n",
    "    '''\n",
    "    Devuelve los sucesores de acuerdo al grafo.\n",
    "    Los ordena para que el resultado sea identico al de las diapositivas de teoría\n",
    "    '''\n",
    "    suc = list(G[nodo].keys())\n",
    "    suc.sort()\n",
    "    return suc\n",
    "\n",
    "def esHoja(nodo):\n",
    "    '''\n",
    "    Devuelve si un nodo es hoja (aquel que no tiene sucesores)\n",
    "    '''\n",
    "    return len(getSucesores(nodo))==0\n",
    "\n",
    "def evalua(nodo):\n",
    "    '''\n",
    "    Devuelve el valor de evaluación de un nodo.\n",
    "    En este caso simplemente consulta del diccionario que almacena estos valores\n",
    "    '''\n",
    "    return values[nodo]\n",
    "    \n",
    "print(getSucesores(6))\n",
    "print(esHoja(5))\n",
    "print(esHoja(12))\n",
    "print(evalua(12))"
   ]
  },
  {
   "cell_type": "markdown",
   "metadata": {},
   "source": [
    "## alfa-beta\n",
    "\n",
    "A continuación se encuentra la función que se debe implementar.\n",
    "El pseudocódigo es el siguiente:\n",
    "\n",
    "```Python\n",
    "def alfabeta(nodo,a,b,prof,profLimite,sucesoresF,esHojaF,evaluaF):\n",
    "    '''\n",
    "    Si es hoja o la profundidad actual (prof) es igual a la limite:\n",
    "        se calcula la evaluación del nodo (evaluaF) y se devuelve\n",
    "    \n",
    "    Si es nivel MAX\n",
    "        calculo los sucesores (sucesoresF)\n",
    "        para cada sucesor (s_i) \n",
    "            llamo recursivamente a alfa-beta \n",
    "            guardo el valor devuelto en al-be\n",
    "            actualizo alfa (a) como el máximo entre alfa y al-be\n",
    "            si se produce un corte alfa-beta salgo del bucle\n",
    "        devuelvo alfa \n",
    "        (en un juego real, en profundidad 0 se devolvería ultimo movimiento)\n",
    "        \n",
    "    Si el nivel es MIN equivalente pero actualizo y devuelvo beta (b) en lugar de alfa\n",
    "    '''\n",
    "    \n",
    "\n",
    "\n",
    "```"
   ]
  },
  {
   "cell_type": "code",
   "execution_count": 29,
   "metadata": {
    "collapsed": true,
    "nbpresent": {
     "id": "1ec60cfb-453c-49c7-9027-c7c3502e8c1d"
    }
   },
   "outputs": [],
   "source": [
    "def alfabeta(nodo,a,b,prof,profLimite,sucesoresF,esHojaF,evaluaF):\n",
    "    '''\n",
    "    Implementar esta función.\n",
    "    '''\n",
    "    \n",
    "    if esHojaF(nodo) or prof==profLimite:\n",
    "        return evaluaF(nodo)\n",
    "    if prof%2==0:\n",
    "        for suc in sucesoresF(nodo):\n",
    "            albe = alfabeta(suc,a,b,prof+1,profLimite,sucesoresF,esHojaF,evaluaF)\n",
    "            a=max(a,albe)\n",
    "            if a>b:\n",
    "                break\n",
    "        return a\n",
    "    else:\n",
    "        for suc in sucesoresF(nodo):\n",
    "            albe = alfabeta(suc,a,b,prof+1,profLimite,sucesoresF,esHojaF,evaluaF)\n",
    "            b=min(b,albe)\n",
    "            if a>b:\n",
    "                break\n",
    "        return b        \n",
    "    return 0\n",
    "    \n"
   ]
  },
  {
   "cell_type": "code",
   "execution_count": 30,
   "metadata": {
    "scrolled": false
   },
   "outputs": [
    {
     "data": {
      "text/plain": [
       "8"
      ]
     },
     "execution_count": 30,
     "metadata": {},
     "output_type": "execute_result"
    }
   ],
   "source": [
    "alfabeta(1,-999,999,0,4,getSucesores,esHoja,evalua)"
   ]
  },
  {
   "cell_type": "code",
   "execution_count": null,
   "metadata": {
    "collapsed": true
   },
   "outputs": [],
   "source": []
  },
  {
   "cell_type": "code",
   "execution_count": null,
   "metadata": {
    "collapsed": true
   },
   "outputs": [],
   "source": []
  },
  {
   "cell_type": "code",
   "execution_count": null,
   "metadata": {
    "collapsed": true
   },
   "outputs": [],
   "source": []
  },
  {
   "cell_type": "code",
   "execution_count": null,
   "metadata": {
    "collapsed": true
   },
   "outputs": [],
   "source": []
  }
 ],
 "metadata": {
  "anaconda-cloud": {},
  "kernelspec": {
   "display_name": "Python 3",
   "language": "python",
   "name": "python3"
  },
  "language_info": {
   "codemirror_mode": {
    "name": "ipython",
    "version": 3
   },
   "file_extension": ".py",
   "mimetype": "text/x-python",
   "name": "python",
   "nbconvert_exporter": "python",
   "pygments_lexer": "ipython3",
   "version": "3.6.2"
  },
  "nbpresent": {
   "slides": {},
   "themes": {}
  }
 },
 "nbformat": 4,
 "nbformat_minor": 1
}
