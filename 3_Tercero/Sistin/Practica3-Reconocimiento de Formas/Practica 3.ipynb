{
 "cells": [
  {
   "cell_type": "markdown",
   "metadata": {
    "collapsed": true
   },
   "source": [
    "# Sistemas Inteligentes\n",
    "\n",
    "## Grado en Ingeniería Informática\n",
    "## Universidad de Burgos\n",
    "## José Francisco  Diez\n",
    "## Curso 2017-2018"
   ]
  },
  {
   "cell_type": "code",
   "execution_count": 1,
   "metadata": {
    "collapsed": true
   },
   "outputs": [],
   "source": [
    "%matplotlib inline \n",
    "#para dibujar en el propio notebook\n",
    "import numpy as np  #numpy como np\n",
    "import matplotlib.pyplot as plt #matplotlib como plot\n"
   ]
  },
  {
   "cell_type": "markdown",
   "metadata": {},
   "source": [
    "# Reconocimiento de formas\n",
    "\n",
    "En esta práctica se va a hacer un programa muy sencillo de reconocimiento de formas. \n",
    "\n",
    "El proceso consistirá en:\n",
    "- obtener un conjunto de datos X,y\n",
    "    - X será un conjunto de atributos que describa cada imagen\n",
    "    - y será la clase\n",
    "- entrenar una red neuronal con una parte de los datos (conjunto de entrenamiento)\n",
    "- comprobar su funcionamiento con otra parte (conjunto de test)\n",
    "\n",
    "\n",
    "Las imágenes con las que se va a trabajar pertenecen al repositorio MPEG7, obtenido de www.dabi.temple.edu/~shape/MPEG7/dataset.html, en la versión de ubuvirtual se han quitado algunas imágenes para simplificar el problema.\n",
    "\n",
    "Lo primero que se debe hacer es descomprimir las imágenes en la carpeta **MPEG7dataset**.\n",
    "\n",
    "Cada imagen contiene en su nombre el nombre de la clase a la que pertenece. Se puede obtener el nombre de todos los ficheros de un directorio con **listdir** del modulo **os**\n"
   ]
  },
  {
   "cell_type": "code",
   "execution_count": 2,
   "metadata": {},
   "outputs": [
    {
     "data": {
      "text/plain": [
       "['apple-1.gif',\n",
       " 'apple-10.gif',\n",
       " 'apple-11.gif',\n",
       " 'apple-12.gif',\n",
       " 'apple-13.gif',\n",
       " 'apple-14.gif',\n",
       " 'apple-15.gif',\n",
       " 'apple-16.gif',\n",
       " 'apple-17.gif',\n",
       " 'apple-18.gif']"
      ]
     },
     "execution_count": 2,
     "metadata": {},
     "output_type": "execute_result"
    }
   ],
   "source": [
    "'''\n",
    "Ejemplo 1\n",
    "Obtengo los nombres de todos los ficheros y devuelvo para \n",
    "para que se muestren los 10 primeros\n",
    "'''\n",
    "import os\n",
    "\n",
    "img_names = os.listdir(\"MPEG7dataset\")\n",
    "img_names[:10] # solo devuelve los 10 primeros"
   ]
  },
  {
   "cell_type": "code",
   "execution_count": 3,
   "metadata": {},
   "outputs": [
    {
     "data": {
      "text/plain": [
       "['apple', '1.gif']"
      ]
     },
     "execution_count": 3,
     "metadata": {},
     "output_type": "execute_result"
    }
   ],
   "source": [
    "'''\n",
    "Ejemplo 2\n",
    "obtengo la clase a la que pertenece una imagen\n",
    "'''\n",
    "img_names[0].split(\"-\")"
   ]
  },
  {
   "cell_type": "markdown",
   "metadata": {},
   "source": [
    "## Skimage\n",
    "\n",
    "La librería Skimage o Scikit-Image es una librería de Python construida sobre Numpy que tiene algoritmos de tratamiento de imágenes: operaciones con color, transformaciones, filtros, segmentación etc\n",
    "\n",
    "Se puede cargar una imagen simplemente con el método **imread** y se puede mostrar con el método **imshow**, ambos métodos del módulo **skimage.io**"
   ]
  },
  {
   "cell_type": "code",
   "execution_count": 4,
   "metadata": {
    "collapsed": true
   },
   "outputs": [],
   "source": [
    "'''\n",
    "Ejemplo 3\n",
    "Obtiene img a partir de su ruta en el disco.\n",
    "'''\n",
    "from skimage.io import imshow, imread\n",
    "# os.sep es el separador del sistema operativo (/ (linux) o \\ (windows))\n",
    "img = imread(\"MPEG7dataset\"+os.sep+img_names[0])"
   ]
  },
  {
   "cell_type": "code",
   "execution_count": 5,
   "metadata": {},
   "outputs": [
    {
     "data": {
      "text/plain": [
       "<matplotlib.image.AxesImage at 0x287dddb0da0>"
      ]
     },
     "execution_count": 5,
     "metadata": {},
     "output_type": "execute_result"
    },
    {
     "data": {
      "image/png": "[encoded data removed]",
      "text/plain": [
       "<matplotlib.figure.Figure at 0x287dc220c88>"
      ]
     },
     "metadata": {},
     "output_type": "display_data"
    }
   ],
   "source": [
    "# muestra la imagen\n",
    "imshow(img)"
   ]
  },
  {
   "cell_type": "code",
   "execution_count": 6,
   "metadata": {},
   "outputs": [
    {
     "name": "stdout",
     "output_type": "stream",
     "text": [
      "(256, 256)\n"
     ]
    },
    {
     "data": {
      "text/plain": [
       "array([[0, 0, 0, ..., 0, 0, 0],\n",
       "       [0, 0, 0, ..., 0, 0, 0],\n",
       "       [0, 0, 0, ..., 0, 0, 0],\n",
       "       ..., \n",
       "       [0, 0, 0, ..., 0, 0, 0],\n",
       "       [0, 0, 0, ..., 0, 0, 0],\n",
       "       [0, 0, 0, ..., 0, 0, 0]], dtype=uint8)"
      ]
     },
     "execution_count": 6,
     "metadata": {},
     "output_type": "execute_result"
    }
   ],
   "source": [
    "'''\n",
    "En skimage las imágenes son arrays de numpy, un tipo de objeto\n",
    "similar a las listas, pero más eficiente y con muchas operaciones\n",
    "especiales.\n",
    "'''\n",
    "print(img.shape)\n",
    "img"
   ]
  },
  {
   "cell_type": "code",
   "execution_count": 7,
   "metadata": {},
   "outputs": [
    {
     "data": {
      "text/plain": [
       "65536"
      ]
     },
     "execution_count": 7,
     "metadata": {},
     "output_type": "execute_result"
    }
   ],
   "source": [
    "img.size # alto x ancho"
   ]
  },
  {
   "cell_type": "code",
   "execution_count": 8,
   "metadata": {
    "collapsed": true
   },
   "outputs": [],
   "source": [
    "'''\n",
    "Ejemplo 4\n",
    "Se cambia la forma, pasa de tener alto filas y ancho columnas a tener alto x ancho valores\n",
    "en una sola dimensión\n",
    "'''\n",
    "# se pasa a una sola fila y se convierte en lista\n",
    "lista_pixels = img.reshape(img.size).tolist()"
   ]
  },
  {
   "cell_type": "code",
   "execution_count": 9,
   "metadata": {},
   "outputs": [
    {
     "name": "stdout",
     "output_type": "stream",
     "text": [
      "[11 22 33 44 55]\n",
      "[ 2  4  6  8 10]\n",
      "3.0\n",
      "15\n"
     ]
    }
   ],
   "source": [
    "'''\n",
    "Ejemplos de operaciones de arrays de numpy que no existen para listas\n",
    "'''\n",
    "import numpy as np\n",
    "\n",
    "array1 = np.array([1,2,3,4,5])\n",
    "array2 = np.array([10,20,30,40,50])\n",
    "\n",
    "print(array1+array2) \n",
    "print(array1*2)\n",
    "print(array1.mean())\n",
    "print(array1.sum())"
   ]
  },
  {
   "cell_type": "markdown",
   "metadata": {},
   "source": [
    "### Redimensionar una imágen\n",
    "\n",
    "Se puede redimensionar una imagen usando el método **resize** del módulo **skimage.transform**.\n",
    "\n",
    "En el ejemplo de abajo se redimensiona y se muestra."
   ]
  },
  {
   "cell_type": "code",
   "execution_count": 10,
   "metadata": {},
   "outputs": [
    {
     "data": {
      "text/plain": [
       "<matplotlib.image.AxesImage at 0x287de7ec518>"
      ]
     },
     "execution_count": 10,
     "metadata": {},
     "output_type": "execute_result"
    },
    {
     "data": {
      "image/png": "[encoded data removed]",
      "text/plain": [
       "<matplotlib.figure.Figure at 0x287dd160240>"
      ]
     },
     "metadata": {},
     "output_type": "display_data"
    }
   ],
   "source": [
    "'''\n",
    "Ejemplo 5\n",
    "Redimensiona una imagen a 12 x 16\n",
    "'''\n",
    "\n",
    "from skimage.transform import resize\n",
    "import warnings\n",
    "\n",
    "'''\n",
    "el metodo resize lanza un warning, así simplemente se impide \n",
    "que se muestre por pantalla\n",
    "''' \n",
    "warnings.filterwarnings(\"ignore\")\n",
    "\n",
    "img_mini =  resize(img, (12, 16))\n",
    "imshow(img_mini)"
   ]
  },
  {
   "cell_type": "markdown",
   "metadata": {},
   "source": [
    "## Creación del conjunto de datos\n",
    "\n",
    "Se va a proceder a la construcción del conjunto de datos. El conjunto de datos estará formado por X e y. \n",
    "\n",
    "- X será un array 2D con tantas filas como imágenes y tantas columnas como atributos se usen para describir cada imagen.\n",
    "- y será un array de una sola dimensión, con tantos elementos como imágenes, sus valores serán los nombres de las clases de cada imagen.\n",
    "\n",
    "Se puede construir X de muchas maneras:\n",
    "- X: los atributos son simplemente los valores de los pixels, después de reducir la dimensión para que no haya miles de atributos\n",
    "\n"
   ]
  },
  {
   "cell_type": "code",
   "execution_count": 11,
   "metadata": {},
   "outputs": [
    {
     "data": {
      "text/plain": [
       "((0,), (1399,))"
      ]
     },
     "execution_count": 11,
     "metadata": {},
     "output_type": "execute_result"
    }
   ],
   "source": [
    "'''\n",
    "Ejemplo 6\n",
    "\n",
    "Recorre todos los ficheros y construye el conjunto de datos X,y\n",
    "'''\n",
    "import warnings\n",
    "warnings.filterwarnings(\"ignore\")\n",
    "\n",
    "\n",
    "lista_X = []\n",
    "lista_y = []\n",
    "for name in img_names:\n",
    "    # completa este ejemplo\n",
    "    lista_y.append(name.split(\"-\")[0])\n",
    "    \n",
    "    \n",
    "X = np.array(lista_X)\n",
    "y = np.array(lista_y)\n",
    "X.shape,y.shape \n",
    "    "
   ]
  },
  {
   "cell_type": "markdown",
   "metadata": {},
   "source": [
    "# Tarea\n",
    "\n",
    "## **Tarea a completar por el alumno:**\n",
    "- Hacer una función *get_dataset()* que devuelve X e y. Dicha función se basará en el ejemplo 6 y hará uso de los códigos vistos en los ejemplos 1-5."
   ]
  },
  {
   "cell_type": "code",
   "execution_count": 26,
   "metadata": {},
   "outputs": [
    {
     "name": "stdout",
     "output_type": "stream",
     "text": [
      "[[ 0.  0.  0. ...,  0.  0.  0.]\n",
      " [ 0.  0.  0. ...,  0.  0.  0.]\n",
      " [ 0.  0.  0. ...,  0.  0.  0.]\n",
      " ..., \n",
      " [ 0.  0.  0. ...,  0.  0.  0.]\n",
      " [ 0.  0.  0. ...,  0.  0.  0.]\n",
      " [ 0.  0.  0. ...,  0.  0.  0.]]\n"
     ]
    }
   ],
   "source": [
    "import warnings\n",
    "def get_dataset():\n",
    "    \n",
    "    warnings.filterwarnings(\"ignore\")\n",
    "\n",
    "    lista_X = []\n",
    "    lista_y = []\n",
    "    for name in img_names:\n",
    "        # completa este ejemplo\n",
    "        img=imread(\"MPEG7dataset\"+os.sep+name)\n",
    "        img2d=resize(img,(16,16))\n",
    "        listapix=img2d.reshape(img2d.size).tolist()\n",
    "        lista_X.append(listapix)\n",
    "        lista_y.append(name.split(\"-\")[0])\n",
    "\n",
    "    X = np.array(lista_X)\n",
    "    y = np.array(lista_y)\n",
    "    return X,y\n",
    "\n",
    "X,y=get_dataset()\n",
    "print(X)"
   ]
  },
  {
   "cell_type": "code",
   "execution_count": 27,
   "metadata": {},
   "outputs": [
    {
     "name": "stdout",
     "output_type": "stream",
     "text": [
      "(1399, 256)\n"
     ]
    }
   ],
   "source": [
    "print(X.shape)"
   ]
  },
  {
   "cell_type": "markdown",
   "metadata": {},
   "source": [
    "-----------\n",
    "\n",
    "-----------\n",
    "\n",
    "-----------\n",
    "\n",
    "-----------"
   ]
  },
  {
   "cell_type": "markdown",
   "metadata": {},
   "source": [
    "## Construcción y evaluación del clasificador de formas.\n",
    "\n",
    "En python tenemos una librería de minería de datos llamada **Scikit-learn** o **Sklearn**. También viene incluida en Anaconda. Esta librería permite entrenar muchos tips de clasificadores, entre ellos la **red neuronal** vista en teoría.\n",
    "\n",
    "Como solo tenemos un conjunto de imágenes solo tenemos un conjunto de datos. Si queremos comprobar de manera justa el comportamiento del clasificador tenemos que descomponer el conjunto de datos en entrenamiento y test.\n",
    "\n",
    "El 70% será para entrenamiento y el 30% para test.\n",
    "\n",
    "El método **train_test_split** del módulo **sklearn.model_selection** permite dividir un conjunto de datos en dos partes, una para entrenar el clasificador y otra para evaluar su funcionamiento.\n",
    "\n",
    "Uso estratificación: la misma proporción de clases en entrenamiento que en test."
   ]
  },
  {
   "cell_type": "code",
   "execution_count": 28,
   "metadata": {},
   "outputs": [],
   "source": [
    "from sklearn.model_selection import train_test_split\n",
    "\n",
    "X_train, X_test, y_train, y_test = train_test_split(X, y, stratify=y, train_size = 0.7 )\n"
   ]
  },
  {
   "cell_type": "markdown",
   "metadata": {
    "collapsed": true
   },
   "source": [
    "En **Sklearn** todos los clasificadores tienen el mismo funcionamiento. \n",
    "Se crea, si no indicamos ningún argumento se crea el clasificador con todos los parámetros por defecto. Y luego:\n",
    "- el método **fit** entrena el clasificador\n",
    "- el método **predict** recibe uno o varios ejemplos y nos devuelve las clases que estima el clasificador."
   ]
  },
  {
   "cell_type": "code",
   "execution_count": 29,
   "metadata": {},
   "outputs": [
    {
     "data": {
      "text/plain": [
       "MLPClassifier(activation='relu', alpha=0.0001, batch_size='auto', beta_1=0.9,\n",
       "       beta_2=0.999, early_stopping=False, epsilon=1e-08,\n",
       "       hidden_layer_sizes=(100,), learning_rate='constant',\n",
       "       learning_rate_init=0.001, max_iter=200, momentum=0.9,\n",
       "       nesterovs_momentum=True, power_t=0.5, random_state=None,\n",
       "       shuffle=True, solver='adam', tol=0.0001, validation_fraction=0.1,\n",
       "       verbose=False, warm_start=False)"
      ]
     },
     "execution_count": 29,
     "metadata": {},
     "output_type": "execute_result"
    }
   ],
   "source": [
    "# puede tardar unos minutos\n",
    "from sklearn.neural_network import MLPClassifier\n",
    "\n",
    "\n",
    "classifier = MLPClassifier()\n",
    "\n",
    "classifier.fit(X_train, y_train)"
   ]
  },
  {
   "cell_type": "code",
   "execution_count": 30,
   "metadata": {
    "collapsed": true
   },
   "outputs": [],
   "source": [
    "'''\n",
    "y_pred son las clases que estima el clasificador, si las comparasemos\n",
    "con las clases reales y_test podríamos saber cuanto acierta el clasificador.\n",
    "'''\n",
    "y_pred = classifier.predict(X_test)"
   ]
  },
  {
   "cell_type": "markdown",
   "metadata": {},
   "source": [
    "# Tarea\n",
    "\n",
    "## **Tarea a completar por el alumno:**\n",
    "\n",
    "**Sklearn** tiene métodos para evaluar un clasificador en términos de porcentaje de acierto y otras medidas, pero no las vamos a usar.\n",
    "\n",
    "Se pide una función que compare *y_pred* con *y_test* y devuelva el porcentaje de acierto."
   ]
  },
  {
   "cell_type": "code",
   "execution_count": 42,
   "metadata": {},
   "outputs": [],
   "source": [
    "def compare(y_pred,y_test):\n",
    "    lista_acierto=(y_pred==y_test)\n",
    "    contador=0\n",
    "    total=0\n",
    "    \n",
    "    for elemento in lista_acierto:\n",
    "        total=total+1\n",
    "        if (elemento==True):\n",
    "            contador=contador+1\n",
    "    \n",
    "    return (contador/total)*100    "
   ]
  },
  {
   "cell_type": "code",
   "execution_count": 43,
   "metadata": {},
   "outputs": [
    {
     "name": "stdout",
     "output_type": "stream",
     "text": [
      "80.23809523809524\n"
     ]
    }
   ],
   "source": [
    "holiwi=compare(y_pred,y_test)\n",
    "print(holiwi)"
   ]
  },
  {
   "cell_type": "code",
   "execution_count": null,
   "metadata": {
    "collapsed": true
   },
   "outputs": [],
   "source": []
  }
 ],
 "metadata": {
  "anaconda-cloud": {},
  "kernelspec": {
   "display_name": "Python 3",
   "language": "python",
   "name": "python3"
  },
  "language_info": {
   "codemirror_mode": {
    "name": "ipython",
    "version": 3
   },
   "file_extension": ".py",
   "mimetype": "text/x-python",
   "name": "python",
   "nbconvert_exporter": "python",
   "pygments_lexer": "ipython3",
   "version": "3.6.2"
  }
 },
 "nbformat": 4,
 "nbformat_minor": 1
}
