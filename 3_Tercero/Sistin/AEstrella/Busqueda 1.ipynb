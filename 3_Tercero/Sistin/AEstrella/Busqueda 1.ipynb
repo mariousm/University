{
 "cells": [
  {
   "cell_type": "markdown",
   "metadata": {},
   "source": [
    "# Búsqueda. A\\*. Estructuras de datos\n",
    "\n",
    "Antes de llevar a cabo la implementación del A\\* es necesario tener el cuenta que estructuras de datos podemos utilizar para:\n",
    "1. Representar los nodos del grafo de búsqueda.\n",
    "2. Las colecciones internas del algoritmo como abiertos y cerrados.\n",
    "\n",
    "La elección correcta de (1.) nos va a permitir que el algoritmos sea genérico y pueda funcionar para muchos problemas de búsqueda diferentes y la elección correcta de (2.) nos va a simplificar la implementación y va a hacer que sea más eficiente.\n",
    "\n"
   ]
  },
  {
   "cell_type": "markdown",
   "metadata": {},
   "source": [
    "## Representación de los nodos del gráfo de búsqueda\n",
    "\n",
    "Vamos a definir una clase nodo. Esta clase va a tener 4 atributos:\n",
    "1. Estado: Va a ser el estado del nodo actual.\n",
    "2. Padre: El nodo desde el que se llega al nodo actual. En el nodo inicial el padre va a ser None.\n",
    "3. g: El coste desde el nodo inicial a el nodo actual. Es igual al g del padre + el coste desde el padre al actual.\n",
    "4. f: El coste total del camino que va desde el nodo inicial a el final pasando por el nodo actual. Es igual a g + heurística(estado)\n",
    "\n",
    "\n",
    "A parte de un constructor al que le pasamos estos 4 atributos y los métodos getEstado, getPadre, getG y getF se van a necesitar una serie de métodos extra que nos van a ayudar con la implementación de A\\*:\n",
    "\n",
    "- camino: Obtiene el camino (todos los estados) desde el nodo actual hasta el inicio. En un bucle va recuperando el padre y mientras el padre no sea None añade el estado a una lista que finalmente se devolverá como camino.\n",
    "\n",
    "\n",
    "```Python\n",
    "nA=Nodo(\"A\",None,0,10)\n",
    "nB=Nodo(\"B\",nA,1,10)\n",
    "nC=Nodo(\"C\",nA,1,8)\n",
    "nD=Nodo(\"D\",nB,2,10)\n",
    "\n",
    "nD.camino()\n",
    "\n",
    "#Devuelve [\"A\",\"B\",\"D\"]\n",
    "```\n",
    "\n",
    "- \\_\\_repr\\_\\_: Es equivalente al \\_\\_str\\_\\_ pero funciona en contenedores de Nodos (listas, diccionarios) y como los nodos los vamos a tener dentro de Abiertos y Cerrados, es mejor implementar este método. Tendrá que devolver el estado y la f, para poder hacer una traza de lo que pasa en el interior del algoritmo A\\*. Opcionalmente podría devolver más cosas, aunque dificultaría la comprensión.\n",
    "\n",
    "- El método \\_\\_lt\\_\\_ y el método  \\_\\_eq\\_\\_ son necesarios para poder usar el tipo Nodo dentro de diccionarios. El primero devuelve True cuando el objeto es mejor que otro que se pase por parámetro y el segundo devuelve True si el objeto por parámetro es igual. (Ya os les doy).\n",
    "\n",
    "\n",
    "\n"
   ]
  },
  {
   "cell_type": "code",
   "execution_count": 21,
   "metadata": {
    "collapsed": true
   },
   "outputs": [],
   "source": [
    "'''\n",
    "Completar esto\n",
    "\n",
    "'''\n",
    "\n",
    "class Nodo:\n",
    "    \n",
    "    def __init__(self,estado,padre,g,f):\n",
    "        \"Implementar\"\n",
    "    def getPadre(self):\n",
    "        \"Implementar\"\n",
    "    def getEstado(self):\n",
    "        \"Implementar\"\n",
    "    def getG(self):\n",
    "        \"Implementar\"\n",
    "    def getF(self):\n",
    "        \"Implementar\"\n",
    "    def camino(self):\n",
    "        \"Implementar\"\n",
    "    def __repr__(self):\n",
    "        \"Implementar\" \n",
    "    \n",
    "    def __lt__(self, other):\n",
    "        return self.f<other.f\n",
    "        \n",
    "\n",
    "    def __eq__(self, other):        \n",
    "        return self.getEstado()==other.getEstado()\n",
    "    "
   ]
  },
  {
   "cell_type": "markdown",
   "metadata": {},
   "source": [
    "## Las colecciones internas del algoritmo A\\*\n",
    "\n",
    "### Cerrados: \n",
    "Hay que guardar los nodos visitados en alguna parte y además hay que poder consultar si cuando volvemos a evaluar un determinado nodo, un nodo con su mismo estado ya había sido visitado pero con una f mayor.\n",
    "\n",
    "En un set podemos guardar elementos y podemos consultar si un elemento está incluido o no.\n",
    "\n",
    "En un diccionario en el que la clave sea el estado y el valor el nodo completo. Podemos consultar si un estado ha sido visitado y como podemos recuperar la f (al estar dentro del nodo) podemos saber si ese nodo pasa de cerrados a abiertos o no.\n",
    "\n",
    "Para Cerrados elegimos un diccionario. \n",
    "\n",
    "```Python\n",
    "\n",
    "cerrados = {}\n",
    "cerrados[\"A\"]=nA\n",
    "cerrados[\"B\"]=nB\n",
    "cerrados[\"C\"]=nC\n",
    "cerrados[\"D\"]=nD\n",
    "\n",
    "# aparece un nuevo nodo con D\n",
    "nuevaD=Nodo(\"D\",nC,3,9)\n",
    "\n",
    "viejaD = cerrados[\"D\"]\n",
    "\n",
    "if nuevaD.getF() < viejaD.getF():\n",
    "    # elimino de cerrados y meto en abiertos\n",
    "```"
   ]
  },
  {
   "cell_type": "markdown",
   "metadata": {},
   "source": [
    "### Abiertos\n",
    "\n",
    "Queremos una estructura que esté ordenada por la F de los nodos, para poder ir recuperando siempre el de menor F. En Python tenemos PriorityQueue que es una estructura que ordena los elementos por el valor que digamos.\n",
    "\n",
    "Tiene:\n",
    "- put\n",
    "- empty\n",
    "- get\n",
    "\n",
    "\n",
    "\n",
    "\n"
   ]
  },
  {
   "cell_type": "code",
   "execution_count": 22,
   "metadata": {},
   "outputs": [
    {
     "name": "stdout",
     "output_type": "stream",
     "text": [
      "(1, 'Item 2')\n",
      "(1, 'Item 3')\n",
      "(2, 'Item 1')\n",
      "(2, 'Item 5')\n",
      "(5, 'Item 4')\n"
     ]
    }
   ],
   "source": [
    "import queue as queue\n",
    "\n",
    "prio_queue = queue.PriorityQueue()\n",
    "prio_queue.put((2, 'Item 1'))\n",
    "prio_queue.put((1, 'Item 2'))\n",
    "prio_queue.put((1, 'Item 3'))\n",
    "prio_queue.put((5, 'Item 4'))\n",
    "prio_queue.put((2, 'Item 5'))\n",
    "\n",
    "while not prio_queue.empty():\n",
    "    item = prio_queue.get() # el elemento se consume\n",
    "    print(item)"
   ]
  },
  {
   "cell_type": "markdown",
   "metadata": {},
   "source": [
    "Esta estructura nos vale pero tenemos que extenderla.\n",
    "\n",
    "Porque en un parte del algoritmo A\\* queremos saber si un determinado estado ya había sido almacenado en abiertos y porque si ya había sido almacenado pero tiene una f mayor que el nuevo queremos actualizarlo.\n",
    "\n",
    "Vamos a crear una nueva estructura usando PriorityQueue y añadiendo lo que nos falta"
   ]
  },
  {
   "cell_type": "code",
   "execution_count": 23,
   "metadata": {},
   "outputs": [
    {
     "data": {
      "text/plain": [
       "[(1, 'Item 2'), (2, 'Item 1')]"
      ]
     },
     "execution_count": 23,
     "metadata": {},
     "output_type": "execute_result"
    }
   ],
   "source": [
    "prio_queue.put((2, 'Item 1'))\n",
    "prio_queue.put((1, 'Item 2'))\n",
    "\n",
    "'''\n",
    "el atributo queue es una lista que tiene tuplas con la prioridad \n",
    "y el valor almacenado en la cola.\n",
    "\n",
    "Se puede acceder a esa lista para implementar los métodos que nos hacen falta\n",
    "'''\n",
    "\n",
    "\n",
    "prio_queue.queue"
   ]
  },
  {
   "cell_type": "code",
   "execution_count": 24,
   "metadata": {},
   "outputs": [
    {
     "data": {
      "text/plain": [
       "'\\nabiertos = Abiertos()\\nabiertos.put(Nodo(\"A\",None,0,10))\\nabiertos.put(Nodo(\"B\",\"A\",1,10))\\nabiertos.put(Nodo(\"C\",\"A\",1,8))\\nabiertos.put(Nodo(\"D\",\"B\",2,10))\\n\\n\\nwhile not abiertos.empty():\\n    item = abiertos.pop() # el elemento se consume\\n    print(item)\\n    \\n\\nabiertos.put(Nodo(\"A\",None,0,10))\\nabiertos.put(Nodo(\"B\",\"A\",1,10))\\nabiertos.put(Nodo(\"C\",\"A\",1,8))\\nabiertos.put(Nodo(\"D\",\"B\",2,10))\\n\\nprint(\"actualizo D\")\\nnodoD = abiertos.getNodo(\"D\")\\nprint(nodoD)\\nabiertos.update(nodoD,Nodo(\"D\",\"A\",2,8))\\nprint(\"abiertos\")\\n\\nwhile not abiertos.empty():\\n    item = abiertos.pop() # el elemento se consume\\n    print(item)\\n    \\n'"
      ]
     },
     "execution_count": 24,
     "metadata": {},
     "output_type": "execute_result"
    }
   ],
   "source": [
    "# Completar esto\n",
    "\n",
    "class Abiertos():\n",
    "    def __init__(self):\n",
    "        self.colaPrioridad = queue.PriorityQueue()\n",
    "    \n",
    "    def put(self,nodo):\n",
    "        self.colaPrioridad.put((nodo.getF(),nodo))\n",
    "    \n",
    "    # le llamamos pop porque es más facil saber que el elemento se consume\n",
    "    def pop(self):\n",
    "        return self.colaPrioridad.get()\n",
    "    \n",
    "    def empty(self):\n",
    "        return self.colaPrioridad.empty();\n",
    "    \n",
    "    # implementar este\n",
    "    def getNodo(self,estado):\n",
    "        \"Implementar\"\n",
    "        # busco el estado en colaPrioridad.queue y devuelvo todo el nodo\n",
    "        # o devuelvo None si no estaba\n",
    "    \n",
    "    # implementar este\n",
    "    def update(self,nodoViejo,nodoNuevo):\n",
    "        \"Implementar\"\n",
    "        # hago un colaPrioridad.queue.remove para quitar el viejo\n",
    "        # y un self.colaPrioridad.put para meter el nuevo\n",
    "        \n",
    "    \n",
    "    def __str__(self):\n",
    "        return str(self.colaPrioridad.queue)\n",
    "        \n",
    "\n",
    "# Descomentar para probar\n",
    "'''\n",
    "abiertos = Abiertos()\n",
    "abiertos.put(Nodo(\"A\",None,0,10))\n",
    "abiertos.put(Nodo(\"B\",\"A\",1,10))\n",
    "abiertos.put(Nodo(\"C\",\"A\",1,8))\n",
    "abiertos.put(Nodo(\"D\",\"B\",2,10))\n",
    "\n",
    "\n",
    "while not abiertos.empty():\n",
    "    item = abiertos.pop() # el elemento se consume\n",
    "    print(item)\n",
    "    \n",
    "\n",
    "abiertos.put(Nodo(\"A\",None,0,10))\n",
    "abiertos.put(Nodo(\"B\",nA,1,10))\n",
    "abiertos.put(Nodo(\"C\",nA,1,8))\n",
    "abiertos.put(Nodo(\"D\",nB,2,10))\n",
    "\n",
    "print(\"actualizo D\")\n",
    "nodoD = abiertos.getNodo(\"D\")\n",
    "print(nodoD)\n",
    "abiertos.update(nodoD,Nodo(\"D\",nA,2,8))\n",
    "print(\"abiertos\")\n",
    "\n",
    "while not abiertos.empty():\n",
    "    item = abiertos.pop() # el elemento se consume\n",
    "    print(item)\n",
    "    \n",
    "'''\n"
   ]
  }
 ],
 "metadata": {
  "anaconda-cloud": {},
  "kernelspec": {
   "display_name": "Python 3",
   "language": "python",
   "name": "python3"
  },
  "language_info": {
   "codemirror_mode": {
    "name": "ipython",
    "version": 3
   },
   "file_extension": ".py",
   "mimetype": "text/x-python",
   "name": "python",
   "nbconvert_exporter": "python",
   "pygments_lexer": "ipython3",
   "version": "3.6.2"
  }
 },
 "nbformat": 4,
 "nbformat_minor": 1
}
