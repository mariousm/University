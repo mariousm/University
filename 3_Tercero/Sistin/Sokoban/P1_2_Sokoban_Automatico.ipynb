{
 "cells": [
  {
   "cell_type": "markdown",
   "metadata": {},
   "source": [
    "# Sokoban (Modo Automático)\n",
    "\n",
    "**Lee este notebook con atención**\n",
    "\n",
    "En este notebook se carga código de notebooks anteriores, por lo que las funciones de los notebooks anteriores deberían haber sido realizadas y probadas antes de empezar con este.\n",
    "\n",
    "Este notebook constituye la segunda parte de la práctica.\n",
    "\n",
    "### ¿Que se va a hacer?\n",
    "\n",
    "Se va a usar el algoritmo A\\* para resolver el juego del sokoban.\n",
    "\n",
    "### ¿Como se va a hacer?\n",
    "\n",
    "- Se va a utilizar la implementación del A\\* realizada en el notebook \"Busqueda 2\". Si es necesario habrá que corregir la implementación del A\\* de Búsqueda 2 para que funcione.\n",
    "\n",
    "- Se van a implementar funciones para:\n",
    "    - obtener cuando un estado es meta.\n",
    "    - obtener cual es el valor heurístico de un estado.\n",
    "    - obtener los sucesores de un nodo. Para obtener los sucesores se va a utilizar la función mueve realizada en la primera parte de la práctica. \n",
    "    \n",
    "A continuación se puede ver como usando la clase **DynamicCodeLoader** se puede cargar el código de los notebooks anteriores. Este ejemplo es solo para hacer pruebas, dado que la interfaz gráfica ya integra todo.\n",
    "\n",
    "Todo el código del Notebook de la primera parte de la práctica se guarda en el módulo *model* y todo el código del Notebook de 'Búsqueda 2' se guarda en el módulo *search*"
   ]
  },
  {
   "cell_type": "code",
   "execution_count": 1,
   "metadata": {
    "collapsed": true
   },
   "outputs": [],
   "source": [
    "# Cargar Celda\n",
    "from DynamicCodeLoader import cargaCodigoDinamico\n",
    "\n",
    "# atento a los nombres que tengan tus notebook en tu PC\n",
    "model = cargaCodigoDinamico('P1_1_Sokoban_manual.ipynb',\"Model\")\n",
    "search = cargaCodigoDinamico('Búsqueda 2.ipynb',\"Search\")"
   ]
  },
  {
   "cell_type": "markdown",
   "metadata": {},
   "source": [
    "### Ejemplo 1: Crear un estado y un nivel y manipularlo\n",
    "\n",
    "Se crea un estado y un nivel usando la clase **Loader**, el método **carga_nivel**"
   ]
  },
  {
   "cell_type": "code",
   "execution_count": 2,
   "metadata": {
    "collapsed": true
   },
   "outputs": [],
   "source": [
    "# ejemplo de como se carga un nivel\n",
    "from Sokoban import Level, State\n",
    "from LoaderSokoban import Loader\n",
    "    \n",
    "l = Loader()\n",
    "l.get_all_levels()\n",
    "level_txt = open(\"./levels/\"+'level0.txt','r').read()\n",
    "level, state = l.carga_nivel(level_txt)"
   ]
  },
  {
   "cell_type": "markdown",
   "metadata": {},
   "source": [
    "A continuación el estado se manipula usando el método mueve que se definió en la primera parte de la práctica."
   ]
  },
  {
   "cell_type": "code",
   "execution_count": 3,
   "metadata": {},
   "outputs": [
    {
     "name": "stdout",
     "output_type": "stream",
     "text": [
      "[3, 3]{(3, 1)}\n",
      "False\n",
      "[4, 3]{(3, 1)}\n"
     ]
    }
   ],
   "source": [
    "# Ejemplos de Model\n",
    "print(state)\n",
    "print(model.es_meta(state.get_cajas(),level.get_destinos()))\n",
    "\n",
    "nuevoEstado = model.mueve(level,state,[1,0])\n",
    "print(nuevoEstado)\n",
    "\n",
    "\n",
    "\n"
   ]
  },
  {
   "cell_type": "code",
   "execution_count": 4,
   "metadata": {},
   "outputs": [
    {
     "name": "stdout",
     "output_type": "stream",
     "text": [
      "[3, 2]{(3, 1)}\n"
     ]
    }
   ],
   "source": [
    "# creao un estado donde la caja está junto al jugador\n",
    "\n",
    "estado = State([3,3],set([(3,2)]))\n",
    "\n",
    "estadoNuevo = model.mueve(level,estado,[0,-1])\n",
    "\n",
    "print(estadoNuevo)"
   ]
  },
  {
   "cell_type": "code",
   "execution_count": 5,
   "metadata": {},
   "outputs": [
    {
     "data": {
      "text/plain": [
       "[3, 3]{(3, 2)}"
      ]
     },
     "execution_count": 5,
     "metadata": {},
     "output_type": "execute_result"
    }
   ],
   "source": [
    "estado"
   ]
  },
  {
   "cell_type": "code",
   "execution_count": 6,
   "metadata": {
    "collapsed": true
   },
   "outputs": [],
   "source": [
    "#Prueba con set\n",
    "a = set([1,2])"
   ]
  },
  {
   "cell_type": "code",
   "execution_count": 7,
   "metadata": {
    "collapsed": true
   },
   "outputs": [],
   "source": [
    "b = a"
   ]
  },
  {
   "cell_type": "code",
   "execution_count": 8,
   "metadata": {
    "collapsed": true
   },
   "outputs": [],
   "source": [
    "c = set(a)"
   ]
  },
  {
   "cell_type": "code",
   "execution_count": 9,
   "metadata": {},
   "outputs": [
    {
     "data": {
      "text/plain": [
       "{1, 2, 5}"
      ]
     },
     "execution_count": 9,
     "metadata": {},
     "output_type": "execute_result"
    }
   ],
   "source": [
    "b.add(5)\n",
    "a"
   ]
  },
  {
   "cell_type": "code",
   "execution_count": 10,
   "metadata": {},
   "outputs": [
    {
     "data": {
      "text/plain": [
       "({1, 2, 5}, {1, 2, 6})"
      ]
     },
     "execution_count": 10,
     "metadata": {},
     "output_type": "execute_result"
    }
   ],
   "source": [
    "#Fin de pruebas con set\n",
    "c.add(6)\n",
    "a,c\n"
   ]
  },
  {
   "cell_type": "markdown",
   "metadata": {},
   "source": [
    "Se puede si se quiere visualizar el estado original y el estado manipulado de forma gráfica."
   ]
  },
  {
   "cell_type": "code",
   "execution_count": 11,
   "metadata": {},
   "outputs": [
    {
     "data": {
      "application/vnd.jupyter.widget-view+json": {
       "model_id": "c38dfd6762a54bab84bc97c4a1050c56",
       "version_major": 2,
       "version_minor": 0
      },
      "text/plain": [
       "A Jupyter Widget"
      ]
     },
     "metadata": {},
     "output_type": "display_data"
    }
   ],
   "source": [
    "# ejemplo de como se visualiza un nivel\n",
    "from UI import pinta_juegoHTML\n",
    "from ipywidgets import HTML\n",
    "\n",
    "htmlStr = pinta_juegoHTML(level, state)\n",
    "HTML(value = htmlStr)"
   ]
  },
  {
   "cell_type": "code",
   "execution_count": 12,
   "metadata": {},
   "outputs": [
    {
     "data": {
      "application/vnd.jupyter.widget-view+json": {
       "model_id": "0db4405d2a7b4daa9008511459b095d3",
       "version_major": 2,
       "version_minor": 0
      },
      "text/plain": [
       "A Jupyter Widget"
      ]
     },
     "metadata": {},
     "output_type": "display_data"
    }
   ],
   "source": [
    "htmlStr = pinta_juegoHTML(level, nuevoEstado)\n",
    "HTML(value = htmlStr)"
   ]
  },
  {
   "cell_type": "markdown",
   "metadata": {},
   "source": [
    "### Ejemplo 2: Usar el algoritmo A\\* para hacer pathfinding\n",
    "\n",
    "En el módulo *search* tenemos una implementación de A\\* y funciones y variables para hacer pathfinding.\n",
    "\n",
    "En el ejemplo de abajo, se crea un tablero, un estado inicial y un estado final.\n",
    "\n",
    "La función *creaNodoInicialPF* crea un nodo para el problema del PathFinding y además inicializa los valores de las variables globales search.estadoFinalPF y search.tablero, que se usan dentro de las funciones de heurística y sucesores.\n",
    "\n",
    "Una vez creado el nodo, se invoca a la función *search.AStar* pasandole dicho nodo y las funciones de meta, heurística y sucesores."
   ]
  },
  {
   "cell_type": "code",
   "execution_count": 13,
   "metadata": {},
   "outputs": [
    {
     "data": {
      "text/plain": [
       "'\"    \\n\\nnodoInicialPF = creaNodoInicialPF(estadoInicialPF,\\n                                  estadoFinalPF, \\n                                  tablero, \\n                                  search.heuristicaPF)\\n\\nsolucion = search.AStar(nodoInicialPF,\\n                        search.sucesoresPF, \\n                        search.es_metaPF, \\n                        search.heuristicaPF)\\nsolucion\\n'"
      ]
     },
     "execution_count": 13,
     "metadata": {},
     "output_type": "execute_result"
    }
   ],
   "source": [
    "tablero = [[1,1,1,1,1,1,1,1],\n",
    "           [1,0,0,0,0,0,0,1],\n",
    "           [1,0,1,1,0,0,0,1],\n",
    "           [1,0,1,0,0,1,1,1],\n",
    "           [1,1,1,0,1,0,0,1],\n",
    "           [1,0,1,0,0,0,0,1],\n",
    "           [1,1,1,1,1,1,1,1]]\n",
    "\n",
    "estadoInicialPF = (1,1) #y,x\n",
    "estadoFinalPF = (5,6)\n",
    "\n",
    "\n",
    "def creaNodoInicialPF(ei,ef, tab, hPF):\n",
    "    \"\"\" Crea un nodo\n",
    "    Devuelve un nodo\n",
    "    Parámetros:\n",
    "    Estado inicial\n",
    "    Estado final, necesario para calcular la heurística\n",
    "    Tablero: necesario en la función de sucesores\n",
    "    Heurística, necesaria para calcular la F.\n",
    "    \"\"\"    \n",
    "    search.estadoFinalPF = ef \n",
    "    search.tablero = tab\n",
    "    \n",
    "    return search.Nodo(ei,None,0,hPF(ei))\n",
    "    \n",
    "\"\"\"\"    \n",
    "\n",
    "nodoInicialPF = creaNodoInicialPF(estadoInicialPF,\n",
    "                                  estadoFinalPF, \n",
    "                                  tablero, \n",
    "                                  search.heuristicaPF)\n",
    "\n",
    "solucion = search.AStar(nodoInicialPF,\n",
    "                        search.sucesoresPF, \n",
    "                        search.es_metaPF, \n",
    "                        search.heuristicaPF)\n",
    "solucion\n",
    "\"\"\""
   ]
  },
  {
   "cell_type": "markdown",
   "metadata": {},
   "source": [
    "## Que se necesita para resolver el Sokoban usando A\\*\n",
    "\n",
    "Se necesita:\n",
    "- Crear un nodo (proporcionado por el profesor)\n",
    "- Saber cuando un estado es meta (proporcionado por el profesor)\n",
    "- Función heurística (**Implementado por el alumno**)\n",
    "- Función de sucesores (**Implementado por el alumno**)\n"
   ]
  },
  {
   "cell_type": "markdown",
   "metadata": {},
   "source": [
    "#### Crear un nodo\n",
    "\n",
    "La función *nodo_inicial_Sokoban* crea un nodo inicial se Sokoban con el estado y el nivel especificado. Usa fH para calcular el valor heurístico.\n",
    "\n",
    "Además inicializa:\n",
    "- nivel_global. Una variable global que puede ser usada por las funciones de meta, de hurística y de sucesores\n",
    "- num_evaluados. Una variable que lleva la cuenta del número de nodos evaluados."
   ]
  },
  {
   "cell_type": "code",
   "execution_count": 14,
   "metadata": {
    "collapsed": true
   },
   "outputs": [],
   "source": [
    "# Cargar Celda\n",
    "num_evaluados = 0\n",
    "coste_total = 0\n",
    "\n",
    "\n",
    "def nodo_inicial_Sokoban(nivel,estado,fH):\n",
    "    \"\"\" Crea un nodo de sokoban\n",
    "    Devuelve un nodo\n",
    "    Parámetros:\n",
    "    nivel que contiene el tablero y los destinos\n",
    "    estado inicial que contiene el jugador y las cajas\n",
    "    fH heurística usada para calcular la F.\n",
    "    \"\"\" \n",
    "    \n",
    "    \n",
    "    global nivel_global \n",
    "    global num_evaluados\n",
    "    nivel_global= nivel\n",
    "    num_evaluados = 0 # reinicio el número de evaluados\n",
    "    \n",
    "    nodoInicial = search.Nodo(estado,None,0,fH(estado))\n",
    "    \n",
    "    return nodoInicial\n",
    "\n",
    "\n"
   ]
  },
  {
   "cell_type": "markdown",
   "metadata": {},
   "source": [
    "#### Saber cuando es meta\n",
    "\n",
    "La función *meta_Sokoban* toma un nodo y va a devolver True si dicho nodo contiene un estado meta (todas las cajas están sobre los destinos, reutiliza es_meta de la primera parte).\n",
    "\n",
    "Además si es meta recupera el valor de G (el coste), para saber el coste de la solución.\n"
   ]
  },
  {
   "cell_type": "code",
   "execution_count": 15,
   "metadata": {
    "collapsed": true
   },
   "outputs": [],
   "source": [
    "# Cargar Celda\n",
    "\n",
    "\n",
    "\n",
    "def meta_Sokoban(nodo):\n",
    "    \"\"\" Consulta si un nodo contiene un estado meta\n",
    "    Devuelve True si es meta\n",
    "    Parámetros:\n",
    "    nodo a evaluar\n",
    "    \"\"\" \n",
    "    \n",
    "    global nivel_global\n",
    "    global coste_total\n",
    "    \n",
    "    estado = nodo.getEstado()\n",
    "    \n",
    "    es_meta = model.es_meta(estado.get_cajas(),nivel_global.get_destinos())\n",
    "    if es_meta:\n",
    "        coste_total = nodo.getG()\n",
    "        \n",
    "\n",
    "    return es_meta"
   ]
  },
  {
   "cell_type": "markdown",
   "metadata": {},
   "source": [
    "#### Calcular valor heurístico\n",
    "\n",
    "**(A implementar por los alumnos)**\n",
    "\n",
    "Esta función tiene que devolver un valor númerico que estime los movimientos que faltan para llegar a la meta.\n",
    "\n",
    "Ejemplos:\n",
    "- $f_0$ Devuelve siempre 0. Es minorate, así que encontraría el camino más corto.\n",
    "- $f_1$ Devuelve el número de cajas. Es minorante, supone que se puede llevar una caja a su destino con solo un movimiento\n",
    "- $f_2$ Devuelve número de cajas multiplicado por la distancia mínima entre una caja y un destino. Es minorante, supone que vamos a poder empujar las cajas en cualquier dirección.\n",
    "- $f_3$ Devuelve la suma de distancias de manhatan desde cada caja a su destino más cercano. Es minorante, supone que vamos a poder empujar las cajas en cualquier dirección.\n",
    "\n",
    "$f_0 < f_1 < f_2 < f_3$\n",
    "\n",
    "Cuanto mayor sea el valor heurístico menos nodos se explorarán y encontrará el camino mínimo siempre que sea minorante.\n"
   ]
  },
  {
   "cell_type": "code",
   "execution_count": 16,
   "metadata": {
    "collapsed": true
   },
   "outputs": [],
   "source": [
    "# Cargar Celda\n",
    "def heuristica_Sokoban(estado):\n",
    "    \"\"\" Evalua el coste estimado desde un estado hasta la meta\n",
    "    Devuelve un número positivo mayor que 0\n",
    "    Parámetros:\n",
    "    estado a evaluar\n",
    "    \"\"\" \n",
    "    \n",
    "    global nivel_global\n",
    "    # cada vez que se invoca la heurística se incrementa en 1 el número de nodos evaluados\n",
    "    global num_evaluados\n",
    "    num_evaluados+=1\n",
    "    \n",
    "    # implementación de la heurística abajo\n",
    "    # descomenta la heuristica que quieras usar\n",
    "    return heuristica_Sokoban3(estado)\n",
    "    #return heuristica_Sokoban0(estado)\n",
    "    #return heuristica_Sokoban1(estado)\n",
    "    #return heuristica_Sokoban2(estado)"
   ]
  },
  {
   "cell_type": "code",
   "execution_count": 17,
   "metadata": {
    "collapsed": true
   },
   "outputs": [],
   "source": [
    "# Cargar Celda\n",
    "def heuristica_Sokoban3(estado):\n",
    "    \"\"\" Evalua el coste estimado desde un estado hasta la meta\n",
    "    Devuelve un número positivo mayor que 0\n",
    "    Parámetros:\n",
    "    estado a evaluar\n",
    "    \"\"\"\n",
    "    \n",
    "    # implementación de la heurística abajo\n",
    "    cajas = estado.get_cajas()\n",
    "    destinos = nivel_global.get_destinos()\n",
    "    manhattan = 0\n",
    "    for caja in cajas:\n",
    "        x,y = caja\n",
    "        manhattanp=999\n",
    "        for destino in destinos:\n",
    "            xd,yd=destino\n",
    "            if manhattanp > abs(x-xd)+abs(y-yd):\n",
    "                manhattanp = abs(x-xd)+abs(y-yd)\n",
    "        manhattan+=manhattanp\n",
    "    return manhattan"
   ]
  },
  {
   "cell_type": "code",
   "execution_count": 18,
   "metadata": {
    "collapsed": true
   },
   "outputs": [],
   "source": [
    "# Cargar Celda\n",
    "def heuristica_Sokoban2(estado):\n",
    "    \"\"\" Evalua el coste estimado desde un estado hasta la meta\n",
    "    Devuelve un número positivo mayor que 0\n",
    "    Parámetros:\n",
    "    estado a evaluar\n",
    "    \"\"\"\n",
    "    \n",
    "    # implementación de la heurística abajo\n",
    "    cajas = estado.get_cajas()\n",
    "    destinos = nivel_global.get_destinos()\n",
    "    distanciamin = 999\n",
    "    distanciaact = 0\n",
    "    for caja in cajas:\n",
    "        x,y=caja\n",
    "        for destino in destinos:\n",
    "            xd,yd=destino\n",
    "            distanciaact=abs(x-xd)+abs(y-yd)\n",
    "            if distanciaact < distanciamin:\n",
    "                distanciamin = distanciaact\n",
    "                \n",
    "    return len(cajas-destinos)*distanciamin"
   ]
  },
  {
   "cell_type": "code",
   "execution_count": 19,
   "metadata": {
    "collapsed": true
   },
   "outputs": [],
   "source": [
    "# Cargar Celda\n",
    "def heuristica_Sokoban1(estado):\n",
    "    \"\"\" Evalua el coste estimado desde un estado hasta la meta\n",
    "    Devuelve un número positivo mayor que 0\n",
    "    Parámetros:\n",
    "    estado a evaluar\n",
    "    \"\"\" \n",
    "    \n",
    "    # implementación de la heurística abajo\n",
    "    cajas = estado.get_cajas()\n",
    "    destinos = nivel_global.get_destinos()\n",
    "    return len(cajas-destinos)"
   ]
  },
  {
   "cell_type": "code",
   "execution_count": 20,
   "metadata": {
    "collapsed": true
   },
   "outputs": [],
   "source": [
    "# Cargar Celda\n",
    "def heuristica_Sokoban0(estado):\n",
    "    \"\"\" Evalua el coste estimado desde un estado hasta la meta\n",
    "    Devuelve un número positivo mayor que 0\n",
    "    Parámetros:\n",
    "    estado a evaluar\n",
    "    \"\"\" \n",
    "    \n",
    "    return 0"
   ]
  },
  {
   "cell_type": "markdown",
   "metadata": {},
   "source": [
    "#### Crear sucesores\n",
    "\n",
    "Esta función debería de crear nodos sucesores. Siguiendo una de estas dos estrategías:\n",
    "\n",
    "Opción sencilla:\n",
    "- Habría un máximo de 4 sucesores, el resultado de ejecutar los movimientos arriba, abajo, derecha o izquierda, si alguno de los movimientos no se puede ejecutar habría menos de 4 sucesores.\n",
    "\n",
    "Opción avanzada (ver pdf)\n",
    "- Habría 2 tipos de sucesores:\n",
    "    - Sucesores empujar\n",
    "    - Sucesores colocarse\n",
    "Si se puede empujar se empuja y sino se mueve a alguna casilla adyacente a una caja para la que exista un camino (pathfinding). De esta manera no se exploran estados intermedios en los que no existe ni la posibilidad de empujar una caja."
   ]
  },
  {
   "cell_type": "code",
   "execution_count": 21,
   "metadata": {
    "collapsed": true
   },
   "outputs": [],
   "source": [
    "# Cargar Celda\n",
    "\n",
    "def sucesores_Sokoban(nodo,hSoc):\n",
    "    global nivel_global\n",
    "    estado = nodo.getEstado()\n",
    "    g = nodo.getG()\n",
    "    hijos = []\n",
    "    coordenadas =([1,0],[-1,0],[0,1],[0,-1])\n",
    "    for coord in coordenadas:\n",
    "        estadoNuevo=model.mueve(nivel_global,estado,coord)\n",
    "        if not estadoNuevo == estado:\n",
    "            hijos.append(search.Nodo(estadoNuevo,nodo,g+1,hSoc(estadoNuevo)+g)) \n",
    "    \n",
    "    \n",
    "    return hijos\n",
    "\n",
    "\n"
   ]
  },
  {
   "cell_type": "code",
   "execution_count": 22,
   "metadata": {
    "collapsed": true
   },
   "outputs": [],
   "source": [
    "# Cargar Celda\n",
    "\n",
    "# Crea tantas celdas como necesites, si son funciones necesarias\n",
    "# para el juego deberán empezar por Cargar Celda\n"
   ]
  },
  {
   "cell_type": "markdown",
   "metadata": {},
   "source": [
    "### Probando las funciones\n",
    "\n",
    "La manera de probar las funciones es igual que en la primera parte de la práctica.\n",
    "\n",
    "Se carga un nivel donde tengamos la partida que queremos probar."
   ]
  },
  {
   "cell_type": "code",
   "execution_count": 23,
   "metadata": {
    "collapsed": true
   },
   "outputs": [],
   "source": [
    "level_txt = open(\"./levels/\"+'level1.txt','r').read()\n",
    "level1, state1 = l.carga_nivel(level_txt)\n"
   ]
  },
  {
   "cell_type": "markdown",
   "metadata": {},
   "source": [
    "Se usa el estado y el nivel para para crear un Nodo."
   ]
  },
  {
   "cell_type": "code",
   "execution_count": 24,
   "metadata": {},
   "outputs": [
    {
     "data": {
      "text/plain": [
       "Nodo [3, 3]{(1, 2), (3, 2)}(4)"
      ]
     },
     "execution_count": 24,
     "metadata": {},
     "output_type": "execute_result"
    }
   ],
   "source": [
    "nodoInicial = nodo_inicial_Sokoban(level1,state1,heuristica_Sokoban)    \n",
    "nodoInicial\n",
    "\n"
   ]
  },
  {
   "cell_type": "markdown",
   "metadata": {},
   "source": [
    "Después de crear el nodo inicial se pueden probar las funciones.\n",
    "**Siempre hay que crear un nodo inicial**"
   ]
  },
  {
   "cell_type": "code",
   "execution_count": 25,
   "metadata": {},
   "outputs": [
    {
     "data": {
      "text/plain": [
       "[Nodo [4, 3]{(1, 2), (3, 2)}(4),\n",
       " Nodo [2, 3]{(1, 2), (3, 2)}(4),\n",
       " Nodo [3, 4]{(1, 2), (3, 2)}(4),\n",
       " Nodo [3, 2]{(1, 2), (3, 1)}(3)]"
      ]
     },
     "execution_count": 25,
     "metadata": {},
     "output_type": "execute_result"
    }
   ],
   "source": [
    "sucesores = sucesores_Sokoban(nodoInicial,heuristica_Sokoban)\n",
    "sucesores"
   ]
  },
  {
   "cell_type": "code",
   "execution_count": 26,
   "metadata": {},
   "outputs": [
    {
     "data": {
      "text/plain": [
       "False"
      ]
     },
     "execution_count": 26,
     "metadata": {},
     "output_type": "execute_result"
    }
   ],
   "source": [
    "meta = meta_Sokoban(nodoInicial)\n",
    "meta"
   ]
  },
  {
   "cell_type": "code",
   "execution_count": 27,
   "metadata": {},
   "outputs": [
    {
     "data": {
      "text/plain": [
       "4"
      ]
     },
     "execution_count": 27,
     "metadata": {},
     "output_type": "execute_result"
    }
   ],
   "source": [
    "heuristica = heuristica_Sokoban(state1)\n",
    "heuristica"
   ]
  },
  {
   "cell_type": "markdown",
   "metadata": {},
   "source": [
    "Podemos probar el A\\* en su conjunto de la siguiente forma:"
   ]
  },
  {
   "cell_type": "code",
   "execution_count": 28,
   "metadata": {},
   "outputs": [
    {
     "name": "stdout",
     "output_type": "stream",
     "text": [
      "Solución \n",
      "[3, 3]{(1, 2), (3, 2)}\n",
      "[4, 3]{(1, 2), (3, 2)}\n",
      "[4, 2]{(1, 2), (3, 2)}\n",
      "[4, 1]{(1, 2), (3, 2)}\n",
      "[3, 1]{(1, 2), (3, 2)}\n",
      "[3, 2]{(1, 2), (3, 3)}\n",
      "[3, 3]{(1, 2), (3, 4)}\n",
      "[4, 3]{(1, 2), (3, 4)}\n",
      "[4, 4]{(1, 2), (3, 4)}\n",
      "[3, 4]{(1, 2), (2, 4)}\n",
      "[2, 4]{(1, 2), (1, 4)}\n",
      "[2, 3]{(1, 2), (1, 4)}\n",
      "[1, 3]{(1, 2), (1, 4)}\n",
      "[1, 2]{(1, 1), (1, 4)}\n",
      "Nodos evaluados  507\n",
      "Coste de la solución  13\n"
     ]
    }
   ],
   "source": [
    "solucion = search.AStar(nodoInicial,sucesores_Sokoban, meta_Sokoban, heuristica_Sokoban)\n",
    "print(\"Solución \")\n",
    "for estad in solucion:\n",
    "    print(estad)\n",
    "print(\"Nodos evaluados \",num_evaluados)\n",
    "print(\"Coste de la solución \",coste_total)"
   ]
  },
  {
   "cell_type": "markdown",
   "metadata": {},
   "source": [
    "Podriamos visualizar la solución de manera gráfica así:"
   ]
  },
  {
   "cell_type": "code",
   "execution_count": 29,
   "metadata": {},
   "outputs": [
    {
     "data": {
      "application/vnd.jupyter.widget-view+json": {
       "model_id": "1a9250ba243840f78b850d0bea236afb",
       "version_major": 2,
       "version_minor": 0
      },
      "text/plain": [
       "A Jupyter Widget"
      ]
     },
     "metadata": {},
     "output_type": "display_data"
    }
   ],
   "source": [
    "# mejor en chrome\n",
    "from ipywidgets import VBox, Label\n",
    "\n",
    "htmls = []\n",
    "for est in solucion:\n",
    "    htmlStr = pinta_juegoHTML(level1, est) # estoy cargando el mapa1\n",
    "    htmls.append(HTML(value = htmlStr))\n",
    "\n",
    "\n",
    "from ipywidgets import Layout, Button, Box\n",
    "\n",
    "box_layout = Layout(overflow_x='scroll',width='310px',height='',flex_direction='row',display='flex')\n",
    "carousel = Box(children=htmls, layout=box_layout)\n",
    "VBox([carousel])"
   ]
  },
  {
   "cell_type": "markdown",
   "metadata": {},
   "source": [
    "Una vez hayas implementado y probado las funciones, trata de ejecutar el juego.\n",
    "\n",
    "El Mediador que es la clase que sirve de enganche entre las clases de interfaz y la funcionalidad, leerá las celdas que empiezan por \"# Cargar Celda\", cargará esas funciones dinámicamente y las usará para mover y comprobar si la partida finaliza."
   ]
  },
  {
   "cell_type": "code",
   "execution_count": 30,
   "metadata": {},
   "outputs": [
    {
     "data": {
      "application/vnd.jupyter.widget-view+json": {
       "model_id": "b8009adc40cb45f4a67b0abca2198305",
       "version_major": 2,
       "version_minor": 0
      },
      "text/plain": [
       "A Jupyter Widget"
      ]
     },
     "metadata": {},
     "output_type": "display_data"
    }
   ],
   "source": [
    "from IPython.display import display\n",
    "from Mediador import Mediator\n",
    "from UI import gui\n",
    "\n",
    "import warnings\n",
    "warnings.filterwarnings(\"ignore\")\n",
    "ui = gui(manual = False)\n",
    "ui_elements = ui.get_ui_elements()\n",
    "\n",
    "# atento a los nombres que tengan tus notebook\n",
    "med = Mediator.get_instance(modelPath = 'P1_1_Sokoban_manual.ipynb',aStarPath = 'Búsqueda 2.ipynb',nodesPath = \"P1_2_Sokoban_Automatico.ipynb\")   \n",
    "med.register_ui(ui_elements)\n",
    "\n",
    "\n",
    "\n",
    "display(ui_elements)"
   ]
  },
  {
   "cell_type": "code",
   "execution_count": null,
   "metadata": {
    "collapsed": true
   },
   "outputs": [],
   "source": []
  },
  {
   "cell_type": "code",
   "execution_count": null,
   "metadata": {
    "collapsed": true
   },
   "outputs": [],
   "source": []
  },
  {
   "cell_type": "code",
   "execution_count": null,
   "metadata": {
    "collapsed": true
   },
   "outputs": [],
   "source": []
  }
 ],
 "metadata": {
  "kernelspec": {
   "display_name": "Python 3",
   "language": "python",
   "name": "python3"
  },
  "language_info": {
   "codemirror_mode": {
    "name": "ipython",
    "version": 3
   },
   "file_extension": ".py",
   "mimetype": "text/x-python",
   "name": "python",
   "nbconvert_exporter": "python",
   "pygments_lexer": "ipython3",
   "version": "3.6.2"
  },
  "widgets": {
   "state": {
    "042bada4e434454aaa908b25461e3531": {
     "views": [
      {
       "cell_index": 6
      }
     ]
    },
    "70d5bfdaf81b4f57ba5f3ab63745e01f": {
     "views": [
      {
       "cell_index": 6
      }
     ]
    },
    "ae0d245cc8874fb6951e921b363d8c61": {
     "views": [
      {
       "cell_index": 6
      }
     ]
    },
    "cb210eb6fe2d4689bd59da4880bb4db2": {
     "views": [
      {
       "cell_index": 4
      }
     ]
    }
   },
   "version": "1.2.0"
  }
 },
 "nbformat": 4,
 "nbformat_minor": 2
}
