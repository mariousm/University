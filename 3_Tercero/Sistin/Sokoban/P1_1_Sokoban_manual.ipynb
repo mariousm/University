{
 "cells": [
  {
   "cell_type": "markdown",
   "metadata": {},
   "source": [
    "# Sokoban. Organización del código en clases\n",
    "\n",
    "\n",
    "En esta primera parte de la práctica se va a estructurar el código de las funciones básicas en clases para:\n",
    "- Poder interactuar con las clases del profesor que controlan el flujo del juego.\n",
    "- Dejar el código listo para su adaptación al modo automático usando A\\*\n",
    "\n",
    "El juego tiene dos partes:\n",
    "- Una parte funcional formada por:\n",
    "    - Estado: Los elementos del juego que van a variar (jugador y cajas)\n",
    "    - Nivel: Los elementos que partenecen estáticos (tablero y destinos)\n",
    "    - Modelo: La clase que contiene la lógica del juego, como se manipulan los estados, cuando se gana etc.\n",
    "- Una parte auxiliar formada por clases y funciones para hacer más atractivo el juego como cargar niveles, representarlos gráficamente, interactuar con el juego usando una interfaz gráfica etc.\n",
    "\n",
    "\n",
    "El profesor proporciona:\n",
    "- Este notebook con las explicaciones y el *main* \n",
    "- La clase *ui* que implementa los controles (botones, desplegables, representación visual del juego)\n",
    "- *Loader*: La clase que carga un nivel a partir de un fichero de texto y devuelve un objeto *State* y otro *Level*\n",
    "- La clase *Mediator* que pone en contacto los componentes gráficos entre si y utiliza los métodos de la clase *State*, *Level*, *Model* la clase *Loader*\n",
    "- *State*: Funciones para la construcción y consulta de estados (jugador, cajas). Modulo Sokoban\n",
    "- *Level*: Funciones para la construcción consulta de niveles (tablero, destinos). Modulo Sokoban\n",
    "\n",
    "El alumno debe completar la implementación de las clases:\n",
    "\n",
    "- *Model*: Funciones para la comprobación de casillas libres y validas, efectuar movimientos, comprobar ganador etc\n"
   ]
  },
  {
   "cell_type": "markdown",
   "metadata": {},
   "source": [
    "La clase State\n",
    "- tiene un constructor que recibe el jugador y las cajas\n",
    "- tiene un método **get_jugador** que devuelve el jugador\n",
    "- tiene un método **get_cajas** que devuelve las cajas\n",
    "- tiene un método **\\_\\_str\\_\\_** que permite obtener la representación en modo texto del objeto yun método **\\_\\_repr\\_\\_** equivalente"
   ]
  },
  {
   "cell_type": "markdown",
   "metadata": {},
   "source": [
    "La clase Level\n",
    "- tiene un constructor que recibe el tablero y los destinos\n",
    "- tiene un método **get_tablero** que devuelve el tablero\n",
    "- tiene un método **get_destinos** que devuelve los destinos\n",
    "- tiene un método **\\_\\_str\\_\\_** que permite obtener la representación en modo texto del objeto yun método **\\_\\_repr\\_\\_** equivalente"
   ]
  },
  {
   "cell_type": "code",
   "execution_count": 1,
   "metadata": {
    "collapsed": true
   },
   "outputs": [],
   "source": [
    "# Cargar Celda\n",
    "# No tocar esta primera linea\n",
    "\n",
    "# Completa las funciones de esta celda y pruebalas en celdas posteriores\n",
    "from Sokoban import Level, State\n",
    "\n",
    "        \n",
    "def es_valida(tablero,coord):\n",
    "    \"\"\" Comprueba si una casilla es válida.\n",
    "\n",
    "    Devuelve True si una casilla está no tiene obstáculos y está dentro del tablero\n",
    "\n",
    "    Parámetros:\n",
    "    Coordenadas de la casilla a comprobar\n",
    "    \"\"\"\n",
    "    x=coord[0]\n",
    "    y=coord[1]\n",
    "    alto = len(tablero)\n",
    "    ancho = len(tablero[0])\n",
    "    \n",
    "    if (y>0 and y<alto) and (x>0 and x<ancho):\n",
    "        if tablero[x][y]==0:\n",
    "            return True\n",
    "    return False\n",
    "\n",
    "def es_libre(tablero,cajas,coord):\n",
    "    \"\"\" Comprueba si una casilla esta libre.\n",
    "    Devuelve True si una casilla es valida y además no tiene una caja\n",
    "    Parámetros:\n",
    "    Coordenadas de la casilla a comprobar\n",
    "    \"\"\" \n",
    "    if (es_valida(tablero,coord) and (not tuple(coord) in cajas)):\n",
    "        return True\n",
    "    return False\n",
    "    \n",
    "    \n",
    "def es_meta(cajas,destinos):\n",
    "    \"\"\" Comprueba si un estado está en situación de meta.\n",
    "    Es decir si todas las cajas están en un destino\n",
    "\n",
    "    Devuelve True si es meta\n",
    "\n",
    "    Parámetros: \n",
    "    Ninguno\n",
    "    \"\"\"\n",
    "    return cajas == destinos\n",
    "\n",
    "\n",
    "\n",
    "def mueve(nivel,estado,mov):\n",
    "    \"\"\" Mueve un estado aplicando un determinado movimiento\n",
    "    [1,0] abajo, [-1,0] arriba, [0,1] derecha, [0,-1] izquierda\n",
    "    Devuelve un estado modificado o el mismo si el estado no era posible\n",
    "    \n",
    "    Parámetros: \n",
    "    \n",
    "    mov - dirección del movimiento\n",
    "    \"\"\"\n",
    "    cajas = set(estado.get_cajas())\n",
    "    jugador = estado.get_jugador()\n",
    "    \n",
    "    cajasN = mueveCajas(nivel.get_tablero(),cajas,jugador,mov)\n",
    "    jugadorN = mueveJugador(nivel.get_tablero(),cajasN,jugador,mov)\n",
    "    \n",
    "    \n",
    "    return State(jugadorN,cajasN)\n",
    "    \n",
    "    \n",
    "def mueveJugador(tablero,cajas,jugador,mov):\n",
    "    \"\"\" Mueve el jugador\n",
    "    [1,0] abajo, [-1,0] arriba, [0,1] derecha, [0,-1] izquierda\n",
    "\n",
    "    Devuelve un jugador modificado o el mismo si el estado no era posible\n",
    "\n",
    "    Parámetros: \n",
    "    mov - dirección del movimiento\n",
    "    \"\"\"\n",
    "    jugadorModificado = [jugador[0]+mov[0], jugador[1]+mov[1]]\n",
    "    if es_libre(tablero,cajas,jugadorModificado):\n",
    "        return jugadorModificado\n",
    "    return jugador\n",
    "\n",
    "\n",
    "def mueveCajas(tablero,cajas,jugador,mov):\n",
    "    \"\"\" Mueve las cajas\n",
    "    [1,0] abajo, [-1,0] arriba, [0,1] derecha, [0,-1] izquierda\n",
    "\n",
    "    Devuelve un nuevo set de cajas con las cajas actualizadas \n",
    "    o una copia si el movimiento no era válido\n",
    "        \n",
    "    Parámetros: \n",
    "    mov - dirección del movimiento\n",
    "    \"\"\"\n",
    "    jugadorEnCaja = [jugador[0]+mov[0], jugador[1]+mov[1]]\n",
    "    if tuple(jugadorEnCaja) in cajas:\n",
    "        cajaModificada = [jugadorEnCaja[0]+mov[0], jugadorEnCaja[1]+mov[1]]\n",
    "        if es_libre(tablero,cajas,cajaModificada):\n",
    "            cajas.discard(tuple(jugadorEnCaja))\n",
    "            cajas.add(tuple(cajaModificada))\n",
    "            #mueveJugador(tablero,cajas,jugador,mov))\n",
    "            return cajas\n",
    "        else :\n",
    "            return cajas\n",
    "    return cajas"
   ]
  },
  {
   "cell_type": "code",
   "execution_count": 2,
   "metadata": {
    "collapsed": true
   },
   "outputs": [],
   "source": [
    "# ejemplo de como se carga un nivel\n",
    "from LoaderSokoban import Loader\n",
    "    \n",
    "l = Loader()\n",
    "l.get_all_levels()\n",
    "level_txt = open(\"./levels/\"+'level0.txt','r').read()\n",
    "level, state = l.carga_nivel(level_txt)"
   ]
  },
  {
   "cell_type": "code",
   "execution_count": 3,
   "metadata": {},
   "outputs": [
    {
     "data": {
      "application/vnd.jupyter.widget-view+json": {
       "model_id": "1fa5ab01a103456281229851c8507b05",
       "version_major": 2,
       "version_minor": 0
      },
      "text/plain": [
       "A Jupyter Widget"
      ]
     },
     "metadata": {},
     "output_type": "display_data"
    }
   ],
   "source": [
    "# ejemplo de como se visualiza un nivel\n",
    "from UI import pinta_juegoHTML\n",
    "from ipywidgets import HTML\n",
    "\n",
    "htmlStr = pinta_juegoHTML(level, state)\n",
    "HTML(value = htmlStr)"
   ]
  },
  {
   "cell_type": "code",
   "execution_count": null,
   "metadata": {
    "collapsed": true
   },
   "outputs": [],
   "source": []
  },
  {
   "cell_type": "code",
   "execution_count": 4,
   "metadata": {},
   "outputs": [
    {
     "name": "stdout",
     "output_type": "stream",
     "text": [
      "{(2, 1)}\n"
     ]
    }
   ],
   "source": [
    "# Pon a continuación tantas pruebas como sea necesario\n",
    "\n",
    "# ejemplo de prueba con un mapa con dos cajas, una se mueve y otra no\n",
    "\n",
    "t = level.get_tablero()\n",
    "c = state.get_cajas()\n",
    "d = level.get_destinos()\n",
    "j = state.get_jugador()\n",
    "\n",
    "#print(es_valida(t,[4,3]))\n",
    "#print(es_libre(t,c,[3,1]))\n",
    "#print(es_meta([1,1],d))\n",
    "\n",
    "#print(mueveJugador(t,c,j,[-1,0]))\n",
    "print(mueveCajas(t,c,[4,1],[-1,0]))"
   ]
  },
  {
   "cell_type": "code",
   "execution_count": 5,
   "metadata": {},
   "outputs": [
    {
     "data": {
      "text/plain": [
       "{(1, 2), (1, 3)}"
      ]
     },
     "execution_count": 5,
     "metadata": {},
     "output_type": "execute_result"
    }
   ],
   "source": [
    "j = [1,1]\n",
    "c = set([(1,2),(1,3)])\n",
    "\n",
    "mueveCajas(t,c,j,[0,1])"
   ]
  },
  {
   "cell_type": "code",
   "execution_count": 6,
   "metadata": {},
   "outputs": [
    {
     "name": "stdout",
     "output_type": "stream",
     "text": [
      "[1, 1]{(1, 2), (1, 3)}\n"
     ]
    },
    {
     "data": {
      "text/plain": [
       "[1, 1]{(1, 2), (1, 3)}"
      ]
     },
     "execution_count": 6,
     "metadata": {},
     "output_type": "execute_result"
    }
   ],
   "source": [
    "est = State(j,c)\n",
    "print(est)\n",
    "mueve(level,est,[0,1])"
   ]
  },
  {
   "cell_type": "code",
   "execution_count": null,
   "metadata": {
    "collapsed": true
   },
   "outputs": [],
   "source": []
  },
  {
   "cell_type": "code",
   "execution_count": 7,
   "metadata": {},
   "outputs": [
    {
     "data": {
      "text/plain": [
       "[1, 1]{(1, 2), (1, 3)}"
      ]
     },
     "execution_count": 7,
     "metadata": {},
     "output_type": "execute_result"
    }
   ],
   "source": [
    "est"
   ]
  },
  {
   "cell_type": "markdown",
   "metadata": {},
   "source": [
    "Una vez hayas implementado y probado las funciones, trata de ejecutar el juego.\n",
    "\n",
    "El Mediador que es la clase que sirve de enganche entre las clases de interfaz y la funcionalidad, leerá las celdas que empiezan por \"# Cargar Celda\", cargará esas funciones dinámicamente y las usará para mover y comprobar si la partida finaliza."
   ]
  },
  {
   "cell_type": "code",
   "execution_count": 8,
   "metadata": {},
   "outputs": [
    {
     "data": {
      "application/vnd.jupyter.widget-view+json": {
       "model_id": "55a4b6b1475d4ae1abb17df3210b736e",
       "version_major": 2,
       "version_minor": 0
      },
      "text/plain": [
       "A Jupyter Widget"
      ]
     },
     "metadata": {},
     "output_type": "display_data"
    }
   ],
   "source": [
    "from IPython.display import display\n",
    "from Mediador import Mediator\n",
    "from UI import gui\n",
    "\n",
    "import warnings\n",
    "warnings.filterwarnings(\"ignore\")\n",
    "ui = gui(manual = True)\n",
    "ui_elements = ui.get_ui_elements()\n",
    "\n",
    "med = Mediator.get_instance(modelPath = \"P1_1_Sokoban_manual.ipynb\")   \n",
    "med.register_ui(ui_elements)\n",
    "\n",
    "\n",
    "\n",
    "display(ui_elements)"
   ]
  },
  {
   "cell_type": "code",
   "execution_count": null,
   "metadata": {
    "collapsed": true
   },
   "outputs": [],
   "source": []
  },
  {
   "cell_type": "code",
   "execution_count": null,
   "metadata": {
    "collapsed": true
   },
   "outputs": [],
   "source": []
  },
  {
   "cell_type": "code",
   "execution_count": null,
   "metadata": {
    "collapsed": true
   },
   "outputs": [],
   "source": []
  },
  {
   "cell_type": "code",
   "execution_count": null,
   "metadata": {
    "collapsed": true
   },
   "outputs": [],
   "source": []
  },
  {
   "cell_type": "code",
   "execution_count": null,
   "metadata": {
    "collapsed": true
   },
   "outputs": [],
   "source": []
  },
  {
   "cell_type": "code",
   "execution_count": null,
   "metadata": {
    "collapsed": true
   },
   "outputs": [],
   "source": []
  }
 ],
 "metadata": {
  "kernelspec": {
   "display_name": "Python 3",
   "language": "python",
   "name": "python3"
  },
  "language_info": {
   "codemirror_mode": {
    "name": "ipython",
    "version": 3
   },
   "file_extension": ".py",
   "mimetype": "text/x-python",
   "name": "python",
   "nbconvert_exporter": "python",
   "pygments_lexer": "ipython3",
   "version": "3.6.2"
  },
  "widgets": {
   "state": {
    "042bada4e434454aaa908b25461e3531": {
     "views": [
      {
       "cell_index": 6
      }
     ]
    },
    "70d5bfdaf81b4f57ba5f3ab63745e01f": {
     "views": [
      {
       "cell_index": 6
      }
     ]
    },
    "ae0d245cc8874fb6951e921b363d8c61": {
     "views": [
      {
       "cell_index": 6
      }
     ]
    },
    "cb210eb6fe2d4689bd59da4880bb4db2": {
     "views": [
      {
       "cell_index": 4
      }
     ]
    }
   },
   "version": "1.2.0"
  }
 },
 "nbformat": 4,
 "nbformat_minor": 2
}
